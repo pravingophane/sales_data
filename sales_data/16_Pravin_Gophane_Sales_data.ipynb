{
 "cells": [
  {
   "cell_type": "code",
   "execution_count": 1,
   "id": "417b70c4",
   "metadata": {},
   "outputs": [],
   "source": [
    "import numpy as np\n",
    "import pandas as pd\n",
    "\n",
    "# visualization libraries\n",
    "import seaborn as sns\n",
    "import matplotlib.pyplot as plt\n",
    "\n",
    "from statsmodels.stats.outliers_influence import variance_inflation_factor\n",
    "from sklearn.linear_model import LinearRegression\n",
    "from sklearn.model_selection import train_test_split\n",
    "from sklearn.metrics import mean_squared_error,mean_absolute_error,r2_score\n",
    "\n",
    "from sklearn import preprocessing\n",
    "from sklearn.preprocessing import LabelEncoder,OneHotEncoder\n",
    "\n",
    "# to avoid the warnings\n",
    "import warnings\n",
    "warnings.filterwarnings('ignore')"
   ]
  },
  {
   "cell_type": "markdown",
   "id": "f7ac9091",
   "metadata": {},
   "source": [
    "# 1. Problem Statement"
   ]
  },
  {
   "cell_type": "raw",
   "id": "0dde34d0",
   "metadata": {},
   "source": [
    "To predict the sales of the product In the Specific outlet"
   ]
  },
  {
   "cell_type": "markdown",
   "id": "7aa31be5",
   "metadata": {},
   "source": [
    "# 2. Data Gathering"
   ]
  },
  {
   "cell_type": "code",
   "execution_count": 2,
   "id": "fa4c4a5b",
   "metadata": {},
   "outputs": [
    {
     "data": {
      "text/html": [
       "<div>\n",
       "<style scoped>\n",
       "    .dataframe tbody tr th:only-of-type {\n",
       "        vertical-align: middle;\n",
       "    }\n",
       "\n",
       "    .dataframe tbody tr th {\n",
       "        vertical-align: top;\n",
       "    }\n",
       "\n",
       "    .dataframe thead th {\n",
       "        text-align: right;\n",
       "    }\n",
       "</style>\n",
       "<table border=\"1\" class=\"dataframe\">\n",
       "  <thead>\n",
       "    <tr style=\"text-align: right;\">\n",
       "      <th></th>\n",
       "      <th>Item_Identifier</th>\n",
       "      <th>Item_Weight</th>\n",
       "      <th>Item_Fat_Content</th>\n",
       "      <th>Item_Visibility</th>\n",
       "      <th>Item_Type</th>\n",
       "      <th>Item_MRP</th>\n",
       "      <th>Outlet_Identifier</th>\n",
       "      <th>Outlet_Establishment_Year</th>\n",
       "      <th>Outlet_Size</th>\n",
       "      <th>Outlet_Location_Type</th>\n",
       "      <th>Outlet_Type</th>\n",
       "      <th>Item_Outlet_Sales</th>\n",
       "    </tr>\n",
       "  </thead>\n",
       "  <tbody>\n",
       "    <tr>\n",
       "      <th>0</th>\n",
       "      <td>FDA15</td>\n",
       "      <td>9.300</td>\n",
       "      <td>Low Fat</td>\n",
       "      <td>0.016047</td>\n",
       "      <td>Dairy</td>\n",
       "      <td>249.8092</td>\n",
       "      <td>OUT049</td>\n",
       "      <td>1999</td>\n",
       "      <td>Medium</td>\n",
       "      <td>Tier 1</td>\n",
       "      <td>Supermarket Type1</td>\n",
       "      <td>3735.1380</td>\n",
       "    </tr>\n",
       "    <tr>\n",
       "      <th>1</th>\n",
       "      <td>DRC01</td>\n",
       "      <td>5.920</td>\n",
       "      <td>Regular</td>\n",
       "      <td>0.019278</td>\n",
       "      <td>Soft Drinks</td>\n",
       "      <td>48.2692</td>\n",
       "      <td>OUT018</td>\n",
       "      <td>2009</td>\n",
       "      <td>Medium</td>\n",
       "      <td>Tier 3</td>\n",
       "      <td>Supermarket Type2</td>\n",
       "      <td>443.4228</td>\n",
       "    </tr>\n",
       "    <tr>\n",
       "      <th>2</th>\n",
       "      <td>FDN15</td>\n",
       "      <td>17.500</td>\n",
       "      <td>Low Fat</td>\n",
       "      <td>0.016760</td>\n",
       "      <td>Meat</td>\n",
       "      <td>141.6180</td>\n",
       "      <td>OUT049</td>\n",
       "      <td>1999</td>\n",
       "      <td>Medium</td>\n",
       "      <td>Tier 1</td>\n",
       "      <td>Supermarket Type1</td>\n",
       "      <td>2097.2700</td>\n",
       "    </tr>\n",
       "    <tr>\n",
       "      <th>3</th>\n",
       "      <td>FDX07</td>\n",
       "      <td>19.200</td>\n",
       "      <td>Regular</td>\n",
       "      <td>0.000000</td>\n",
       "      <td>Fruits and Vegetables</td>\n",
       "      <td>182.0950</td>\n",
       "      <td>OUT010</td>\n",
       "      <td>1998</td>\n",
       "      <td>NaN</td>\n",
       "      <td>Tier 3</td>\n",
       "      <td>Grocery Store</td>\n",
       "      <td>732.3800</td>\n",
       "    </tr>\n",
       "    <tr>\n",
       "      <th>4</th>\n",
       "      <td>NCD19</td>\n",
       "      <td>8.930</td>\n",
       "      <td>Low Fat</td>\n",
       "      <td>0.000000</td>\n",
       "      <td>Household</td>\n",
       "      <td>53.8614</td>\n",
       "      <td>OUT013</td>\n",
       "      <td>1987</td>\n",
       "      <td>High</td>\n",
       "      <td>Tier 3</td>\n",
       "      <td>Supermarket Type1</td>\n",
       "      <td>994.7052</td>\n",
       "    </tr>\n",
       "    <tr>\n",
       "      <th>...</th>\n",
       "      <td>...</td>\n",
       "      <td>...</td>\n",
       "      <td>...</td>\n",
       "      <td>...</td>\n",
       "      <td>...</td>\n",
       "      <td>...</td>\n",
       "      <td>...</td>\n",
       "      <td>...</td>\n",
       "      <td>...</td>\n",
       "      <td>...</td>\n",
       "      <td>...</td>\n",
       "      <td>...</td>\n",
       "    </tr>\n",
       "    <tr>\n",
       "      <th>8518</th>\n",
       "      <td>FDF22</td>\n",
       "      <td>6.865</td>\n",
       "      <td>Low Fat</td>\n",
       "      <td>0.056783</td>\n",
       "      <td>Snack Foods</td>\n",
       "      <td>214.5218</td>\n",
       "      <td>OUT013</td>\n",
       "      <td>1987</td>\n",
       "      <td>High</td>\n",
       "      <td>Tier 3</td>\n",
       "      <td>Supermarket Type1</td>\n",
       "      <td>2778.3834</td>\n",
       "    </tr>\n",
       "    <tr>\n",
       "      <th>8519</th>\n",
       "      <td>FDS36</td>\n",
       "      <td>8.380</td>\n",
       "      <td>Regular</td>\n",
       "      <td>0.046982</td>\n",
       "      <td>Baking Goods</td>\n",
       "      <td>108.1570</td>\n",
       "      <td>OUT045</td>\n",
       "      <td>2002</td>\n",
       "      <td>NaN</td>\n",
       "      <td>Tier 2</td>\n",
       "      <td>Supermarket Type1</td>\n",
       "      <td>549.2850</td>\n",
       "    </tr>\n",
       "    <tr>\n",
       "      <th>8520</th>\n",
       "      <td>NCJ29</td>\n",
       "      <td>10.600</td>\n",
       "      <td>Low Fat</td>\n",
       "      <td>0.035186</td>\n",
       "      <td>Health and Hygiene</td>\n",
       "      <td>85.1224</td>\n",
       "      <td>OUT035</td>\n",
       "      <td>2004</td>\n",
       "      <td>Small</td>\n",
       "      <td>Tier 2</td>\n",
       "      <td>Supermarket Type1</td>\n",
       "      <td>1193.1136</td>\n",
       "    </tr>\n",
       "    <tr>\n",
       "      <th>8521</th>\n",
       "      <td>FDN46</td>\n",
       "      <td>7.210</td>\n",
       "      <td>Regular</td>\n",
       "      <td>0.145221</td>\n",
       "      <td>Snack Foods</td>\n",
       "      <td>103.1332</td>\n",
       "      <td>OUT018</td>\n",
       "      <td>2009</td>\n",
       "      <td>Medium</td>\n",
       "      <td>Tier 3</td>\n",
       "      <td>Supermarket Type2</td>\n",
       "      <td>1845.5976</td>\n",
       "    </tr>\n",
       "    <tr>\n",
       "      <th>8522</th>\n",
       "      <td>DRG01</td>\n",
       "      <td>14.800</td>\n",
       "      <td>Low Fat</td>\n",
       "      <td>0.044878</td>\n",
       "      <td>Soft Drinks</td>\n",
       "      <td>75.4670</td>\n",
       "      <td>OUT046</td>\n",
       "      <td>1997</td>\n",
       "      <td>Small</td>\n",
       "      <td>Tier 1</td>\n",
       "      <td>Supermarket Type1</td>\n",
       "      <td>765.6700</td>\n",
       "    </tr>\n",
       "  </tbody>\n",
       "</table>\n",
       "<p>8523 rows × 12 columns</p>\n",
       "</div>"
      ],
      "text/plain": [
       "     Item_Identifier  Item_Weight Item_Fat_Content  Item_Visibility  \\\n",
       "0              FDA15        9.300          Low Fat         0.016047   \n",
       "1              DRC01        5.920          Regular         0.019278   \n",
       "2              FDN15       17.500          Low Fat         0.016760   \n",
       "3              FDX07       19.200          Regular         0.000000   \n",
       "4              NCD19        8.930          Low Fat         0.000000   \n",
       "...              ...          ...              ...              ...   \n",
       "8518           FDF22        6.865          Low Fat         0.056783   \n",
       "8519           FDS36        8.380          Regular         0.046982   \n",
       "8520           NCJ29       10.600          Low Fat         0.035186   \n",
       "8521           FDN46        7.210          Regular         0.145221   \n",
       "8522           DRG01       14.800          Low Fat         0.044878   \n",
       "\n",
       "                  Item_Type  Item_MRP Outlet_Identifier  \\\n",
       "0                     Dairy  249.8092            OUT049   \n",
       "1               Soft Drinks   48.2692            OUT018   \n",
       "2                      Meat  141.6180            OUT049   \n",
       "3     Fruits and Vegetables  182.0950            OUT010   \n",
       "4                 Household   53.8614            OUT013   \n",
       "...                     ...       ...               ...   \n",
       "8518            Snack Foods  214.5218            OUT013   \n",
       "8519           Baking Goods  108.1570            OUT045   \n",
       "8520     Health and Hygiene   85.1224            OUT035   \n",
       "8521            Snack Foods  103.1332            OUT018   \n",
       "8522            Soft Drinks   75.4670            OUT046   \n",
       "\n",
       "      Outlet_Establishment_Year Outlet_Size Outlet_Location_Type  \\\n",
       "0                          1999      Medium               Tier 1   \n",
       "1                          2009      Medium               Tier 3   \n",
       "2                          1999      Medium               Tier 1   \n",
       "3                          1998         NaN               Tier 3   \n",
       "4                          1987        High               Tier 3   \n",
       "...                         ...         ...                  ...   \n",
       "8518                       1987        High               Tier 3   \n",
       "8519                       2002         NaN               Tier 2   \n",
       "8520                       2004       Small               Tier 2   \n",
       "8521                       2009      Medium               Tier 3   \n",
       "8522                       1997       Small               Tier 1   \n",
       "\n",
       "            Outlet_Type  Item_Outlet_Sales  \n",
       "0     Supermarket Type1          3735.1380  \n",
       "1     Supermarket Type2           443.4228  \n",
       "2     Supermarket Type1          2097.2700  \n",
       "3         Grocery Store           732.3800  \n",
       "4     Supermarket Type1           994.7052  \n",
       "...                 ...                ...  \n",
       "8518  Supermarket Type1          2778.3834  \n",
       "8519  Supermarket Type1           549.2850  \n",
       "8520  Supermarket Type1          1193.1136  \n",
       "8521  Supermarket Type2          1845.5976  \n",
       "8522  Supermarket Type1           765.6700  \n",
       "\n",
       "[8523 rows x 12 columns]"
      ]
     },
     "execution_count": 2,
     "metadata": {},
     "output_type": "execute_result"
    }
   ],
   "source": [
    "df = pd.read_csv('Sales_data.csv')\n",
    "df"
   ]
  },
  {
   "cell_type": "markdown",
   "id": "0e2bd89f",
   "metadata": {},
   "source": [
    "### Domain Knowledge of Data"
   ]
  },
  {
   "cell_type": "raw",
   "id": "b10c4de6",
   "metadata": {},
   "source": [
    "column_name                     Description\n",
    "\n",
    "Item_Identifier                 Unique product ID\n",
    "\n",
    "Item_Weight                     Weight of product\n",
    "\n",
    "Item_Fat_Content                Whether the product is low fat or not\n",
    "\n",
    "Item_Visibility                 The % of total display area of all products in a store allocated to the particular product\n",
    "\n",
    "Item_Type                      The category to which the product belongs\n",
    "\n",
    "Item_MRP                        Maximum Retail Price (list price) of the product\n",
    "\n",
    "Outlet_Identifier               Unique store ID\n",
    "\n",
    "Outlet_Establishment_Year       The year in which store was established\n",
    "\n",
    "Outlet_Size                     The size of the store in terms of ground area covered\n",
    "\n",
    "Outlet_Location_Type            The type of city in which the store is located\n",
    "\n",
    "Outlet_Type                     Whether the outlet is just a grocery store or some sort of supermarket\n",
    "\n",
    "Item_Outlet_Sales               Sales of the product In the Specific outlet\n"
   ]
  },
  {
   "cell_type": "markdown",
   "id": "89b8e5eb",
   "metadata": {},
   "source": [
    "# 3. Exploratory Data Analysis(EDA)"
   ]
  },
  {
   "cell_type": "code",
   "execution_count": 3,
   "id": "70ec4841",
   "metadata": {},
   "outputs": [
    {
     "name": "stdout",
     "output_type": "stream",
     "text": [
      "<class 'pandas.core.frame.DataFrame'>\n",
      "RangeIndex: 8523 entries, 0 to 8522\n",
      "Data columns (total 12 columns):\n",
      " #   Column                     Non-Null Count  Dtype  \n",
      "---  ------                     --------------  -----  \n",
      " 0   Item_Identifier            8523 non-null   object \n",
      " 1   Item_Weight                7060 non-null   float64\n",
      " 2   Item_Fat_Content           8523 non-null   object \n",
      " 3   Item_Visibility            8523 non-null   float64\n",
      " 4   Item_Type                  8523 non-null   object \n",
      " 5   Item_MRP                   8523 non-null   float64\n",
      " 6   Outlet_Identifier          8523 non-null   object \n",
      " 7   Outlet_Establishment_Year  8523 non-null   int64  \n",
      " 8   Outlet_Size                6113 non-null   object \n",
      " 9   Outlet_Location_Type       8523 non-null   object \n",
      " 10  Outlet_Type                8523 non-null   object \n",
      " 11  Item_Outlet_Sales          8523 non-null   float64\n",
      "dtypes: float64(4), int64(1), object(7)\n",
      "memory usage: 799.2+ KB\n"
     ]
    }
   ],
   "source": [
    "df.info()"
   ]
  },
  {
   "cell_type": "markdown",
   "id": "ab65481b",
   "metadata": {},
   "source": [
    "### 3.1 Item_Identifier"
   ]
  },
  {
   "cell_type": "code",
   "execution_count": 4,
   "id": "51b792ab",
   "metadata": {},
   "outputs": [
    {
     "data": {
      "text/plain": [
       "0       FDA15\n",
       "1       DRC01\n",
       "2       FDN15\n",
       "3       FDX07\n",
       "4       NCD19\n",
       "        ...  \n",
       "8518    FDF22\n",
       "8519    FDS36\n",
       "8520    NCJ29\n",
       "8521    FDN46\n",
       "8522    DRG01\n",
       "Name: Item_Identifier, Length: 8523, dtype: object"
      ]
     },
     "execution_count": 4,
     "metadata": {},
     "output_type": "execute_result"
    }
   ],
   "source": [
    "df['Item_Identifier']"
   ]
  },
  {
   "cell_type": "code",
   "execution_count": 5,
   "id": "88aef12e",
   "metadata": {},
   "outputs": [
    {
     "data": {
      "text/plain": [
       "0"
      ]
     },
     "execution_count": 5,
     "metadata": {},
     "output_type": "execute_result"
    }
   ],
   "source": [
    "df['Item_Identifier'].isna().sum()"
   ]
  },
  {
   "cell_type": "code",
   "execution_count": 6,
   "id": "ba02b2ca",
   "metadata": {},
   "outputs": [
    {
     "data": {
      "text/plain": [
       "FDW13    10\n",
       "FDG33    10\n",
       "NCY18     9\n",
       "FDD38     9\n",
       "DRE49     9\n",
       "         ..\n",
       "FDY43     1\n",
       "FDQ60     1\n",
       "FDO33     1\n",
       "DRF48     1\n",
       "FDC23     1\n",
       "Name: Item_Identifier, Length: 1559, dtype: int64"
      ]
     },
     "execution_count": 6,
     "metadata": {},
     "output_type": "execute_result"
    }
   ],
   "source": [
    "df['Item_Identifier'].value_counts()"
   ]
  },
  {
   "cell_type": "code",
   "execution_count": 7,
   "id": "d41ceffc",
   "metadata": {},
   "outputs": [],
   "source": [
    "label_encoder = preprocessing.LabelEncoder()\n",
    "df['Item_Identifier'] = label_encoder.fit_transform(df['Item_Identifier'])"
   ]
  },
  {
   "cell_type": "code",
   "execution_count": 8,
   "id": "bfeac508",
   "metadata": {},
   "outputs": [
    {
     "data": {
      "text/plain": [
       "1077    10\n",
       "413     10\n",
       "1542     9\n",
       "301      9\n",
       "35       9\n",
       "        ..\n",
       "1200     1\n",
       "819      1\n",
       "713      1\n",
       "46       1\n",
       "251      1\n",
       "Name: Item_Identifier, Length: 1559, dtype: int64"
      ]
     },
     "execution_count": 8,
     "metadata": {},
     "output_type": "execute_result"
    }
   ],
   "source": [
    "df['Item_Identifier'].value_counts()"
   ]
  },
  {
   "cell_type": "code",
   "execution_count": 9,
   "id": "afe8a564",
   "metadata": {},
   "outputs": [
    {
     "data": {
      "text/plain": [
       "{1077: 10,\n",
       " 413: 10,\n",
       " 1542: 9,\n",
       " 301: 9,\n",
       " 35: 9,\n",
       " 1066: 9,\n",
       " 1454: 9,\n",
       " 388: 9,\n",
       " 1120: 9,\n",
       " 1358: 9,\n",
       " 1048: 9,\n",
       " 1320: 9,\n",
       " 921: 9,\n",
       " 1088: 9,\n",
       " 1383: 9,\n",
       " 976: 9,\n",
       " 398: 9,\n",
       " 805: 9,\n",
       " 1132: 9,\n",
       " 1350: 9,\n",
       " 1141: 9,\n",
       " 750: 9,\n",
       " 1107: 9,\n",
       " 390: 9,\n",
       " 702: 9,\n",
       " 134: 9,\n",
       " 1276: 9,\n",
       " 324: 8,\n",
       " 1529: 8,\n",
       " 804: 8,\n",
       " 961: 8,\n",
       " 712: 8,\n",
       " 950: 8,\n",
       " 1230: 8,\n",
       " 447: 8,\n",
       " 1206: 8,\n",
       " 894: 8,\n",
       " 823: 8,\n",
       " 853: 8,\n",
       " 866: 8,\n",
       " 538: 8,\n",
       " 936: 8,\n",
       " 1210: 8,\n",
       " 1023: 8,\n",
       " 985: 8,\n",
       " 1204: 8,\n",
       " 21: 8,\n",
       " 578: 8,\n",
       " 616: 8,\n",
       " 1164: 8,\n",
       " 854: 8,\n",
       " 753: 8,\n",
       " 175: 8,\n",
       " 448: 8,\n",
       " 43: 8,\n",
       " 1133: 8,\n",
       " 1211: 8,\n",
       " 359: 8,\n",
       " 591: 8,\n",
       " 1169: 8,\n",
       " 1363: 8,\n",
       " 911: 8,\n",
       " 2: 8,\n",
       " 407: 8,\n",
       " 1312: 8,\n",
       " 1231: 8,\n",
       " 148: 8,\n",
       " 1086: 8,\n",
       " 957: 8,\n",
       " 41: 8,\n",
       " 281: 8,\n",
       " 436: 8,\n",
       " 1158: 8,\n",
       " 942: 8,\n",
       " 552: 8,\n",
       " 977: 8,\n",
       " 687: 8,\n",
       " 1235: 8,\n",
       " 601: 8,\n",
       " 37: 8,\n",
       " 416: 8,\n",
       " 1309: 8,\n",
       " 1386: 8,\n",
       " 1279: 8,\n",
       " 1453: 8,\n",
       " 933: 8,\n",
       " 1510: 8,\n",
       " 93: 8,\n",
       " 495: 8,\n",
       " 727: 8,\n",
       " 838: 8,\n",
       " 427: 8,\n",
       " 1240: 8,\n",
       " 38: 8,\n",
       " 154: 8,\n",
       " 370: 8,\n",
       " 139: 8,\n",
       " 1515: 8,\n",
       " 366: 8,\n",
       " 203: 8,\n",
       " 1369: 8,\n",
       " 531: 8,\n",
       " 1153: 8,\n",
       " 1543: 8,\n",
       " 1435: 8,\n",
       " 861: 8,\n",
       " 1462: 8,\n",
       " 858: 8,\n",
       " 184: 8,\n",
       " 1391: 8,\n",
       " 1106: 8,\n",
       " 1345: 8,\n",
       " 739: 8,\n",
       " 451: 8,\n",
       " 358: 8,\n",
       " 295: 8,\n",
       " 856: 8,\n",
       " 104: 8,\n",
       " 156: 8,\n",
       " 541: 8,\n",
       " 910: 8,\n",
       " 244: 8,\n",
       " 981: 8,\n",
       " 1286: 8,\n",
       " 178: 8,\n",
       " 585: 8,\n",
       " 483: 8,\n",
       " 1373: 8,\n",
       " 1533: 8,\n",
       " 716: 8,\n",
       " 1032: 8,\n",
       " 78: 8,\n",
       " 107: 8,\n",
       " 1438: 8,\n",
       " 696: 8,\n",
       " 1038: 8,\n",
       " 1487: 8,\n",
       " 836: 7,\n",
       " 994: 7,\n",
       " 1004: 7,\n",
       " 414: 7,\n",
       " 1090: 7,\n",
       " 326: 7,\n",
       " 774: 7,\n",
       " 1442: 7,\n",
       " 201: 7,\n",
       " 1355: 7,\n",
       " 1466: 7,\n",
       " 1040: 7,\n",
       " 553: 7,\n",
       " 1538: 7,\n",
       " 1063: 7,\n",
       " 149: 7,\n",
       " 1073: 7,\n",
       " 123: 7,\n",
       " 546: 7,\n",
       " 1554: 7,\n",
       " 1227: 7,\n",
       " 564: 7,\n",
       " 1488: 7,\n",
       " 982: 7,\n",
       " 146: 7,\n",
       " 466: 7,\n",
       " 391: 7,\n",
       " 987: 7,\n",
       " 1020: 7,\n",
       " 19: 7,\n",
       " 1179: 7,\n",
       " 233: 7,\n",
       " 485: 7,\n",
       " 481: 7,\n",
       " 446: 7,\n",
       " 1527: 7,\n",
       " 1261: 7,\n",
       " 462: 7,\n",
       " 868: 7,\n",
       " 1094: 7,\n",
       " 1138: 7,\n",
       " 254: 7,\n",
       " 781: 7,\n",
       " 77: 7,\n",
       " 1192: 7,\n",
       " 27: 7,\n",
       " 1418: 7,\n",
       " 1367: 7,\n",
       " 520: 7,\n",
       " 850: 7,\n",
       " 1155: 7,\n",
       " 1177: 7,\n",
       " 656: 7,\n",
       " 1552: 7,\n",
       " 1098: 7,\n",
       " 988: 7,\n",
       " 1532: 7,\n",
       " 610: 7,\n",
       " 42: 7,\n",
       " 862: 7,\n",
       " 605: 7,\n",
       " 461: 7,\n",
       " 821: 7,\n",
       " 1081: 7,\n",
       " 266: 7,\n",
       " 315: 7,\n",
       " 613: 7,\n",
       " 441: 7,\n",
       " 1307: 7,\n",
       " 193: 7,\n",
       " 1071: 7,\n",
       " 276: 7,\n",
       " 915: 7,\n",
       " 1381: 7,\n",
       " 269: 7,\n",
       " 1: 7,\n",
       " 1483: 7,\n",
       " 954: 7,\n",
       " 890: 7,\n",
       " 540: 7,\n",
       " 532: 7,\n",
       " 1171: 7,\n",
       " 1142: 7,\n",
       " 837: 7,\n",
       " 1545: 7,\n",
       " 779: 7,\n",
       " 905: 7,\n",
       " 882: 7,\n",
       " 767: 7,\n",
       " 1221: 7,\n",
       " 842: 7,\n",
       " 79: 7,\n",
       " 1330: 7,\n",
       " 1347: 7,\n",
       " 968: 7,\n",
       " 621: 7,\n",
       " 129: 7,\n",
       " 1341: 7,\n",
       " 23: 7,\n",
       " 1518: 7,\n",
       " 557: 7,\n",
       " 1168: 7,\n",
       " 662: 7,\n",
       " 714: 7,\n",
       " 1194: 7,\n",
       " 660: 7,\n",
       " 891: 7,\n",
       " 733: 7,\n",
       " 1448: 7,\n",
       " 1459: 7,\n",
       " 443: 7,\n",
       " 738: 7,\n",
       " 1017: 7,\n",
       " 1464: 7,\n",
       " 440: 7,\n",
       " 1550: 7,\n",
       " 1501: 7,\n",
       " 125: 7,\n",
       " 1076: 7,\n",
       " 1278: 7,\n",
       " 369: 7,\n",
       " 705: 7,\n",
       " 1439: 7,\n",
       " 504: 7,\n",
       " 497: 7,\n",
       " 893: 7,\n",
       " 998: 7,\n",
       " 327: 7,\n",
       " 1108: 7,\n",
       " 477: 7,\n",
       " 983: 7,\n",
       " 881: 7,\n",
       " 214: 7,\n",
       " 1302: 7,\n",
       " 263: 7,\n",
       " 302: 7,\n",
       " 587: 7,\n",
       " 1390: 7,\n",
       " 519: 7,\n",
       " 639: 7,\n",
       " 729: 7,\n",
       " 350: 7,\n",
       " 749: 7,\n",
       " 603: 7,\n",
       " 117: 7,\n",
       " 1031: 7,\n",
       " 665: 7,\n",
       " 1305: 7,\n",
       " 865: 7,\n",
       " 1257: 7,\n",
       " 247: 7,\n",
       " 1233: 7,\n",
       " 609: 7,\n",
       " 412: 7,\n",
       " 944: 7,\n",
       " 465: 7,\n",
       " 1337: 7,\n",
       " 706: 7,\n",
       " 761: 7,\n",
       " 310: 7,\n",
       " 1536: 7,\n",
       " 1396: 7,\n",
       " 707: 7,\n",
       " 397: 7,\n",
       " 284: 7,\n",
       " 651: 7,\n",
       " 472: 7,\n",
       " 1212: 7,\n",
       " 231: 7,\n",
       " 752: 7,\n",
       " 488: 7,\n",
       " 892: 7,\n",
       " 627: 7,\n",
       " 653: 7,\n",
       " 1401: 7,\n",
       " 17: 7,\n",
       " 795: 7,\n",
       " 919: 7,\n",
       " 815: 7,\n",
       " 573: 7,\n",
       " 593: 7,\n",
       " 82: 7,\n",
       " 565: 7,\n",
       " 534: 7,\n",
       " 20: 7,\n",
       " 216: 7,\n",
       " 512: 7,\n",
       " 200: 7,\n",
       " 470: 7,\n",
       " 121: 7,\n",
       " 1049: 7,\n",
       " 1092: 7,\n",
       " 801: 7,\n",
       " 7: 7,\n",
       " 1150: 7,\n",
       " 900: 7,\n",
       " 1558: 7,\n",
       " 90: 7,\n",
       " 802: 7,\n",
       " 246: 7,\n",
       " 602: 7,\n",
       " 423: 7,\n",
       " 111: 7,\n",
       " 878: 7,\n",
       " 937: 7,\n",
       " 688: 7,\n",
       " 116: 7,\n",
       " 34: 7,\n",
       " 59: 7,\n",
       " 1053: 7,\n",
       " 1030: 7,\n",
       " 871: 7,\n",
       " 951: 7,\n",
       " 438: 7,\n",
       " 913: 7,\n",
       " 1397: 7,\n",
       " 168: 7,\n",
       " 288: 7,\n",
       " 926: 7,\n",
       " 820: 7,\n",
       " 1426: 7,\n",
       " 1375: 7,\n",
       " 113: 7,\n",
       " 1429: 7,\n",
       " 826: 7,\n",
       " 482: 7,\n",
       " 832: 7,\n",
       " 1131: 7,\n",
       " 145: 7,\n",
       " 1407: 7,\n",
       " 544: 7,\n",
       " 848: 7,\n",
       " 1265: 7,\n",
       " 643: 7,\n",
       " 1190: 7,\n",
       " 141: 7,\n",
       " 1325: 7,\n",
       " 1146: 7,\n",
       " 1476: 7,\n",
       " 18: 7,\n",
       " 1422: 7,\n",
       " 1479: 7,\n",
       " 55: 7,\n",
       " 1242: 7,\n",
       " 731: 7,\n",
       " 1379: 7,\n",
       " 690: 7,\n",
       " 12: 7,\n",
       " 903: 7,\n",
       " 996: 7,\n",
       " 1214: 7,\n",
       " 337: 7,\n",
       " 1334: 7,\n",
       " 1366: 6,\n",
       " 419: 6,\n",
       " 293: 6,\n",
       " 1502: 6,\n",
       " 304: 6,\n",
       " 1365: 6,\n",
       " 1417: 6,\n",
       " 1105: 6,\n",
       " 454: 6,\n",
       " 543: 6,\n",
       " 1506: 6,\n",
       " 285: 6,\n",
       " 1259: 6,\n",
       " 442: 6,\n",
       " 898: 6,\n",
       " 946: 6,\n",
       " 708: 6,\n",
       " 1205: 6,\n",
       " 372: 6,\n",
       " 501: 6,\n",
       " 718: 6,\n",
       " 1318: 6,\n",
       " 896: 6,\n",
       " 1112: 6,\n",
       " 654: 6,\n",
       " 1054: 6,\n",
       " 6: 6,\n",
       " 509: 6,\n",
       " 1249: 6,\n",
       " 1423: 6,\n",
       " 562: 6,\n",
       " 721: 6,\n",
       " 32: 6,\n",
       " 924: 6,\n",
       " 360: 6,\n",
       " 97: 6,\n",
       " 1056: 6,\n",
       " 103: 6,\n",
       " 347: 6,\n",
       " 1432: 6,\n",
       " 280: 6,\n",
       " 377: 6,\n",
       " 467: 6,\n",
       " 81: 6,\n",
       " 456: 6,\n",
       " 490: 6,\n",
       " 1264: 6,\n",
       " 314: 6,\n",
       " 1130: 6,\n",
       " 784: 6,\n",
       " 1222: 6,\n",
       " 542: 6,\n",
       " 1119: 6,\n",
       " 1224: 6,\n",
       " 575: 6,\n",
       " 798: 6,\n",
       " 1285: 6,\n",
       " 25: 6,\n",
       " 1207: 6,\n",
       " 226: 6,\n",
       " 834: 6,\n",
       " 311: 6,\n",
       " 28: 6,\n",
       " 1000: 6,\n",
       " 1104: 6,\n",
       " 1234: 6,\n",
       " 160: 6,\n",
       " 1482: 6,\n",
       " 137: 6,\n",
       " 54: 6,\n",
       " 1246: 6,\n",
       " 594: 6,\n",
       " 468: 6,\n",
       " 790: 6,\n",
       " 1408: 6,\n",
       " 131: 6,\n",
       " 1384: 6,\n",
       " 1125: 6,\n",
       " 744: 6,\n",
       " 1352: 6,\n",
       " 958: 6,\n",
       " 257: 6,\n",
       " 698: 6,\n",
       " 786: 6,\n",
       " 986: 6,\n",
       " 667: 6,\n",
       " 547: 6,\n",
       " 902: 6,\n",
       " 1471: 6,\n",
       " 897: 6,\n",
       " 925: 6,\n",
       " 411: 6,\n",
       " 1328: 6,\n",
       " 813: 6,\n",
       " 993: 6,\n",
       " 356: 6,\n",
       " 938: 6,\n",
       " 1253: 6,\n",
       " 1551: 6,\n",
       " 506: 6,\n",
       " 763: 6,\n",
       " 971: 6,\n",
       " 1009: 6,\n",
       " 876: 6,\n",
       " 30: 6,\n",
       " 312: 6,\n",
       " 433: 6,\n",
       " 1348: 6,\n",
       " 845: 6,\n",
       " 1414: 6,\n",
       " 561: 6,\n",
       " 1147: 6,\n",
       " 1296: 6,\n",
       " 1250: 6,\n",
       " 105: 6,\n",
       " 207: 6,\n",
       " 725: 6,\n",
       " 964: 6,\n",
       " 681: 6,\n",
       " 335: 6,\n",
       " 1170: 6,\n",
       " 799: 6,\n",
       " 265: 6,\n",
       " 608: 6,\n",
       " 676: 6,\n",
       " 615: 6,\n",
       " 503: 6,\n",
       " 1508: 6,\n",
       " 1055: 6,\n",
       " 426: 6,\n",
       " 1219: 6,\n",
       " 584: 6,\n",
       " 1151: 6,\n",
       " 195: 6,\n",
       " 574: 6,\n",
       " 1421: 6,\n",
       " 703: 6,\n",
       " 308: 6,\n",
       " 364: 6,\n",
       " 1068: 6,\n",
       " 722: 6,\n",
       " 1254: 6,\n",
       " 620: 6,\n",
       " 1162: 6,\n",
       " 1534: 6,\n",
       " 85: 6,\n",
       " 45: 6,\n",
       " 159: 6,\n",
       " 235: 6,\n",
       " 478: 6,\n",
       " 500: 6,\n",
       " 999: 6,\n",
       " 1262: 6,\n",
       " 133: 6,\n",
       " 408: 6,\n",
       " 1431: 6,\n",
       " 71: 6,\n",
       " 422: 6,\n",
       " 1209: 6,\n",
       " 183: 6,\n",
       " 817: 6,\n",
       " 1389: 6,\n",
       " 402: 6,\n",
       " 719: 6,\n",
       " 39: 6,\n",
       " 556: 6,\n",
       " 248: 6,\n",
       " 212: 6,\n",
       " 600: 6,\n",
       " 264: 6,\n",
       " 267: 6,\n",
       " 808: 6,\n",
       " 1281: 6,\n",
       " 1034: 6,\n",
       " 290: 6,\n",
       " 460: 6,\n",
       " 604: 6,\n",
       " 675: 6,\n",
       " 1308: 6,\n",
       " 344: 6,\n",
       " 887: 6,\n",
       " 220: 6,\n",
       " 695: 6,\n",
       " 8: 6,\n",
       " 89: 6,\n",
       " 1443: 6,\n",
       " 473: 6,\n",
       " 283: 6,\n",
       " 1117: 6,\n",
       " 537: 6,\n",
       " 730: 6,\n",
       " 1292: 6,\n",
       " 1335: 6,\n",
       " 956: 6,\n",
       " 457: 6,\n",
       " 286: 6,\n",
       " 1411: 6,\n",
       " 1346: 6,\n",
       " 846: 6,\n",
       " 1272: 6,\n",
       " 1103: 6,\n",
       " 1451: 6,\n",
       " 912: 6,\n",
       " 119: 6,\n",
       " 1405: 6,\n",
       " 1195: 6,\n",
       " 421: 6,\n",
       " 513: 6,\n",
       " 1052: 6,\n",
       " 1115: 6,\n",
       " 647: 6,\n",
       " 1494: 6,\n",
       " 569: 6,\n",
       " 166: 6,\n",
       " 1174: 6,\n",
       " 1339: 6,\n",
       " 886: 6,\n",
       " 307: 6,\n",
       " 399: 6,\n",
       " 1496: 6,\n",
       " 979: 6,\n",
       " 756: 6,\n",
       " 583: 6,\n",
       " 0: 6,\n",
       " 126: 6,\n",
       " 1472: 6,\n",
       " 1228: 6,\n",
       " 677: 6,\n",
       " 1319: 6,\n",
       " 1002: 6,\n",
       " 338: 6,\n",
       " 606: 6,\n",
       " 1144: 6,\n",
       " 464: 6,\n",
       " 829: 6,\n",
       " 780: 6,\n",
       " 1099: 6,\n",
       " 272: 6,\n",
       " 1042: 6,\n",
       " 922: 6,\n",
       " 526: 6,\n",
       " 877: 6,\n",
       " 332: 6,\n",
       " 825: 6,\n",
       " 614: 6,\n",
       " 1463: 6,\n",
       " 455: 6,\n",
       " 361: 6,\n",
       " 880: 6,\n",
       " 1461: 6,\n",
       " 323: 6,\n",
       " 1129: 6,\n",
       " 305: 6,\n",
       " 420: 6,\n",
       " 1143: 6,\n",
       " 458: 6,\n",
       " 258: 6,\n",
       " 1154: 6,\n",
       " 528: 6,\n",
       " 1280: 6,\n",
       " 549: 6,\n",
       " 240: 6,\n",
       " 810: 6,\n",
       " 1183: 6,\n",
       " 1166: 6,\n",
       " 316: 6,\n",
       " 36: 6,\n",
       " 410: 6,\n",
       " 530: 6,\n",
       " 555: 6,\n",
       " 282: 6,\n",
       " 382: 6,\n",
       " 368: 6,\n",
       " 689: 6,\n",
       " 807: 6,\n",
       " 112: 6,\n",
       " 1057: 6,\n",
       " 73: 6,\n",
       " 1135: 6,\n",
       " 303: 6,\n",
       " 429: 6,\n",
       " 1059: 6,\n",
       " 211: 6,\n",
       " 1368: 6,\n",
       " 180: 6,\n",
       " 236: 6,\n",
       " 658: 6,\n",
       " 223: 6,\n",
       " 1374: 6,\n",
       " 1468: 6,\n",
       " 633: 6,\n",
       " 566: 6,\n",
       " 923: 6,\n",
       " 940: 6,\n",
       " 400: 6,\n",
       " 101: 6,\n",
       " 635: 6,\n",
       " 941: 6,\n",
       " 1430: 6,\n",
       " 1102: 6,\n",
       " 1473: 6,\n",
       " 83: 6,\n",
       " 425: 6,\n",
       " 1223: 6,\n",
       " 1047: 6,\n",
       " 867: 6,\n",
       " 1258: 6,\n",
       " 1315: 6,\n",
       " 143: 6,\n",
       " 181: 6,\n",
       " 87: 6,\n",
       " 617: 6,\n",
       " 567: 6,\n",
       " 13: 6,\n",
       " 91: 6,\n",
       " 215: 6,\n",
       " 142: 6,\n",
       " 1163: 6,\n",
       " 1152: 6,\n",
       " 152: 6,\n",
       " 1349: 6,\n",
       " 70: 6,\n",
       " 1343: 6,\n",
       " 1499: 6,\n",
       " 256: 6,\n",
       " 1277: 6,\n",
       " 906: 6,\n",
       " 992: 6,\n",
       " 694: 6,\n",
       " 72: 6,\n",
       " 209: 6,\n",
       " 550: 6,\n",
       " 870: 6,\n",
       " 228: 6,\n",
       " 1189: 6,\n",
       " 1121: 6,\n",
       " 320: 6,\n",
       " 1344: 6,\n",
       " 661: 6,\n",
       " 963: 6,\n",
       " 1428: 6,\n",
       " 47: 6,\n",
       " 487: 6,\n",
       " 1109: 6,\n",
       " 1297: 6,\n",
       " 405: 6,\n",
       " 1340: 6,\n",
       " 841: 6,\n",
       " 1095: 6,\n",
       " 162: 6,\n",
       " 747: 6,\n",
       " 582: 6,\n",
       " 319: 6,\n",
       " 1523: 6,\n",
       " 1029: 6,\n",
       " 453: 6,\n",
       " 1089: 6,\n",
       " 150: 6,\n",
       " 450: 6,\n",
       " 340: 6,\n",
       " 835: 6,\n",
       " 479: 6,\n",
       " 147: 6,\n",
       " 480: 6,\n",
       " 1202: 6,\n",
       " 1199: 6,\n",
       " 371: 6,\n",
       " 612: 6,\n",
       " 1444: 6,\n",
       " 1357: 6,\n",
       " 44: 6,\n",
       " 1535: 6,\n",
       " 965: 6,\n",
       " 221: 6,\n",
       " 336: 6,\n",
       " 1085: 6,\n",
       " 700: 6,\n",
       " 932: 6,\n",
       " 975: 6,\n",
       " 1123: 6,\n",
       " 1245: 6,\n",
       " 65: 6,\n",
       " 1360: 6,\n",
       " 1316: 5,\n",
       " 1517: 5,\n",
       " 394: 5,\n",
       " 230: 5,\n",
       " 191: 5,\n",
       " 668: 5,\n",
       " 764: 5,\n",
       " 1065: 5,\n",
       " 99: 5,\n",
       " 1161: 5,\n",
       " 1136: 5,\n",
       " 751: 5,\n",
       " 415: 5,\n",
       " 545: 5,\n",
       " 778: 5,\n",
       " 847: 5,\n",
       " 691: 5,\n",
       " 1433: 5,\n",
       " 776: 5,\n",
       " 199: 5,\n",
       " 4: 5,\n",
       " 682: 5,\n",
       " 1193: 5,\n",
       " 769: 5,\n",
       " 811: 5,\n",
       " 163: 5,\n",
       " 1111: 5,\n",
       " 625: 5,\n",
       " 671: 5,\n",
       " 1060: 5,\n",
       " 1037: 5,\n",
       " 539: 5,\n",
       " 1220: 5,\n",
       " 229: 5,\n",
       " 1354: 5,\n",
       " 934: 5,\n",
       " 521: 5,\n",
       " 599: 5,\n",
       " 704: 5,\n",
       " 1326: 5,\n",
       " 1270: 5,\n",
       " 711: 5,\n",
       " 771: 5,\n",
       " 75: 5,\n",
       " 384: 5,\n",
       " 939: 5,\n",
       " 1013: 5,\n",
       " 748: 5,\n",
       " 839: 5,\n",
       " 840: 5,\n",
       " 1014: 5,\n",
       " 404: 5,\n",
       " 53: 5,\n",
       " 1243: 5,\n",
       " 634: 5,\n",
       " 1268: 5,\n",
       " 527: 5,\n",
       " 773: 5,\n",
       " 1490: 5,\n",
       " 489: 5,\n",
       " 1201: 5,\n",
       " 1018: 5,\n",
       " 328: 5,\n",
       " 57: 5,\n",
       " 1498: 5,\n",
       " 1247: 5,\n",
       " 118: 5,\n",
       " 1540: 5,\n",
       " 735: 5,\n",
       " 1530: 5,\n",
       " 551: 5,\n",
       " 1420: 5,\n",
       " 1263: 5,\n",
       " 343: 5,\n",
       " 1157: 5,\n",
       " 558: 5,\n",
       " 1402: 5,\n",
       " 754: 5,\n",
       " 484: 5,\n",
       " 623: 5,\n",
       " 431: 5,\n",
       " 424: 5,\n",
       " 757: 5,\n",
       " 1083: 5,\n",
       " 1300: 5,\n",
       " 787: 5,\n",
       " 1075: 5,\n",
       " 1266: 5,\n",
       " 1491: 5,\n",
       " 783: 5,\n",
       " 1185: 5,\n",
       " 907: 5,\n",
       " 1008: 5,\n",
       " 794: 5,\n",
       " 1248: 5,\n",
       " 333: 5,\n",
       " 278: 5,\n",
       " 1288: 5,\n",
       " 743: 5,\n",
       " 153: 5,\n",
       " 198: 5,\n",
       " 770: 5,\n",
       " 895: 5,\n",
       " 1274: 5,\n",
       " 179: 5,\n",
       " 92: 5,\n",
       " 962: 5,\n",
       " 204: 5,\n",
       " 452: 5,\n",
       " 378: 5,\n",
       " 22: 5,\n",
       " 966: 5,\n",
       " 759: 5,\n",
       " 901: 5,\n",
       " 1269: 5,\n",
       " 374: 5,\n",
       " 1186: 5,\n",
       " 1159: 5,\n",
       " 930: 5,\n",
       " 568: 5,\n",
       " 857: 5,\n",
       " 1317: 5,\n",
       " 1416: 5,\n",
       " 1392: 5,\n",
       " 1113: 5,\n",
       " 16: 5,\n",
       " 1528: 5,\n",
       " 1180: 5,\n",
       " 511: 5,\n",
       " 949: 5,\n",
       " 321: 5,\n",
       " 253: 5,\n",
       " 232: 5,\n",
       " 238: 5,\n",
       " 1019: 5,\n",
       " 563: 5,\n",
       " 970: 5,\n",
       " 322: 5,\n",
       " 376: 5,\n",
       " 782: 5,\n",
       " 494: 5,\n",
       " 1465: 5,\n",
       " 844: 5,\n",
       " 205: 5,\n",
       " 581: 5,\n",
       " 646: 5,\n",
       " 385: 5,\n",
       " 110: 5,\n",
       " 1351: 5,\n",
       " 169: 5,\n",
       " 669: 5,\n",
       " 737: 5,\n",
       " 590: 5,\n",
       " 1481: 5,\n",
       " 1137: 5,\n",
       " 1058: 5,\n",
       " 430: 5,\n",
       " 517: 5,\n",
       " 1469: 5,\n",
       " 100: 5,\n",
       " 299: 5,\n",
       " 61: 5,\n",
       " 657: 5,\n",
       " 806: 5,\n",
       " 279: 5,\n",
       " 1321: 5,\n",
       " 102: 5,\n",
       " 888: 5,\n",
       " 435: 5,\n",
       " 1197: 5,\n",
       " 1477: 5,\n",
       " 331: 5,\n",
       " 313: 5,\n",
       " 1336: 5,\n",
       " 1087: 5,\n",
       " 889: 5,\n",
       " 592: 5,\n",
       " 1541: 5,\n",
       " 1395: 5,\n",
       " 62: 5,\n",
       " 498: 5,\n",
       " 516: 5,\n",
       " 1294: 5,\n",
       " 330: 5,\n",
       " 208: 5,\n",
       " 644: 5,\n",
       " 1342: 5,\n",
       " 997: 5,\n",
       " 51: 5,\n",
       " 1024: 5,\n",
       " 809: 5,\n",
       " 1520: 5,\n",
       " 701: 5,\n",
       " 1539: 5,\n",
       " 31: 5,\n",
       " 1359: 5,\n",
       " 252: 5,\n",
       " 1427: 5,\n",
       " 766: 5,\n",
       " 192: 5,\n",
       " 1291: 5,\n",
       " 984: 5,\n",
       " 843: 5,\n",
       " 849: 5,\n",
       " 219: 5,\n",
       " 108: 5,\n",
       " 1160: 5,\n",
       " 1388: 5,\n",
       " 571: 5,\n",
       " 831: 5,\n",
       " 1139: 5,\n",
       " 1412: 5,\n",
       " 717: 5,\n",
       " 518: 5,\n",
       " 67: 5,\n",
       " 1362: 5,\n",
       " 1403: 5,\n",
       " 548: 5,\n",
       " 1035: 5,\n",
       " 206: 5,\n",
       " 1410: 5,\n",
       " 1304: 5,\n",
       " 1547: 5,\n",
       " 663: 5,\n",
       " 1338: 5,\n",
       " 1526: 5,\n",
       " 14: 5,\n",
       " ...}"
      ]
     },
     "execution_count": 9,
     "metadata": {},
     "output_type": "execute_result"
    }
   ],
   "source": [
    "df['Item_Identifier'].value_counts().to_dict()"
   ]
  },
  {
   "cell_type": "code",
   "execution_count": 10,
   "id": "d2420970",
   "metadata": {},
   "outputs": [
    {
     "data": {
      "text/html": [
       "<div>\n",
       "<style scoped>\n",
       "    .dataframe tbody tr th:only-of-type {\n",
       "        vertical-align: middle;\n",
       "    }\n",
       "\n",
       "    .dataframe tbody tr th {\n",
       "        vertical-align: top;\n",
       "    }\n",
       "\n",
       "    .dataframe thead th {\n",
       "        text-align: right;\n",
       "    }\n",
       "</style>\n",
       "<table border=\"1\" class=\"dataframe\">\n",
       "  <thead>\n",
       "    <tr style=\"text-align: right;\">\n",
       "      <th></th>\n",
       "      <th>Item_Weight</th>\n",
       "      <th>Item_Fat_Content</th>\n",
       "      <th>Item_Visibility</th>\n",
       "      <th>Item_Type</th>\n",
       "      <th>Item_MRP</th>\n",
       "      <th>Outlet_Identifier</th>\n",
       "      <th>Outlet_Establishment_Year</th>\n",
       "      <th>Outlet_Size</th>\n",
       "      <th>Outlet_Location_Type</th>\n",
       "      <th>Outlet_Type</th>\n",
       "      <th>Item_Outlet_Sales</th>\n",
       "    </tr>\n",
       "  </thead>\n",
       "  <tbody>\n",
       "    <tr>\n",
       "      <th>0</th>\n",
       "      <td>9.300</td>\n",
       "      <td>Low Fat</td>\n",
       "      <td>0.016047</td>\n",
       "      <td>Dairy</td>\n",
       "      <td>249.8092</td>\n",
       "      <td>OUT049</td>\n",
       "      <td>1999</td>\n",
       "      <td>Medium</td>\n",
       "      <td>Tier 1</td>\n",
       "      <td>Supermarket Type1</td>\n",
       "      <td>3735.1380</td>\n",
       "    </tr>\n",
       "    <tr>\n",
       "      <th>1</th>\n",
       "      <td>5.920</td>\n",
       "      <td>Regular</td>\n",
       "      <td>0.019278</td>\n",
       "      <td>Soft Drinks</td>\n",
       "      <td>48.2692</td>\n",
       "      <td>OUT018</td>\n",
       "      <td>2009</td>\n",
       "      <td>Medium</td>\n",
       "      <td>Tier 3</td>\n",
       "      <td>Supermarket Type2</td>\n",
       "      <td>443.4228</td>\n",
       "    </tr>\n",
       "    <tr>\n",
       "      <th>2</th>\n",
       "      <td>17.500</td>\n",
       "      <td>Low Fat</td>\n",
       "      <td>0.016760</td>\n",
       "      <td>Meat</td>\n",
       "      <td>141.6180</td>\n",
       "      <td>OUT049</td>\n",
       "      <td>1999</td>\n",
       "      <td>Medium</td>\n",
       "      <td>Tier 1</td>\n",
       "      <td>Supermarket Type1</td>\n",
       "      <td>2097.2700</td>\n",
       "    </tr>\n",
       "    <tr>\n",
       "      <th>3</th>\n",
       "      <td>19.200</td>\n",
       "      <td>Regular</td>\n",
       "      <td>0.000000</td>\n",
       "      <td>Fruits and Vegetables</td>\n",
       "      <td>182.0950</td>\n",
       "      <td>OUT010</td>\n",
       "      <td>1998</td>\n",
       "      <td>NaN</td>\n",
       "      <td>Tier 3</td>\n",
       "      <td>Grocery Store</td>\n",
       "      <td>732.3800</td>\n",
       "    </tr>\n",
       "    <tr>\n",
       "      <th>4</th>\n",
       "      <td>8.930</td>\n",
       "      <td>Low Fat</td>\n",
       "      <td>0.000000</td>\n",
       "      <td>Household</td>\n",
       "      <td>53.8614</td>\n",
       "      <td>OUT013</td>\n",
       "      <td>1987</td>\n",
       "      <td>High</td>\n",
       "      <td>Tier 3</td>\n",
       "      <td>Supermarket Type1</td>\n",
       "      <td>994.7052</td>\n",
       "    </tr>\n",
       "    <tr>\n",
       "      <th>...</th>\n",
       "      <td>...</td>\n",
       "      <td>...</td>\n",
       "      <td>...</td>\n",
       "      <td>...</td>\n",
       "      <td>...</td>\n",
       "      <td>...</td>\n",
       "      <td>...</td>\n",
       "      <td>...</td>\n",
       "      <td>...</td>\n",
       "      <td>...</td>\n",
       "      <td>...</td>\n",
       "    </tr>\n",
       "    <tr>\n",
       "      <th>8518</th>\n",
       "      <td>6.865</td>\n",
       "      <td>Low Fat</td>\n",
       "      <td>0.056783</td>\n",
       "      <td>Snack Foods</td>\n",
       "      <td>214.5218</td>\n",
       "      <td>OUT013</td>\n",
       "      <td>1987</td>\n",
       "      <td>High</td>\n",
       "      <td>Tier 3</td>\n",
       "      <td>Supermarket Type1</td>\n",
       "      <td>2778.3834</td>\n",
       "    </tr>\n",
       "    <tr>\n",
       "      <th>8519</th>\n",
       "      <td>8.380</td>\n",
       "      <td>Regular</td>\n",
       "      <td>0.046982</td>\n",
       "      <td>Baking Goods</td>\n",
       "      <td>108.1570</td>\n",
       "      <td>OUT045</td>\n",
       "      <td>2002</td>\n",
       "      <td>NaN</td>\n",
       "      <td>Tier 2</td>\n",
       "      <td>Supermarket Type1</td>\n",
       "      <td>549.2850</td>\n",
       "    </tr>\n",
       "    <tr>\n",
       "      <th>8520</th>\n",
       "      <td>10.600</td>\n",
       "      <td>Low Fat</td>\n",
       "      <td>0.035186</td>\n",
       "      <td>Health and Hygiene</td>\n",
       "      <td>85.1224</td>\n",
       "      <td>OUT035</td>\n",
       "      <td>2004</td>\n",
       "      <td>Small</td>\n",
       "      <td>Tier 2</td>\n",
       "      <td>Supermarket Type1</td>\n",
       "      <td>1193.1136</td>\n",
       "    </tr>\n",
       "    <tr>\n",
       "      <th>8521</th>\n",
       "      <td>7.210</td>\n",
       "      <td>Regular</td>\n",
       "      <td>0.145221</td>\n",
       "      <td>Snack Foods</td>\n",
       "      <td>103.1332</td>\n",
       "      <td>OUT018</td>\n",
       "      <td>2009</td>\n",
       "      <td>Medium</td>\n",
       "      <td>Tier 3</td>\n",
       "      <td>Supermarket Type2</td>\n",
       "      <td>1845.5976</td>\n",
       "    </tr>\n",
       "    <tr>\n",
       "      <th>8522</th>\n",
       "      <td>14.800</td>\n",
       "      <td>Low Fat</td>\n",
       "      <td>0.044878</td>\n",
       "      <td>Soft Drinks</td>\n",
       "      <td>75.4670</td>\n",
       "      <td>OUT046</td>\n",
       "      <td>1997</td>\n",
       "      <td>Small</td>\n",
       "      <td>Tier 1</td>\n",
       "      <td>Supermarket Type1</td>\n",
       "      <td>765.6700</td>\n",
       "    </tr>\n",
       "  </tbody>\n",
       "</table>\n",
       "<p>8523 rows × 11 columns</p>\n",
       "</div>"
      ],
      "text/plain": [
       "      Item_Weight Item_Fat_Content  Item_Visibility              Item_Type  \\\n",
       "0           9.300          Low Fat         0.016047                  Dairy   \n",
       "1           5.920          Regular         0.019278            Soft Drinks   \n",
       "2          17.500          Low Fat         0.016760                   Meat   \n",
       "3          19.200          Regular         0.000000  Fruits and Vegetables   \n",
       "4           8.930          Low Fat         0.000000              Household   \n",
       "...           ...              ...              ...                    ...   \n",
       "8518        6.865          Low Fat         0.056783            Snack Foods   \n",
       "8519        8.380          Regular         0.046982           Baking Goods   \n",
       "8520       10.600          Low Fat         0.035186     Health and Hygiene   \n",
       "8521        7.210          Regular         0.145221            Snack Foods   \n",
       "8522       14.800          Low Fat         0.044878            Soft Drinks   \n",
       "\n",
       "      Item_MRP Outlet_Identifier  Outlet_Establishment_Year Outlet_Size  \\\n",
       "0     249.8092            OUT049                       1999      Medium   \n",
       "1      48.2692            OUT018                       2009      Medium   \n",
       "2     141.6180            OUT049                       1999      Medium   \n",
       "3     182.0950            OUT010                       1998         NaN   \n",
       "4      53.8614            OUT013                       1987        High   \n",
       "...        ...               ...                        ...         ...   \n",
       "8518  214.5218            OUT013                       1987        High   \n",
       "8519  108.1570            OUT045                       2002         NaN   \n",
       "8520   85.1224            OUT035                       2004       Small   \n",
       "8521  103.1332            OUT018                       2009      Medium   \n",
       "8522   75.4670            OUT046                       1997       Small   \n",
       "\n",
       "     Outlet_Location_Type        Outlet_Type  Item_Outlet_Sales  \n",
       "0                  Tier 1  Supermarket Type1          3735.1380  \n",
       "1                  Tier 3  Supermarket Type2           443.4228  \n",
       "2                  Tier 1  Supermarket Type1          2097.2700  \n",
       "3                  Tier 3      Grocery Store           732.3800  \n",
       "4                  Tier 3  Supermarket Type1           994.7052  \n",
       "...                   ...                ...                ...  \n",
       "8518               Tier 3  Supermarket Type1          2778.3834  \n",
       "8519               Tier 2  Supermarket Type1           549.2850  \n",
       "8520               Tier 2  Supermarket Type1          1193.1136  \n",
       "8521               Tier 3  Supermarket Type2          1845.5976  \n",
       "8522               Tier 1  Supermarket Type1           765.6700  \n",
       "\n",
       "[8523 rows x 11 columns]"
      ]
     },
     "execution_count": 10,
     "metadata": {},
     "output_type": "execute_result"
    }
   ],
   "source": [
    "df = df.drop('Item_Identifier',axis = 1)\n",
    "df"
   ]
  },
  {
   "cell_type": "code",
   "execution_count": 11,
   "id": "30b92414",
   "metadata": {},
   "outputs": [
    {
     "name": "stdout",
     "output_type": "stream",
     "text": [
      "<class 'pandas.core.frame.DataFrame'>\n",
      "RangeIndex: 8523 entries, 0 to 8522\n",
      "Data columns (total 11 columns):\n",
      " #   Column                     Non-Null Count  Dtype  \n",
      "---  ------                     --------------  -----  \n",
      " 0   Item_Weight                7060 non-null   float64\n",
      " 1   Item_Fat_Content           8523 non-null   object \n",
      " 2   Item_Visibility            8523 non-null   float64\n",
      " 3   Item_Type                  8523 non-null   object \n",
      " 4   Item_MRP                   8523 non-null   float64\n",
      " 5   Outlet_Identifier          8523 non-null   object \n",
      " 6   Outlet_Establishment_Year  8523 non-null   int64  \n",
      " 7   Outlet_Size                6113 non-null   object \n",
      " 8   Outlet_Location_Type       8523 non-null   object \n",
      " 9   Outlet_Type                8523 non-null   object \n",
      " 10  Item_Outlet_Sales          8523 non-null   float64\n",
      "dtypes: float64(4), int64(1), object(6)\n",
      "memory usage: 732.6+ KB\n"
     ]
    }
   ],
   "source": [
    "df.info()"
   ]
  },
  {
   "cell_type": "markdown",
   "id": "48fed5b1",
   "metadata": {},
   "source": [
    "### 3.2 Item_Weight"
   ]
  },
  {
   "cell_type": "code",
   "execution_count": 12,
   "id": "b27f83ec",
   "metadata": {},
   "outputs": [
    {
     "data": {
      "text/plain": [
       "0        9.300\n",
       "1        5.920\n",
       "2       17.500\n",
       "3       19.200\n",
       "4        8.930\n",
       "         ...  \n",
       "8518     6.865\n",
       "8519     8.380\n",
       "8520    10.600\n",
       "8521     7.210\n",
       "8522    14.800\n",
       "Name: Item_Weight, Length: 8523, dtype: float64"
      ]
     },
     "execution_count": 12,
     "metadata": {},
     "output_type": "execute_result"
    }
   ],
   "source": [
    "df['Item_Weight']"
   ]
  },
  {
   "cell_type": "code",
   "execution_count": 13,
   "id": "ed5e7a1a",
   "metadata": {},
   "outputs": [
    {
     "data": {
      "text/plain": [
       "1463"
      ]
     },
     "execution_count": 13,
     "metadata": {},
     "output_type": "execute_result"
    }
   ],
   "source": [
    "df['Item_Weight'].isnull().sum()"
   ]
  },
  {
   "cell_type": "code",
   "execution_count": 14,
   "id": "e8b37b9d",
   "metadata": {},
   "outputs": [
    {
     "data": {
      "text/plain": [
       "12.150    86\n",
       "17.600    82\n",
       "13.650    77\n",
       "11.800    76\n",
       "15.100    68\n",
       "          ..\n",
       "7.275      2\n",
       "7.685      1\n",
       "9.420      1\n",
       "6.520      1\n",
       "5.400      1\n",
       "Name: Item_Weight, Length: 415, dtype: int64"
      ]
     },
     "execution_count": 14,
     "metadata": {},
     "output_type": "execute_result"
    }
   ],
   "source": [
    "df['Item_Weight'].value_counts()"
   ]
  },
  {
   "cell_type": "code",
   "execution_count": 15,
   "id": "ae8eaa17",
   "metadata": {},
   "outputs": [
    {
     "data": {
      "text/plain": [
       "12.6"
      ]
     },
     "execution_count": 15,
     "metadata": {},
     "output_type": "execute_result"
    }
   ],
   "source": [
    "df['Item_Weight'].median()"
   ]
  },
  {
   "cell_type": "code",
   "execution_count": 16,
   "id": "2147cc11",
   "metadata": {},
   "outputs": [
    {
     "data": {
      "text/plain": [
       "12.857645184136183"
      ]
     },
     "execution_count": 16,
     "metadata": {},
     "output_type": "execute_result"
    }
   ],
   "source": [
    "df['Item_Weight'].mean()"
   ]
  },
  {
   "cell_type": "code",
   "execution_count": 17,
   "id": "96f51a21",
   "metadata": {},
   "outputs": [],
   "source": [
    "df['Item_Weight'].fillna(df['Item_Weight'].median(),inplace=True)"
   ]
  },
  {
   "cell_type": "code",
   "execution_count": 18,
   "id": "282cc4f9",
   "metadata": {},
   "outputs": [
    {
     "data": {
      "text/plain": [
       "0"
      ]
     },
     "execution_count": 18,
     "metadata": {},
     "output_type": "execute_result"
    }
   ],
   "source": [
    "df['Item_Weight'].isnull().sum()"
   ]
  },
  {
   "cell_type": "code",
   "execution_count": 19,
   "id": "8926a78b",
   "metadata": {},
   "outputs": [
    {
     "name": "stdout",
     "output_type": "stream",
     "text": [
      "<class 'pandas.core.frame.DataFrame'>\n",
      "RangeIndex: 8523 entries, 0 to 8522\n",
      "Data columns (total 11 columns):\n",
      " #   Column                     Non-Null Count  Dtype  \n",
      "---  ------                     --------------  -----  \n",
      " 0   Item_Weight                8523 non-null   float64\n",
      " 1   Item_Fat_Content           8523 non-null   object \n",
      " 2   Item_Visibility            8523 non-null   float64\n",
      " 3   Item_Type                  8523 non-null   object \n",
      " 4   Item_MRP                   8523 non-null   float64\n",
      " 5   Outlet_Identifier          8523 non-null   object \n",
      " 6   Outlet_Establishment_Year  8523 non-null   int64  \n",
      " 7   Outlet_Size                6113 non-null   object \n",
      " 8   Outlet_Location_Type       8523 non-null   object \n",
      " 9   Outlet_Type                8523 non-null   object \n",
      " 10  Item_Outlet_Sales          8523 non-null   float64\n",
      "dtypes: float64(4), int64(1), object(6)\n",
      "memory usage: 732.6+ KB\n"
     ]
    }
   ],
   "source": [
    "df.info()"
   ]
  },
  {
   "cell_type": "markdown",
   "id": "aa7b6c75",
   "metadata": {},
   "source": [
    "### 3.3 Item_Fat_Content"
   ]
  },
  {
   "cell_type": "code",
   "execution_count": 20,
   "id": "7f19db53",
   "metadata": {},
   "outputs": [
    {
     "data": {
      "text/plain": [
       "0       Low Fat\n",
       "1       Regular\n",
       "2       Low Fat\n",
       "3       Regular\n",
       "4       Low Fat\n",
       "         ...   \n",
       "8518    Low Fat\n",
       "8519    Regular\n",
       "8520    Low Fat\n",
       "8521    Regular\n",
       "8522    Low Fat\n",
       "Name: Item_Fat_Content, Length: 8523, dtype: object"
      ]
     },
     "execution_count": 20,
     "metadata": {},
     "output_type": "execute_result"
    }
   ],
   "source": [
    "df['Item_Fat_Content']"
   ]
  },
  {
   "cell_type": "code",
   "execution_count": 21,
   "id": "f7b031f8",
   "metadata": {},
   "outputs": [
    {
     "data": {
      "text/plain": [
       "0"
      ]
     },
     "execution_count": 21,
     "metadata": {},
     "output_type": "execute_result"
    }
   ],
   "source": [
    "df['Item_Fat_Content'].isna().sum()"
   ]
  },
  {
   "cell_type": "code",
   "execution_count": 22,
   "id": "16b33d89",
   "metadata": {},
   "outputs": [
    {
     "data": {
      "text/plain": [
       "Low Fat    5089\n",
       "Regular    2889\n",
       "LF          316\n",
       "reg         117\n",
       "low fat     112\n",
       "Name: Item_Fat_Content, dtype: int64"
      ]
     },
     "execution_count": 22,
     "metadata": {},
     "output_type": "execute_result"
    }
   ],
   "source": [
    "df['Item_Fat_Content'].value_counts()"
   ]
  },
  {
   "cell_type": "code",
   "execution_count": 23,
   "id": "af26bcb7",
   "metadata": {},
   "outputs": [],
   "source": [
    "df['Item_Fat_Content'].replace(['LF', 'low fat', 'reg'], \n",
    "                                  ['Low Fat','Low Fat','Regular'],inplace = True)"
   ]
  },
  {
   "cell_type": "code",
   "execution_count": 24,
   "id": "074d4446",
   "metadata": {},
   "outputs": [
    {
     "data": {
      "text/plain": [
       "Low Fat    5517\n",
       "Regular    3006\n",
       "Name: Item_Fat_Content, dtype: int64"
      ]
     },
     "execution_count": 24,
     "metadata": {},
     "output_type": "execute_result"
    }
   ],
   "source": [
    "df['Item_Fat_Content'].value_counts()"
   ]
  },
  {
   "cell_type": "code",
   "execution_count": 25,
   "id": "d26a388d",
   "metadata": {},
   "outputs": [],
   "source": [
    "df['Item_Fat_Content'] = label_encoder.fit_transform(df['Item_Fat_Content'])"
   ]
  },
  {
   "cell_type": "code",
   "execution_count": 26,
   "id": "36651bdc",
   "metadata": {},
   "outputs": [
    {
     "data": {
      "text/plain": [
       "0    5517\n",
       "1    3006\n",
       "Name: Item_Fat_Content, dtype: int64"
      ]
     },
     "execution_count": 26,
     "metadata": {},
     "output_type": "execute_result"
    }
   ],
   "source": [
    "df['Item_Fat_Content'].value_counts()"
   ]
  },
  {
   "cell_type": "code",
   "execution_count": 27,
   "id": "6f880453",
   "metadata": {},
   "outputs": [
    {
     "data": {
      "text/plain": [
       "{0: 5517, 1: 3006}"
      ]
     },
     "execution_count": 27,
     "metadata": {},
     "output_type": "execute_result"
    }
   ],
   "source": [
    "df['Item_Fat_Content'].value_counts().to_dict()"
   ]
  },
  {
   "cell_type": "code",
   "execution_count": 28,
   "id": "b35823d2",
   "metadata": {},
   "outputs": [
    {
     "data": {
      "text/plain": [
       "{'Low Fat': 0, 'Regular': 1}"
      ]
     },
     "execution_count": 28,
     "metadata": {},
     "output_type": "execute_result"
    }
   ],
   "source": [
    "fat_value = {'Low Fat': 0, 'Regular': 1}\n",
    "fat_value"
   ]
  },
  {
   "cell_type": "code",
   "execution_count": 29,
   "id": "53ea1ac8",
   "metadata": {},
   "outputs": [
    {
     "name": "stdout",
     "output_type": "stream",
     "text": [
      "<class 'pandas.core.frame.DataFrame'>\n",
      "RangeIndex: 8523 entries, 0 to 8522\n",
      "Data columns (total 11 columns):\n",
      " #   Column                     Non-Null Count  Dtype  \n",
      "---  ------                     --------------  -----  \n",
      " 0   Item_Weight                8523 non-null   float64\n",
      " 1   Item_Fat_Content           8523 non-null   int32  \n",
      " 2   Item_Visibility            8523 non-null   float64\n",
      " 3   Item_Type                  8523 non-null   object \n",
      " 4   Item_MRP                   8523 non-null   float64\n",
      " 5   Outlet_Identifier          8523 non-null   object \n",
      " 6   Outlet_Establishment_Year  8523 non-null   int64  \n",
      " 7   Outlet_Size                6113 non-null   object \n",
      " 8   Outlet_Location_Type       8523 non-null   object \n",
      " 9   Outlet_Type                8523 non-null   object \n",
      " 10  Item_Outlet_Sales          8523 non-null   float64\n",
      "dtypes: float64(4), int32(1), int64(1), object(5)\n",
      "memory usage: 699.3+ KB\n"
     ]
    }
   ],
   "source": [
    "df. info()"
   ]
  },
  {
   "cell_type": "markdown",
   "id": "514bb29e",
   "metadata": {},
   "source": [
    "### 3.4 Item_Visibility"
   ]
  },
  {
   "cell_type": "code",
   "execution_count": 30,
   "id": "e56927e6",
   "metadata": {},
   "outputs": [
    {
     "data": {
      "text/plain": [
       "0       0.016047\n",
       "1       0.019278\n",
       "2       0.016760\n",
       "3       0.000000\n",
       "4       0.000000\n",
       "          ...   \n",
       "8518    0.056783\n",
       "8519    0.046982\n",
       "8520    0.035186\n",
       "8521    0.145221\n",
       "8522    0.044878\n",
       "Name: Item_Visibility, Length: 8523, dtype: float64"
      ]
     },
     "execution_count": 30,
     "metadata": {},
     "output_type": "execute_result"
    }
   ],
   "source": [
    "df['Item_Visibility']"
   ]
  },
  {
   "cell_type": "code",
   "execution_count": 31,
   "id": "83d685cf",
   "metadata": {},
   "outputs": [
    {
     "data": {
      "text/plain": [
       "0"
      ]
     },
     "execution_count": 31,
     "metadata": {},
     "output_type": "execute_result"
    }
   ],
   "source": [
    "df['Item_Visibility'].isnull().sum()"
   ]
  },
  {
   "cell_type": "code",
   "execution_count": 32,
   "id": "3ee28ce6",
   "metadata": {},
   "outputs": [
    {
     "data": {
      "text/plain": [
       "0.000000    526\n",
       "0.076975      3\n",
       "0.162462      2\n",
       "0.076841      2\n",
       "0.073562      2\n",
       "           ... \n",
       "0.013957      1\n",
       "0.110460      1\n",
       "0.124646      1\n",
       "0.054142      1\n",
       "0.044878      1\n",
       "Name: Item_Visibility, Length: 7880, dtype: int64"
      ]
     },
     "execution_count": 32,
     "metadata": {},
     "output_type": "execute_result"
    }
   ],
   "source": [
    "df['Item_Visibility'].value_counts()"
   ]
  },
  {
   "cell_type": "code",
   "execution_count": 33,
   "id": "feada67f",
   "metadata": {},
   "outputs": [
    {
     "name": "stdout",
     "output_type": "stream",
     "text": [
      "<class 'pandas.core.frame.DataFrame'>\n",
      "RangeIndex: 8523 entries, 0 to 8522\n",
      "Data columns (total 11 columns):\n",
      " #   Column                     Non-Null Count  Dtype  \n",
      "---  ------                     --------------  -----  \n",
      " 0   Item_Weight                8523 non-null   float64\n",
      " 1   Item_Fat_Content           8523 non-null   int32  \n",
      " 2   Item_Visibility            8523 non-null   float64\n",
      " 3   Item_Type                  8523 non-null   object \n",
      " 4   Item_MRP                   8523 non-null   float64\n",
      " 5   Outlet_Identifier          8523 non-null   object \n",
      " 6   Outlet_Establishment_Year  8523 non-null   int64  \n",
      " 7   Outlet_Size                6113 non-null   object \n",
      " 8   Outlet_Location_Type       8523 non-null   object \n",
      " 9   Outlet_Type                8523 non-null   object \n",
      " 10  Item_Outlet_Sales          8523 non-null   float64\n",
      "dtypes: float64(4), int32(1), int64(1), object(5)\n",
      "memory usage: 699.3+ KB\n"
     ]
    }
   ],
   "source": [
    "df.info()"
   ]
  },
  {
   "cell_type": "markdown",
   "id": "8e6bfea0",
   "metadata": {},
   "source": [
    "### 3.5 Item_Type"
   ]
  },
  {
   "cell_type": "code",
   "execution_count": 34,
   "id": "8059c43a",
   "metadata": {},
   "outputs": [
    {
     "data": {
      "text/plain": [
       "0                       Dairy\n",
       "1                 Soft Drinks\n",
       "2                        Meat\n",
       "3       Fruits and Vegetables\n",
       "4                   Household\n",
       "                ...          \n",
       "8518              Snack Foods\n",
       "8519             Baking Goods\n",
       "8520       Health and Hygiene\n",
       "8521              Snack Foods\n",
       "8522              Soft Drinks\n",
       "Name: Item_Type, Length: 8523, dtype: object"
      ]
     },
     "execution_count": 34,
     "metadata": {},
     "output_type": "execute_result"
    }
   ],
   "source": [
    "df['Item_Type']"
   ]
  },
  {
   "cell_type": "code",
   "execution_count": 35,
   "id": "456a03ad",
   "metadata": {},
   "outputs": [
    {
     "data": {
      "text/plain": [
       "0"
      ]
     },
     "execution_count": 35,
     "metadata": {},
     "output_type": "execute_result"
    }
   ],
   "source": [
    "df['Item_Type'].isna().sum()"
   ]
  },
  {
   "cell_type": "code",
   "execution_count": 36,
   "id": "8c2adc11",
   "metadata": {},
   "outputs": [
    {
     "data": {
      "text/plain": [
       "Fruits and Vegetables    1232\n",
       "Snack Foods              1200\n",
       "Household                 910\n",
       "Frozen Foods              856\n",
       "Dairy                     682\n",
       "Canned                    649\n",
       "Baking Goods              648\n",
       "Health and Hygiene        520\n",
       "Soft Drinks               445\n",
       "Meat                      425\n",
       "Breads                    251\n",
       "Hard Drinks               214\n",
       "Others                    169\n",
       "Starchy Foods             148\n",
       "Breakfast                 110\n",
       "Seafood                    64\n",
       "Name: Item_Type, dtype: int64"
      ]
     },
     "execution_count": 36,
     "metadata": {},
     "output_type": "execute_result"
    }
   ],
   "source": [
    "df['Item_Type'].value_counts()"
   ]
  },
  {
   "cell_type": "code",
   "execution_count": 37,
   "id": "df781ed7",
   "metadata": {},
   "outputs": [
    {
     "data": {
      "text/html": [
       "<div>\n",
       "<style scoped>\n",
       "    .dataframe tbody tr th:only-of-type {\n",
       "        vertical-align: middle;\n",
       "    }\n",
       "\n",
       "    .dataframe tbody tr th {\n",
       "        vertical-align: top;\n",
       "    }\n",
       "\n",
       "    .dataframe thead th {\n",
       "        text-align: right;\n",
       "    }\n",
       "</style>\n",
       "<table border=\"1\" class=\"dataframe\">\n",
       "  <thead>\n",
       "    <tr style=\"text-align: right;\">\n",
       "      <th></th>\n",
       "      <th>Item_Weight</th>\n",
       "      <th>Item_Fat_Content</th>\n",
       "      <th>Item_Visibility</th>\n",
       "      <th>Item_MRP</th>\n",
       "      <th>Outlet_Identifier</th>\n",
       "      <th>Outlet_Establishment_Year</th>\n",
       "      <th>Outlet_Size</th>\n",
       "      <th>Outlet_Location_Type</th>\n",
       "      <th>Outlet_Type</th>\n",
       "      <th>Item_Outlet_Sales</th>\n",
       "      <th>...</th>\n",
       "      <th>Item_Type_Fruits and Vegetables</th>\n",
       "      <th>Item_Type_Hard Drinks</th>\n",
       "      <th>Item_Type_Health and Hygiene</th>\n",
       "      <th>Item_Type_Household</th>\n",
       "      <th>Item_Type_Meat</th>\n",
       "      <th>Item_Type_Others</th>\n",
       "      <th>Item_Type_Seafood</th>\n",
       "      <th>Item_Type_Snack Foods</th>\n",
       "      <th>Item_Type_Soft Drinks</th>\n",
       "      <th>Item_Type_Starchy Foods</th>\n",
       "    </tr>\n",
       "  </thead>\n",
       "  <tbody>\n",
       "    <tr>\n",
       "      <th>0</th>\n",
       "      <td>9.300</td>\n",
       "      <td>0</td>\n",
       "      <td>0.016047</td>\n",
       "      <td>249.8092</td>\n",
       "      <td>OUT049</td>\n",
       "      <td>1999</td>\n",
       "      <td>Medium</td>\n",
       "      <td>Tier 1</td>\n",
       "      <td>Supermarket Type1</td>\n",
       "      <td>3735.1380</td>\n",
       "      <td>...</td>\n",
       "      <td>0</td>\n",
       "      <td>0</td>\n",
       "      <td>0</td>\n",
       "      <td>0</td>\n",
       "      <td>0</td>\n",
       "      <td>0</td>\n",
       "      <td>0</td>\n",
       "      <td>0</td>\n",
       "      <td>0</td>\n",
       "      <td>0</td>\n",
       "    </tr>\n",
       "    <tr>\n",
       "      <th>1</th>\n",
       "      <td>5.920</td>\n",
       "      <td>1</td>\n",
       "      <td>0.019278</td>\n",
       "      <td>48.2692</td>\n",
       "      <td>OUT018</td>\n",
       "      <td>2009</td>\n",
       "      <td>Medium</td>\n",
       "      <td>Tier 3</td>\n",
       "      <td>Supermarket Type2</td>\n",
       "      <td>443.4228</td>\n",
       "      <td>...</td>\n",
       "      <td>0</td>\n",
       "      <td>0</td>\n",
       "      <td>0</td>\n",
       "      <td>0</td>\n",
       "      <td>0</td>\n",
       "      <td>0</td>\n",
       "      <td>0</td>\n",
       "      <td>0</td>\n",
       "      <td>1</td>\n",
       "      <td>0</td>\n",
       "    </tr>\n",
       "    <tr>\n",
       "      <th>2</th>\n",
       "      <td>17.500</td>\n",
       "      <td>0</td>\n",
       "      <td>0.016760</td>\n",
       "      <td>141.6180</td>\n",
       "      <td>OUT049</td>\n",
       "      <td>1999</td>\n",
       "      <td>Medium</td>\n",
       "      <td>Tier 1</td>\n",
       "      <td>Supermarket Type1</td>\n",
       "      <td>2097.2700</td>\n",
       "      <td>...</td>\n",
       "      <td>0</td>\n",
       "      <td>0</td>\n",
       "      <td>0</td>\n",
       "      <td>0</td>\n",
       "      <td>1</td>\n",
       "      <td>0</td>\n",
       "      <td>0</td>\n",
       "      <td>0</td>\n",
       "      <td>0</td>\n",
       "      <td>0</td>\n",
       "    </tr>\n",
       "    <tr>\n",
       "      <th>3</th>\n",
       "      <td>19.200</td>\n",
       "      <td>1</td>\n",
       "      <td>0.000000</td>\n",
       "      <td>182.0950</td>\n",
       "      <td>OUT010</td>\n",
       "      <td>1998</td>\n",
       "      <td>NaN</td>\n",
       "      <td>Tier 3</td>\n",
       "      <td>Grocery Store</td>\n",
       "      <td>732.3800</td>\n",
       "      <td>...</td>\n",
       "      <td>1</td>\n",
       "      <td>0</td>\n",
       "      <td>0</td>\n",
       "      <td>0</td>\n",
       "      <td>0</td>\n",
       "      <td>0</td>\n",
       "      <td>0</td>\n",
       "      <td>0</td>\n",
       "      <td>0</td>\n",
       "      <td>0</td>\n",
       "    </tr>\n",
       "    <tr>\n",
       "      <th>4</th>\n",
       "      <td>8.930</td>\n",
       "      <td>0</td>\n",
       "      <td>0.000000</td>\n",
       "      <td>53.8614</td>\n",
       "      <td>OUT013</td>\n",
       "      <td>1987</td>\n",
       "      <td>High</td>\n",
       "      <td>Tier 3</td>\n",
       "      <td>Supermarket Type1</td>\n",
       "      <td>994.7052</td>\n",
       "      <td>...</td>\n",
       "      <td>0</td>\n",
       "      <td>0</td>\n",
       "      <td>0</td>\n",
       "      <td>1</td>\n",
       "      <td>0</td>\n",
       "      <td>0</td>\n",
       "      <td>0</td>\n",
       "      <td>0</td>\n",
       "      <td>0</td>\n",
       "      <td>0</td>\n",
       "    </tr>\n",
       "    <tr>\n",
       "      <th>...</th>\n",
       "      <td>...</td>\n",
       "      <td>...</td>\n",
       "      <td>...</td>\n",
       "      <td>...</td>\n",
       "      <td>...</td>\n",
       "      <td>...</td>\n",
       "      <td>...</td>\n",
       "      <td>...</td>\n",
       "      <td>...</td>\n",
       "      <td>...</td>\n",
       "      <td>...</td>\n",
       "      <td>...</td>\n",
       "      <td>...</td>\n",
       "      <td>...</td>\n",
       "      <td>...</td>\n",
       "      <td>...</td>\n",
       "      <td>...</td>\n",
       "      <td>...</td>\n",
       "      <td>...</td>\n",
       "      <td>...</td>\n",
       "      <td>...</td>\n",
       "    </tr>\n",
       "    <tr>\n",
       "      <th>8518</th>\n",
       "      <td>6.865</td>\n",
       "      <td>0</td>\n",
       "      <td>0.056783</td>\n",
       "      <td>214.5218</td>\n",
       "      <td>OUT013</td>\n",
       "      <td>1987</td>\n",
       "      <td>High</td>\n",
       "      <td>Tier 3</td>\n",
       "      <td>Supermarket Type1</td>\n",
       "      <td>2778.3834</td>\n",
       "      <td>...</td>\n",
       "      <td>0</td>\n",
       "      <td>0</td>\n",
       "      <td>0</td>\n",
       "      <td>0</td>\n",
       "      <td>0</td>\n",
       "      <td>0</td>\n",
       "      <td>0</td>\n",
       "      <td>1</td>\n",
       "      <td>0</td>\n",
       "      <td>0</td>\n",
       "    </tr>\n",
       "    <tr>\n",
       "      <th>8519</th>\n",
       "      <td>8.380</td>\n",
       "      <td>1</td>\n",
       "      <td>0.046982</td>\n",
       "      <td>108.1570</td>\n",
       "      <td>OUT045</td>\n",
       "      <td>2002</td>\n",
       "      <td>NaN</td>\n",
       "      <td>Tier 2</td>\n",
       "      <td>Supermarket Type1</td>\n",
       "      <td>549.2850</td>\n",
       "      <td>...</td>\n",
       "      <td>0</td>\n",
       "      <td>0</td>\n",
       "      <td>0</td>\n",
       "      <td>0</td>\n",
       "      <td>0</td>\n",
       "      <td>0</td>\n",
       "      <td>0</td>\n",
       "      <td>0</td>\n",
       "      <td>0</td>\n",
       "      <td>0</td>\n",
       "    </tr>\n",
       "    <tr>\n",
       "      <th>8520</th>\n",
       "      <td>10.600</td>\n",
       "      <td>0</td>\n",
       "      <td>0.035186</td>\n",
       "      <td>85.1224</td>\n",
       "      <td>OUT035</td>\n",
       "      <td>2004</td>\n",
       "      <td>Small</td>\n",
       "      <td>Tier 2</td>\n",
       "      <td>Supermarket Type1</td>\n",
       "      <td>1193.1136</td>\n",
       "      <td>...</td>\n",
       "      <td>0</td>\n",
       "      <td>0</td>\n",
       "      <td>1</td>\n",
       "      <td>0</td>\n",
       "      <td>0</td>\n",
       "      <td>0</td>\n",
       "      <td>0</td>\n",
       "      <td>0</td>\n",
       "      <td>0</td>\n",
       "      <td>0</td>\n",
       "    </tr>\n",
       "    <tr>\n",
       "      <th>8521</th>\n",
       "      <td>7.210</td>\n",
       "      <td>1</td>\n",
       "      <td>0.145221</td>\n",
       "      <td>103.1332</td>\n",
       "      <td>OUT018</td>\n",
       "      <td>2009</td>\n",
       "      <td>Medium</td>\n",
       "      <td>Tier 3</td>\n",
       "      <td>Supermarket Type2</td>\n",
       "      <td>1845.5976</td>\n",
       "      <td>...</td>\n",
       "      <td>0</td>\n",
       "      <td>0</td>\n",
       "      <td>0</td>\n",
       "      <td>0</td>\n",
       "      <td>0</td>\n",
       "      <td>0</td>\n",
       "      <td>0</td>\n",
       "      <td>1</td>\n",
       "      <td>0</td>\n",
       "      <td>0</td>\n",
       "    </tr>\n",
       "    <tr>\n",
       "      <th>8522</th>\n",
       "      <td>14.800</td>\n",
       "      <td>0</td>\n",
       "      <td>0.044878</td>\n",
       "      <td>75.4670</td>\n",
       "      <td>OUT046</td>\n",
       "      <td>1997</td>\n",
       "      <td>Small</td>\n",
       "      <td>Tier 1</td>\n",
       "      <td>Supermarket Type1</td>\n",
       "      <td>765.6700</td>\n",
       "      <td>...</td>\n",
       "      <td>0</td>\n",
       "      <td>0</td>\n",
       "      <td>0</td>\n",
       "      <td>0</td>\n",
       "      <td>0</td>\n",
       "      <td>0</td>\n",
       "      <td>0</td>\n",
       "      <td>0</td>\n",
       "      <td>1</td>\n",
       "      <td>0</td>\n",
       "    </tr>\n",
       "  </tbody>\n",
       "</table>\n",
       "<p>8523 rows × 26 columns</p>\n",
       "</div>"
      ],
      "text/plain": [
       "      Item_Weight  Item_Fat_Content  Item_Visibility  Item_MRP  \\\n",
       "0           9.300                 0         0.016047  249.8092   \n",
       "1           5.920                 1         0.019278   48.2692   \n",
       "2          17.500                 0         0.016760  141.6180   \n",
       "3          19.200                 1         0.000000  182.0950   \n",
       "4           8.930                 0         0.000000   53.8614   \n",
       "...           ...               ...              ...       ...   \n",
       "8518        6.865                 0         0.056783  214.5218   \n",
       "8519        8.380                 1         0.046982  108.1570   \n",
       "8520       10.600                 0         0.035186   85.1224   \n",
       "8521        7.210                 1         0.145221  103.1332   \n",
       "8522       14.800                 0         0.044878   75.4670   \n",
       "\n",
       "     Outlet_Identifier  Outlet_Establishment_Year Outlet_Size  \\\n",
       "0               OUT049                       1999      Medium   \n",
       "1               OUT018                       2009      Medium   \n",
       "2               OUT049                       1999      Medium   \n",
       "3               OUT010                       1998         NaN   \n",
       "4               OUT013                       1987        High   \n",
       "...                ...                        ...         ...   \n",
       "8518            OUT013                       1987        High   \n",
       "8519            OUT045                       2002         NaN   \n",
       "8520            OUT035                       2004       Small   \n",
       "8521            OUT018                       2009      Medium   \n",
       "8522            OUT046                       1997       Small   \n",
       "\n",
       "     Outlet_Location_Type        Outlet_Type  Item_Outlet_Sales  ...  \\\n",
       "0                  Tier 1  Supermarket Type1          3735.1380  ...   \n",
       "1                  Tier 3  Supermarket Type2           443.4228  ...   \n",
       "2                  Tier 1  Supermarket Type1          2097.2700  ...   \n",
       "3                  Tier 3      Grocery Store           732.3800  ...   \n",
       "4                  Tier 3  Supermarket Type1           994.7052  ...   \n",
       "...                   ...                ...                ...  ...   \n",
       "8518               Tier 3  Supermarket Type1          2778.3834  ...   \n",
       "8519               Tier 2  Supermarket Type1           549.2850  ...   \n",
       "8520               Tier 2  Supermarket Type1          1193.1136  ...   \n",
       "8521               Tier 3  Supermarket Type2          1845.5976  ...   \n",
       "8522               Tier 1  Supermarket Type1           765.6700  ...   \n",
       "\n",
       "      Item_Type_Fruits and Vegetables  Item_Type_Hard Drinks  \\\n",
       "0                                   0                      0   \n",
       "1                                   0                      0   \n",
       "2                                   0                      0   \n",
       "3                                   1                      0   \n",
       "4                                   0                      0   \n",
       "...                               ...                    ...   \n",
       "8518                                0                      0   \n",
       "8519                                0                      0   \n",
       "8520                                0                      0   \n",
       "8521                                0                      0   \n",
       "8522                                0                      0   \n",
       "\n",
       "      Item_Type_Health and Hygiene  Item_Type_Household  Item_Type_Meat  \\\n",
       "0                                0                    0               0   \n",
       "1                                0                    0               0   \n",
       "2                                0                    0               1   \n",
       "3                                0                    0               0   \n",
       "4                                0                    1               0   \n",
       "...                            ...                  ...             ...   \n",
       "8518                             0                    0               0   \n",
       "8519                             0                    0               0   \n",
       "8520                             1                    0               0   \n",
       "8521                             0                    0               0   \n",
       "8522                             0                    0               0   \n",
       "\n",
       "      Item_Type_Others  Item_Type_Seafood  Item_Type_Snack Foods  \\\n",
       "0                    0                  0                      0   \n",
       "1                    0                  0                      0   \n",
       "2                    0                  0                      0   \n",
       "3                    0                  0                      0   \n",
       "4                    0                  0                      0   \n",
       "...                ...                ...                    ...   \n",
       "8518                 0                  0                      1   \n",
       "8519                 0                  0                      0   \n",
       "8520                 0                  0                      0   \n",
       "8521                 0                  0                      1   \n",
       "8522                 0                  0                      0   \n",
       "\n",
       "      Item_Type_Soft Drinks  Item_Type_Starchy Foods  \n",
       "0                         0                        0  \n",
       "1                         1                        0  \n",
       "2                         0                        0  \n",
       "3                         0                        0  \n",
       "4                         0                        0  \n",
       "...                     ...                      ...  \n",
       "8518                      0                        0  \n",
       "8519                      0                        0  \n",
       "8520                      0                        0  \n",
       "8521                      0                        0  \n",
       "8522                      1                        0  \n",
       "\n",
       "[8523 rows x 26 columns]"
      ]
     },
     "execution_count": 37,
     "metadata": {},
     "output_type": "execute_result"
    }
   ],
   "source": [
    "df = pd.get_dummies(df, columns= ['Item_Type'])\n",
    "df"
   ]
  },
  {
   "cell_type": "code",
   "execution_count": 38,
   "id": "65f7825a",
   "metadata": {},
   "outputs": [
    {
     "name": "stdout",
     "output_type": "stream",
     "text": [
      "<class 'pandas.core.frame.DataFrame'>\n",
      "RangeIndex: 8523 entries, 0 to 8522\n",
      "Data columns (total 26 columns):\n",
      " #   Column                           Non-Null Count  Dtype  \n",
      "---  ------                           --------------  -----  \n",
      " 0   Item_Weight                      8523 non-null   float64\n",
      " 1   Item_Fat_Content                 8523 non-null   int32  \n",
      " 2   Item_Visibility                  8523 non-null   float64\n",
      " 3   Item_MRP                         8523 non-null   float64\n",
      " 4   Outlet_Identifier                8523 non-null   object \n",
      " 5   Outlet_Establishment_Year        8523 non-null   int64  \n",
      " 6   Outlet_Size                      6113 non-null   object \n",
      " 7   Outlet_Location_Type             8523 non-null   object \n",
      " 8   Outlet_Type                      8523 non-null   object \n",
      " 9   Item_Outlet_Sales                8523 non-null   float64\n",
      " 10  Item_Type_Baking Goods           8523 non-null   uint8  \n",
      " 11  Item_Type_Breads                 8523 non-null   uint8  \n",
      " 12  Item_Type_Breakfast              8523 non-null   uint8  \n",
      " 13  Item_Type_Canned                 8523 non-null   uint8  \n",
      " 14  Item_Type_Dairy                  8523 non-null   uint8  \n",
      " 15  Item_Type_Frozen Foods           8523 non-null   uint8  \n",
      " 16  Item_Type_Fruits and Vegetables  8523 non-null   uint8  \n",
      " 17  Item_Type_Hard Drinks            8523 non-null   uint8  \n",
      " 18  Item_Type_Health and Hygiene     8523 non-null   uint8  \n",
      " 19  Item_Type_Household              8523 non-null   uint8  \n",
      " 20  Item_Type_Meat                   8523 non-null   uint8  \n",
      " 21  Item_Type_Others                 8523 non-null   uint8  \n",
      " 22  Item_Type_Seafood                8523 non-null   uint8  \n",
      " 23  Item_Type_Snack Foods            8523 non-null   uint8  \n",
      " 24  Item_Type_Soft Drinks            8523 non-null   uint8  \n",
      " 25  Item_Type_Starchy Foods          8523 non-null   uint8  \n",
      "dtypes: float64(4), int32(1), int64(1), object(4), uint8(16)\n",
      "memory usage: 765.9+ KB\n"
     ]
    }
   ],
   "source": [
    "df.info()"
   ]
  },
  {
   "cell_type": "markdown",
   "id": "feded57e",
   "metadata": {},
   "source": [
    "### 36. Item_MRP"
   ]
  },
  {
   "cell_type": "code",
   "execution_count": 39,
   "id": "b470c6a4",
   "metadata": {},
   "outputs": [
    {
     "data": {
      "text/plain": [
       "0       249.8092\n",
       "1        48.2692\n",
       "2       141.6180\n",
       "3       182.0950\n",
       "4        53.8614\n",
       "          ...   \n",
       "8518    214.5218\n",
       "8519    108.1570\n",
       "8520     85.1224\n",
       "8521    103.1332\n",
       "8522     75.4670\n",
       "Name: Item_MRP, Length: 8523, dtype: float64"
      ]
     },
     "execution_count": 39,
     "metadata": {},
     "output_type": "execute_result"
    }
   ],
   "source": [
    "df['Item_MRP']"
   ]
  },
  {
   "cell_type": "code",
   "execution_count": 40,
   "id": "2ce5143b",
   "metadata": {},
   "outputs": [
    {
     "data": {
      "text/plain": [
       "0"
      ]
     },
     "execution_count": 40,
     "metadata": {},
     "output_type": "execute_result"
    }
   ],
   "source": [
    "df['Item_MRP'].isnull().sum()"
   ]
  },
  {
   "cell_type": "code",
   "execution_count": 41,
   "id": "25721432",
   "metadata": {},
   "outputs": [
    {
     "data": {
      "text/plain": [
       "172.0422    7\n",
       "170.5422    6\n",
       "196.5084    6\n",
       "188.1872    6\n",
       "142.0154    6\n",
       "           ..\n",
       "97.3384     1\n",
       "83.1934     1\n",
       "96.6752     1\n",
       "152.6682    1\n",
       "75.4670     1\n",
       "Name: Item_MRP, Length: 5938, dtype: int64"
      ]
     },
     "execution_count": 41,
     "metadata": {},
     "output_type": "execute_result"
    }
   ],
   "source": [
    "df['Item_MRP'].value_counts()"
   ]
  },
  {
   "cell_type": "code",
   "execution_count": 42,
   "id": "622f1c32",
   "metadata": {},
   "outputs": [
    {
     "name": "stdout",
     "output_type": "stream",
     "text": [
      "<class 'pandas.core.frame.DataFrame'>\n",
      "RangeIndex: 8523 entries, 0 to 8522\n",
      "Data columns (total 26 columns):\n",
      " #   Column                           Non-Null Count  Dtype  \n",
      "---  ------                           --------------  -----  \n",
      " 0   Item_Weight                      8523 non-null   float64\n",
      " 1   Item_Fat_Content                 8523 non-null   int32  \n",
      " 2   Item_Visibility                  8523 non-null   float64\n",
      " 3   Item_MRP                         8523 non-null   float64\n",
      " 4   Outlet_Identifier                8523 non-null   object \n",
      " 5   Outlet_Establishment_Year        8523 non-null   int64  \n",
      " 6   Outlet_Size                      6113 non-null   object \n",
      " 7   Outlet_Location_Type             8523 non-null   object \n",
      " 8   Outlet_Type                      8523 non-null   object \n",
      " 9   Item_Outlet_Sales                8523 non-null   float64\n",
      " 10  Item_Type_Baking Goods           8523 non-null   uint8  \n",
      " 11  Item_Type_Breads                 8523 non-null   uint8  \n",
      " 12  Item_Type_Breakfast              8523 non-null   uint8  \n",
      " 13  Item_Type_Canned                 8523 non-null   uint8  \n",
      " 14  Item_Type_Dairy                  8523 non-null   uint8  \n",
      " 15  Item_Type_Frozen Foods           8523 non-null   uint8  \n",
      " 16  Item_Type_Fruits and Vegetables  8523 non-null   uint8  \n",
      " 17  Item_Type_Hard Drinks            8523 non-null   uint8  \n",
      " 18  Item_Type_Health and Hygiene     8523 non-null   uint8  \n",
      " 19  Item_Type_Household              8523 non-null   uint8  \n",
      " 20  Item_Type_Meat                   8523 non-null   uint8  \n",
      " 21  Item_Type_Others                 8523 non-null   uint8  \n",
      " 22  Item_Type_Seafood                8523 non-null   uint8  \n",
      " 23  Item_Type_Snack Foods            8523 non-null   uint8  \n",
      " 24  Item_Type_Soft Drinks            8523 non-null   uint8  \n",
      " 25  Item_Type_Starchy Foods          8523 non-null   uint8  \n",
      "dtypes: float64(4), int32(1), int64(1), object(4), uint8(16)\n",
      "memory usage: 765.9+ KB\n"
     ]
    }
   ],
   "source": [
    "df.info()"
   ]
  },
  {
   "cell_type": "markdown",
   "id": "0a64a825",
   "metadata": {},
   "source": [
    "### 3.7 Outlet_Identifier"
   ]
  },
  {
   "cell_type": "code",
   "execution_count": 43,
   "id": "1b72e866",
   "metadata": {},
   "outputs": [
    {
     "data": {
      "text/plain": [
       "0       OUT049\n",
       "1       OUT018\n",
       "2       OUT049\n",
       "3       OUT010\n",
       "4       OUT013\n",
       "         ...  \n",
       "8518    OUT013\n",
       "8519    OUT045\n",
       "8520    OUT035\n",
       "8521    OUT018\n",
       "8522    OUT046\n",
       "Name: Outlet_Identifier, Length: 8523, dtype: object"
      ]
     },
     "execution_count": 43,
     "metadata": {},
     "output_type": "execute_result"
    }
   ],
   "source": [
    "df['Outlet_Identifier']"
   ]
  },
  {
   "cell_type": "code",
   "execution_count": 44,
   "id": "c7ee0e78",
   "metadata": {},
   "outputs": [
    {
     "data": {
      "text/plain": [
       "0"
      ]
     },
     "execution_count": 44,
     "metadata": {},
     "output_type": "execute_result"
    }
   ],
   "source": [
    "df['Outlet_Identifier'].isna().sum()"
   ]
  },
  {
   "cell_type": "code",
   "execution_count": 45,
   "id": "c80d006c",
   "metadata": {},
   "outputs": [
    {
     "data": {
      "text/plain": [
       "OUT027    935\n",
       "OUT013    932\n",
       "OUT049    930\n",
       "OUT046    930\n",
       "OUT035    930\n",
       "OUT045    929\n",
       "OUT018    928\n",
       "OUT017    926\n",
       "OUT010    555\n",
       "OUT019    528\n",
       "Name: Outlet_Identifier, dtype: int64"
      ]
     },
     "execution_count": 45,
     "metadata": {},
     "output_type": "execute_result"
    }
   ],
   "source": [
    "df['Outlet_Identifier'].value_counts()"
   ]
  },
  {
   "cell_type": "code",
   "execution_count": 46,
   "id": "b714b7d7",
   "metadata": {},
   "outputs": [
    {
     "data": {
      "text/html": [
       "<div>\n",
       "<style scoped>\n",
       "    .dataframe tbody tr th:only-of-type {\n",
       "        vertical-align: middle;\n",
       "    }\n",
       "\n",
       "    .dataframe tbody tr th {\n",
       "        vertical-align: top;\n",
       "    }\n",
       "\n",
       "    .dataframe thead th {\n",
       "        text-align: right;\n",
       "    }\n",
       "</style>\n",
       "<table border=\"1\" class=\"dataframe\">\n",
       "  <thead>\n",
       "    <tr style=\"text-align: right;\">\n",
       "      <th></th>\n",
       "      <th>Item_Weight</th>\n",
       "      <th>Item_Fat_Content</th>\n",
       "      <th>Item_Visibility</th>\n",
       "      <th>Item_MRP</th>\n",
       "      <th>Outlet_Establishment_Year</th>\n",
       "      <th>Outlet_Size</th>\n",
       "      <th>Outlet_Location_Type</th>\n",
       "      <th>Outlet_Type</th>\n",
       "      <th>Item_Outlet_Sales</th>\n",
       "      <th>Item_Type_Baking Goods</th>\n",
       "      <th>...</th>\n",
       "      <th>Item_Type_Fruits and Vegetables</th>\n",
       "      <th>Item_Type_Hard Drinks</th>\n",
       "      <th>Item_Type_Health and Hygiene</th>\n",
       "      <th>Item_Type_Household</th>\n",
       "      <th>Item_Type_Meat</th>\n",
       "      <th>Item_Type_Others</th>\n",
       "      <th>Item_Type_Seafood</th>\n",
       "      <th>Item_Type_Snack Foods</th>\n",
       "      <th>Item_Type_Soft Drinks</th>\n",
       "      <th>Item_Type_Starchy Foods</th>\n",
       "    </tr>\n",
       "  </thead>\n",
       "  <tbody>\n",
       "    <tr>\n",
       "      <th>0</th>\n",
       "      <td>9.300</td>\n",
       "      <td>0</td>\n",
       "      <td>0.016047</td>\n",
       "      <td>249.8092</td>\n",
       "      <td>1999</td>\n",
       "      <td>Medium</td>\n",
       "      <td>Tier 1</td>\n",
       "      <td>Supermarket Type1</td>\n",
       "      <td>3735.1380</td>\n",
       "      <td>0</td>\n",
       "      <td>...</td>\n",
       "      <td>0</td>\n",
       "      <td>0</td>\n",
       "      <td>0</td>\n",
       "      <td>0</td>\n",
       "      <td>0</td>\n",
       "      <td>0</td>\n",
       "      <td>0</td>\n",
       "      <td>0</td>\n",
       "      <td>0</td>\n",
       "      <td>0</td>\n",
       "    </tr>\n",
       "    <tr>\n",
       "      <th>1</th>\n",
       "      <td>5.920</td>\n",
       "      <td>1</td>\n",
       "      <td>0.019278</td>\n",
       "      <td>48.2692</td>\n",
       "      <td>2009</td>\n",
       "      <td>Medium</td>\n",
       "      <td>Tier 3</td>\n",
       "      <td>Supermarket Type2</td>\n",
       "      <td>443.4228</td>\n",
       "      <td>0</td>\n",
       "      <td>...</td>\n",
       "      <td>0</td>\n",
       "      <td>0</td>\n",
       "      <td>0</td>\n",
       "      <td>0</td>\n",
       "      <td>0</td>\n",
       "      <td>0</td>\n",
       "      <td>0</td>\n",
       "      <td>0</td>\n",
       "      <td>1</td>\n",
       "      <td>0</td>\n",
       "    </tr>\n",
       "    <tr>\n",
       "      <th>2</th>\n",
       "      <td>17.500</td>\n",
       "      <td>0</td>\n",
       "      <td>0.016760</td>\n",
       "      <td>141.6180</td>\n",
       "      <td>1999</td>\n",
       "      <td>Medium</td>\n",
       "      <td>Tier 1</td>\n",
       "      <td>Supermarket Type1</td>\n",
       "      <td>2097.2700</td>\n",
       "      <td>0</td>\n",
       "      <td>...</td>\n",
       "      <td>0</td>\n",
       "      <td>0</td>\n",
       "      <td>0</td>\n",
       "      <td>0</td>\n",
       "      <td>1</td>\n",
       "      <td>0</td>\n",
       "      <td>0</td>\n",
       "      <td>0</td>\n",
       "      <td>0</td>\n",
       "      <td>0</td>\n",
       "    </tr>\n",
       "    <tr>\n",
       "      <th>3</th>\n",
       "      <td>19.200</td>\n",
       "      <td>1</td>\n",
       "      <td>0.000000</td>\n",
       "      <td>182.0950</td>\n",
       "      <td>1998</td>\n",
       "      <td>NaN</td>\n",
       "      <td>Tier 3</td>\n",
       "      <td>Grocery Store</td>\n",
       "      <td>732.3800</td>\n",
       "      <td>0</td>\n",
       "      <td>...</td>\n",
       "      <td>1</td>\n",
       "      <td>0</td>\n",
       "      <td>0</td>\n",
       "      <td>0</td>\n",
       "      <td>0</td>\n",
       "      <td>0</td>\n",
       "      <td>0</td>\n",
       "      <td>0</td>\n",
       "      <td>0</td>\n",
       "      <td>0</td>\n",
       "    </tr>\n",
       "    <tr>\n",
       "      <th>4</th>\n",
       "      <td>8.930</td>\n",
       "      <td>0</td>\n",
       "      <td>0.000000</td>\n",
       "      <td>53.8614</td>\n",
       "      <td>1987</td>\n",
       "      <td>High</td>\n",
       "      <td>Tier 3</td>\n",
       "      <td>Supermarket Type1</td>\n",
       "      <td>994.7052</td>\n",
       "      <td>0</td>\n",
       "      <td>...</td>\n",
       "      <td>0</td>\n",
       "      <td>0</td>\n",
       "      <td>0</td>\n",
       "      <td>1</td>\n",
       "      <td>0</td>\n",
       "      <td>0</td>\n",
       "      <td>0</td>\n",
       "      <td>0</td>\n",
       "      <td>0</td>\n",
       "      <td>0</td>\n",
       "    </tr>\n",
       "    <tr>\n",
       "      <th>...</th>\n",
       "      <td>...</td>\n",
       "      <td>...</td>\n",
       "      <td>...</td>\n",
       "      <td>...</td>\n",
       "      <td>...</td>\n",
       "      <td>...</td>\n",
       "      <td>...</td>\n",
       "      <td>...</td>\n",
       "      <td>...</td>\n",
       "      <td>...</td>\n",
       "      <td>...</td>\n",
       "      <td>...</td>\n",
       "      <td>...</td>\n",
       "      <td>...</td>\n",
       "      <td>...</td>\n",
       "      <td>...</td>\n",
       "      <td>...</td>\n",
       "      <td>...</td>\n",
       "      <td>...</td>\n",
       "      <td>...</td>\n",
       "      <td>...</td>\n",
       "    </tr>\n",
       "    <tr>\n",
       "      <th>8518</th>\n",
       "      <td>6.865</td>\n",
       "      <td>0</td>\n",
       "      <td>0.056783</td>\n",
       "      <td>214.5218</td>\n",
       "      <td>1987</td>\n",
       "      <td>High</td>\n",
       "      <td>Tier 3</td>\n",
       "      <td>Supermarket Type1</td>\n",
       "      <td>2778.3834</td>\n",
       "      <td>0</td>\n",
       "      <td>...</td>\n",
       "      <td>0</td>\n",
       "      <td>0</td>\n",
       "      <td>0</td>\n",
       "      <td>0</td>\n",
       "      <td>0</td>\n",
       "      <td>0</td>\n",
       "      <td>0</td>\n",
       "      <td>1</td>\n",
       "      <td>0</td>\n",
       "      <td>0</td>\n",
       "    </tr>\n",
       "    <tr>\n",
       "      <th>8519</th>\n",
       "      <td>8.380</td>\n",
       "      <td>1</td>\n",
       "      <td>0.046982</td>\n",
       "      <td>108.1570</td>\n",
       "      <td>2002</td>\n",
       "      <td>NaN</td>\n",
       "      <td>Tier 2</td>\n",
       "      <td>Supermarket Type1</td>\n",
       "      <td>549.2850</td>\n",
       "      <td>1</td>\n",
       "      <td>...</td>\n",
       "      <td>0</td>\n",
       "      <td>0</td>\n",
       "      <td>0</td>\n",
       "      <td>0</td>\n",
       "      <td>0</td>\n",
       "      <td>0</td>\n",
       "      <td>0</td>\n",
       "      <td>0</td>\n",
       "      <td>0</td>\n",
       "      <td>0</td>\n",
       "    </tr>\n",
       "    <tr>\n",
       "      <th>8520</th>\n",
       "      <td>10.600</td>\n",
       "      <td>0</td>\n",
       "      <td>0.035186</td>\n",
       "      <td>85.1224</td>\n",
       "      <td>2004</td>\n",
       "      <td>Small</td>\n",
       "      <td>Tier 2</td>\n",
       "      <td>Supermarket Type1</td>\n",
       "      <td>1193.1136</td>\n",
       "      <td>0</td>\n",
       "      <td>...</td>\n",
       "      <td>0</td>\n",
       "      <td>0</td>\n",
       "      <td>1</td>\n",
       "      <td>0</td>\n",
       "      <td>0</td>\n",
       "      <td>0</td>\n",
       "      <td>0</td>\n",
       "      <td>0</td>\n",
       "      <td>0</td>\n",
       "      <td>0</td>\n",
       "    </tr>\n",
       "    <tr>\n",
       "      <th>8521</th>\n",
       "      <td>7.210</td>\n",
       "      <td>1</td>\n",
       "      <td>0.145221</td>\n",
       "      <td>103.1332</td>\n",
       "      <td>2009</td>\n",
       "      <td>Medium</td>\n",
       "      <td>Tier 3</td>\n",
       "      <td>Supermarket Type2</td>\n",
       "      <td>1845.5976</td>\n",
       "      <td>0</td>\n",
       "      <td>...</td>\n",
       "      <td>0</td>\n",
       "      <td>0</td>\n",
       "      <td>0</td>\n",
       "      <td>0</td>\n",
       "      <td>0</td>\n",
       "      <td>0</td>\n",
       "      <td>0</td>\n",
       "      <td>1</td>\n",
       "      <td>0</td>\n",
       "      <td>0</td>\n",
       "    </tr>\n",
       "    <tr>\n",
       "      <th>8522</th>\n",
       "      <td>14.800</td>\n",
       "      <td>0</td>\n",
       "      <td>0.044878</td>\n",
       "      <td>75.4670</td>\n",
       "      <td>1997</td>\n",
       "      <td>Small</td>\n",
       "      <td>Tier 1</td>\n",
       "      <td>Supermarket Type1</td>\n",
       "      <td>765.6700</td>\n",
       "      <td>0</td>\n",
       "      <td>...</td>\n",
       "      <td>0</td>\n",
       "      <td>0</td>\n",
       "      <td>0</td>\n",
       "      <td>0</td>\n",
       "      <td>0</td>\n",
       "      <td>0</td>\n",
       "      <td>0</td>\n",
       "      <td>0</td>\n",
       "      <td>1</td>\n",
       "      <td>0</td>\n",
       "    </tr>\n",
       "  </tbody>\n",
       "</table>\n",
       "<p>8523 rows × 25 columns</p>\n",
       "</div>"
      ],
      "text/plain": [
       "      Item_Weight  Item_Fat_Content  Item_Visibility  Item_MRP  \\\n",
       "0           9.300                 0         0.016047  249.8092   \n",
       "1           5.920                 1         0.019278   48.2692   \n",
       "2          17.500                 0         0.016760  141.6180   \n",
       "3          19.200                 1         0.000000  182.0950   \n",
       "4           8.930                 0         0.000000   53.8614   \n",
       "...           ...               ...              ...       ...   \n",
       "8518        6.865                 0         0.056783  214.5218   \n",
       "8519        8.380                 1         0.046982  108.1570   \n",
       "8520       10.600                 0         0.035186   85.1224   \n",
       "8521        7.210                 1         0.145221  103.1332   \n",
       "8522       14.800                 0         0.044878   75.4670   \n",
       "\n",
       "      Outlet_Establishment_Year Outlet_Size Outlet_Location_Type  \\\n",
       "0                          1999      Medium               Tier 1   \n",
       "1                          2009      Medium               Tier 3   \n",
       "2                          1999      Medium               Tier 1   \n",
       "3                          1998         NaN               Tier 3   \n",
       "4                          1987        High               Tier 3   \n",
       "...                         ...         ...                  ...   \n",
       "8518                       1987        High               Tier 3   \n",
       "8519                       2002         NaN               Tier 2   \n",
       "8520                       2004       Small               Tier 2   \n",
       "8521                       2009      Medium               Tier 3   \n",
       "8522                       1997       Small               Tier 1   \n",
       "\n",
       "            Outlet_Type  Item_Outlet_Sales  Item_Type_Baking Goods  ...  \\\n",
       "0     Supermarket Type1          3735.1380                       0  ...   \n",
       "1     Supermarket Type2           443.4228                       0  ...   \n",
       "2     Supermarket Type1          2097.2700                       0  ...   \n",
       "3         Grocery Store           732.3800                       0  ...   \n",
       "4     Supermarket Type1           994.7052                       0  ...   \n",
       "...                 ...                ...                     ...  ...   \n",
       "8518  Supermarket Type1          2778.3834                       0  ...   \n",
       "8519  Supermarket Type1           549.2850                       1  ...   \n",
       "8520  Supermarket Type1          1193.1136                       0  ...   \n",
       "8521  Supermarket Type2          1845.5976                       0  ...   \n",
       "8522  Supermarket Type1           765.6700                       0  ...   \n",
       "\n",
       "      Item_Type_Fruits and Vegetables  Item_Type_Hard Drinks  \\\n",
       "0                                   0                      0   \n",
       "1                                   0                      0   \n",
       "2                                   0                      0   \n",
       "3                                   1                      0   \n",
       "4                                   0                      0   \n",
       "...                               ...                    ...   \n",
       "8518                                0                      0   \n",
       "8519                                0                      0   \n",
       "8520                                0                      0   \n",
       "8521                                0                      0   \n",
       "8522                                0                      0   \n",
       "\n",
       "      Item_Type_Health and Hygiene  Item_Type_Household  Item_Type_Meat  \\\n",
       "0                                0                    0               0   \n",
       "1                                0                    0               0   \n",
       "2                                0                    0               1   \n",
       "3                                0                    0               0   \n",
       "4                                0                    1               0   \n",
       "...                            ...                  ...             ...   \n",
       "8518                             0                    0               0   \n",
       "8519                             0                    0               0   \n",
       "8520                             1                    0               0   \n",
       "8521                             0                    0               0   \n",
       "8522                             0                    0               0   \n",
       "\n",
       "      Item_Type_Others  Item_Type_Seafood  Item_Type_Snack Foods  \\\n",
       "0                    0                  0                      0   \n",
       "1                    0                  0                      0   \n",
       "2                    0                  0                      0   \n",
       "3                    0                  0                      0   \n",
       "4                    0                  0                      0   \n",
       "...                ...                ...                    ...   \n",
       "8518                 0                  0                      1   \n",
       "8519                 0                  0                      0   \n",
       "8520                 0                  0                      0   \n",
       "8521                 0                  0                      1   \n",
       "8522                 0                  0                      0   \n",
       "\n",
       "      Item_Type_Soft Drinks  Item_Type_Starchy Foods  \n",
       "0                         0                        0  \n",
       "1                         1                        0  \n",
       "2                         0                        0  \n",
       "3                         0                        0  \n",
       "4                         0                        0  \n",
       "...                     ...                      ...  \n",
       "8518                      0                        0  \n",
       "8519                      0                        0  \n",
       "8520                      0                        0  \n",
       "8521                      0                        0  \n",
       "8522                      1                        0  \n",
       "\n",
       "[8523 rows x 25 columns]"
      ]
     },
     "execution_count": 46,
     "metadata": {},
     "output_type": "execute_result"
    }
   ],
   "source": [
    "df =df.drop('Outlet_Identifier',axis = 1)\n",
    "df"
   ]
  },
  {
   "cell_type": "code",
   "execution_count": 47,
   "id": "66b571d2",
   "metadata": {},
   "outputs": [
    {
     "name": "stdout",
     "output_type": "stream",
     "text": [
      "<class 'pandas.core.frame.DataFrame'>\n",
      "RangeIndex: 8523 entries, 0 to 8522\n",
      "Data columns (total 25 columns):\n",
      " #   Column                           Non-Null Count  Dtype  \n",
      "---  ------                           --------------  -----  \n",
      " 0   Item_Weight                      8523 non-null   float64\n",
      " 1   Item_Fat_Content                 8523 non-null   int32  \n",
      " 2   Item_Visibility                  8523 non-null   float64\n",
      " 3   Item_MRP                         8523 non-null   float64\n",
      " 4   Outlet_Establishment_Year        8523 non-null   int64  \n",
      " 5   Outlet_Size                      6113 non-null   object \n",
      " 6   Outlet_Location_Type             8523 non-null   object \n",
      " 7   Outlet_Type                      8523 non-null   object \n",
      " 8   Item_Outlet_Sales                8523 non-null   float64\n",
      " 9   Item_Type_Baking Goods           8523 non-null   uint8  \n",
      " 10  Item_Type_Breads                 8523 non-null   uint8  \n",
      " 11  Item_Type_Breakfast              8523 non-null   uint8  \n",
      " 12  Item_Type_Canned                 8523 non-null   uint8  \n",
      " 13  Item_Type_Dairy                  8523 non-null   uint8  \n",
      " 14  Item_Type_Frozen Foods           8523 non-null   uint8  \n",
      " 15  Item_Type_Fruits and Vegetables  8523 non-null   uint8  \n",
      " 16  Item_Type_Hard Drinks            8523 non-null   uint8  \n",
      " 17  Item_Type_Health and Hygiene     8523 non-null   uint8  \n",
      " 18  Item_Type_Household              8523 non-null   uint8  \n",
      " 19  Item_Type_Meat                   8523 non-null   uint8  \n",
      " 20  Item_Type_Others                 8523 non-null   uint8  \n",
      " 21  Item_Type_Seafood                8523 non-null   uint8  \n",
      " 22  Item_Type_Snack Foods            8523 non-null   uint8  \n",
      " 23  Item_Type_Soft Drinks            8523 non-null   uint8  \n",
      " 24  Item_Type_Starchy Foods          8523 non-null   uint8  \n",
      "dtypes: float64(4), int32(1), int64(1), object(3), uint8(16)\n",
      "memory usage: 699.3+ KB\n"
     ]
    }
   ],
   "source": [
    "df.info()"
   ]
  },
  {
   "cell_type": "markdown",
   "id": "9c4d8a74",
   "metadata": {},
   "source": [
    "### 3.8 Outlet_Establishment_Year"
   ]
  },
  {
   "cell_type": "code",
   "execution_count": 48,
   "id": "cfd14c83",
   "metadata": {},
   "outputs": [
    {
     "data": {
      "text/plain": [
       "0       1999\n",
       "1       2009\n",
       "2       1999\n",
       "3       1998\n",
       "4       1987\n",
       "        ... \n",
       "8518    1987\n",
       "8519    2002\n",
       "8520    2004\n",
       "8521    2009\n",
       "8522    1997\n",
       "Name: Outlet_Establishment_Year, Length: 8523, dtype: int64"
      ]
     },
     "execution_count": 48,
     "metadata": {},
     "output_type": "execute_result"
    }
   ],
   "source": [
    "df['Outlet_Establishment_Year']"
   ]
  },
  {
   "cell_type": "code",
   "execution_count": 49,
   "id": "d11ebee6",
   "metadata": {},
   "outputs": [
    {
     "data": {
      "text/plain": [
       "0"
      ]
     },
     "execution_count": 49,
     "metadata": {},
     "output_type": "execute_result"
    }
   ],
   "source": [
    "df['Outlet_Establishment_Year'].isna().sum()"
   ]
  },
  {
   "cell_type": "code",
   "execution_count": 50,
   "id": "d961a218",
   "metadata": {},
   "outputs": [
    {
     "data": {
      "text/plain": [
       "1985    1463\n",
       "1987     932\n",
       "1999     930\n",
       "1997     930\n",
       "2004     930\n",
       "2002     929\n",
       "2009     928\n",
       "2007     926\n",
       "1998     555\n",
       "Name: Outlet_Establishment_Year, dtype: int64"
      ]
     },
     "execution_count": 50,
     "metadata": {},
     "output_type": "execute_result"
    }
   ],
   "source": [
    "df['Outlet_Establishment_Year'].value_counts()"
   ]
  },
  {
   "cell_type": "code",
   "execution_count": 51,
   "id": "dbc38a92",
   "metadata": {},
   "outputs": [
    {
     "data": {
      "text/plain": [
       "{1985: 1463,\n",
       " 1987: 932,\n",
       " 1999: 930,\n",
       " 1997: 930,\n",
       " 2004: 930,\n",
       " 2002: 929,\n",
       " 2009: 928,\n",
       " 2007: 926,\n",
       " 1998: 555}"
      ]
     },
     "execution_count": 51,
     "metadata": {},
     "output_type": "execute_result"
    }
   ],
   "source": [
    "df['Outlet_Establishment_Year'].value_counts().to_dict()"
   ]
  },
  {
   "cell_type": "code",
   "execution_count": 52,
   "id": "18152256",
   "metadata": {},
   "outputs": [
    {
     "data": {
      "text/plain": [
       "0    1463\n",
       "1     932\n",
       "4     930\n",
       "2     930\n",
       "6     930\n",
       "5     929\n",
       "8     928\n",
       "7     926\n",
       "3     555\n",
       "Name: Outlet_Establishment_Year, dtype: int64"
      ]
     },
     "execution_count": 52,
     "metadata": {},
     "output_type": "execute_result"
    }
   ],
   "source": [
    "df['Outlet_Establishment_Year'] = label_encoder.fit_transform(df['Outlet_Establishment_Year'])\n",
    "df['Outlet_Establishment_Year'].value_counts()"
   ]
  },
  {
   "cell_type": "code",
   "execution_count": 53,
   "id": "c1908be5",
   "metadata": {},
   "outputs": [
    {
     "data": {
      "text/plain": [
       "{1985: 0,\n",
       " 1987: 1,\n",
       " 1999: 4,\n",
       " 1997: 2,\n",
       " 2004: 6,\n",
       " 2002: 5,\n",
       " 2009: 8,\n",
       " 2007: 7,\n",
       " 1998: 3}"
      ]
     },
     "execution_count": 53,
     "metadata": {},
     "output_type": "execute_result"
    }
   ],
   "source": [
    "Outlet_Year = {1985: 0,\n",
    " 1987: 1,\n",
    " 1999: 4,\n",
    " 1997: 2,\n",
    " 2004: 6,\n",
    " 2002: 5,\n",
    " 2009: 8,\n",
    " 2007: 7,\n",
    " 1998: 3}\n",
    "Outlet_Year"
   ]
  },
  {
   "cell_type": "markdown",
   "id": "a6fd35a0",
   "metadata": {},
   "source": [
    "### 3.9 Outlet_Size"
   ]
  },
  {
   "cell_type": "code",
   "execution_count": 54,
   "id": "e1b60445",
   "metadata": {},
   "outputs": [
    {
     "data": {
      "text/plain": [
       "0       Medium\n",
       "1       Medium\n",
       "2       Medium\n",
       "3          NaN\n",
       "4         High\n",
       "         ...  \n",
       "8518      High\n",
       "8519       NaN\n",
       "8520     Small\n",
       "8521    Medium\n",
       "8522     Small\n",
       "Name: Outlet_Size, Length: 8523, dtype: object"
      ]
     },
     "execution_count": 54,
     "metadata": {},
     "output_type": "execute_result"
    }
   ],
   "source": [
    "df['Outlet_Size']"
   ]
  },
  {
   "cell_type": "code",
   "execution_count": 55,
   "id": "59db517c",
   "metadata": {},
   "outputs": [
    {
     "data": {
      "text/plain": [
       "2410"
      ]
     },
     "execution_count": 55,
     "metadata": {},
     "output_type": "execute_result"
    }
   ],
   "source": [
    "df['Outlet_Size'].isna().sum()"
   ]
  },
  {
   "cell_type": "code",
   "execution_count": 56,
   "id": "371780db",
   "metadata": {},
   "outputs": [
    {
     "data": {
      "text/plain": [
       "Medium    2793\n",
       "Small     2388\n",
       "High       932\n",
       "Name: Outlet_Size, dtype: int64"
      ]
     },
     "execution_count": 56,
     "metadata": {},
     "output_type": "execute_result"
    }
   ],
   "source": [
    "df['Outlet_Size'].value_counts()"
   ]
  },
  {
   "cell_type": "code",
   "execution_count": 57,
   "id": "12fb2b5a",
   "metadata": {},
   "outputs": [
    {
     "data": {
      "text/plain": [
       "{'Medium': 2793, 'Small': 2388, 'High': 932}"
      ]
     },
     "execution_count": 57,
     "metadata": {},
     "output_type": "execute_result"
    }
   ],
   "source": [
    "df['Outlet_Size'].value_counts().to_dict()"
   ]
  },
  {
   "cell_type": "code",
   "execution_count": 58,
   "id": "1e1b6bad",
   "metadata": {},
   "outputs": [],
   "source": [
    "df['Outlet_Size'].replace({'Medium': 1, 'Small': 2, 'High': 0},inplace = True)"
   ]
  },
  {
   "cell_type": "code",
   "execution_count": 59,
   "id": "d76f64aa",
   "metadata": {
    "scrolled": true
   },
   "outputs": [
    {
     "data": {
      "text/plain": [
       "1.0    2793\n",
       "2.0    2388\n",
       "0.0     932\n",
       "Name: Outlet_Size, dtype: int32"
      ]
     },
     "execution_count": 59,
     "metadata": {},
     "output_type": "execute_result"
    }
   ],
   "source": [
    "df['Outlet_Size'].value_counts().astype(int)"
   ]
  },
  {
   "cell_type": "code",
   "execution_count": 60,
   "id": "2b83ce2b",
   "metadata": {},
   "outputs": [
    {
     "data": {
      "text/plain": [
       "{'Medium': 1, 'Small': 2, 'High': 0}"
      ]
     },
     "execution_count": 60,
     "metadata": {},
     "output_type": "execute_result"
    }
   ],
   "source": [
    "outlet_size = {'Medium': 1, 'Small': 2, 'High': 0}\n",
    "outlet_size"
   ]
  },
  {
   "cell_type": "code",
   "execution_count": 61,
   "id": "b41ad074",
   "metadata": {},
   "outputs": [],
   "source": [
    "df['Outlet_Size'].fillna(df['Outlet_Size'].mode()[0],inplace = True)"
   ]
  },
  {
   "cell_type": "code",
   "execution_count": 62,
   "id": "9009c48c",
   "metadata": {},
   "outputs": [
    {
     "data": {
      "text/plain": [
       "0"
      ]
     },
     "execution_count": 62,
     "metadata": {},
     "output_type": "execute_result"
    }
   ],
   "source": [
    "df['Outlet_Size'].isna().sum()"
   ]
  },
  {
   "cell_type": "code",
   "execution_count": 63,
   "id": "2651f170",
   "metadata": {},
   "outputs": [
    {
     "data": {
      "text/plain": [
       "1.0    5203\n",
       "2.0    2388\n",
       "0.0     932\n",
       "Name: Outlet_Size, dtype: int64"
      ]
     },
     "execution_count": 63,
     "metadata": {},
     "output_type": "execute_result"
    }
   ],
   "source": [
    "df['Outlet_Size'].value_counts()"
   ]
  },
  {
   "cell_type": "code",
   "execution_count": 64,
   "id": "c7cb32ea",
   "metadata": {},
   "outputs": [
    {
     "data": {
      "text/html": [
       "<div>\n",
       "<style scoped>\n",
       "    .dataframe tbody tr th:only-of-type {\n",
       "        vertical-align: middle;\n",
       "    }\n",
       "\n",
       "    .dataframe tbody tr th {\n",
       "        vertical-align: top;\n",
       "    }\n",
       "\n",
       "    .dataframe thead th {\n",
       "        text-align: right;\n",
       "    }\n",
       "</style>\n",
       "<table border=\"1\" class=\"dataframe\">\n",
       "  <thead>\n",
       "    <tr style=\"text-align: right;\">\n",
       "      <th></th>\n",
       "      <th>Item_Weight</th>\n",
       "      <th>Item_Fat_Content</th>\n",
       "      <th>Item_Visibility</th>\n",
       "      <th>Item_MRP</th>\n",
       "      <th>Outlet_Establishment_Year</th>\n",
       "      <th>Outlet_Size</th>\n",
       "      <th>Outlet_Location_Type</th>\n",
       "      <th>Outlet_Type</th>\n",
       "      <th>Item_Outlet_Sales</th>\n",
       "      <th>Item_Type_Baking Goods</th>\n",
       "      <th>...</th>\n",
       "      <th>Item_Type_Fruits and Vegetables</th>\n",
       "      <th>Item_Type_Hard Drinks</th>\n",
       "      <th>Item_Type_Health and Hygiene</th>\n",
       "      <th>Item_Type_Household</th>\n",
       "      <th>Item_Type_Meat</th>\n",
       "      <th>Item_Type_Others</th>\n",
       "      <th>Item_Type_Seafood</th>\n",
       "      <th>Item_Type_Snack Foods</th>\n",
       "      <th>Item_Type_Soft Drinks</th>\n",
       "      <th>Item_Type_Starchy Foods</th>\n",
       "    </tr>\n",
       "  </thead>\n",
       "  <tbody>\n",
       "    <tr>\n",
       "      <th>0</th>\n",
       "      <td>9.300</td>\n",
       "      <td>0</td>\n",
       "      <td>0.016047</td>\n",
       "      <td>249.8092</td>\n",
       "      <td>4</td>\n",
       "      <td>1.0</td>\n",
       "      <td>Tier 1</td>\n",
       "      <td>Supermarket Type1</td>\n",
       "      <td>3735.1380</td>\n",
       "      <td>0</td>\n",
       "      <td>...</td>\n",
       "      <td>0</td>\n",
       "      <td>0</td>\n",
       "      <td>0</td>\n",
       "      <td>0</td>\n",
       "      <td>0</td>\n",
       "      <td>0</td>\n",
       "      <td>0</td>\n",
       "      <td>0</td>\n",
       "      <td>0</td>\n",
       "      <td>0</td>\n",
       "    </tr>\n",
       "    <tr>\n",
       "      <th>1</th>\n",
       "      <td>5.920</td>\n",
       "      <td>1</td>\n",
       "      <td>0.019278</td>\n",
       "      <td>48.2692</td>\n",
       "      <td>8</td>\n",
       "      <td>1.0</td>\n",
       "      <td>Tier 3</td>\n",
       "      <td>Supermarket Type2</td>\n",
       "      <td>443.4228</td>\n",
       "      <td>0</td>\n",
       "      <td>...</td>\n",
       "      <td>0</td>\n",
       "      <td>0</td>\n",
       "      <td>0</td>\n",
       "      <td>0</td>\n",
       "      <td>0</td>\n",
       "      <td>0</td>\n",
       "      <td>0</td>\n",
       "      <td>0</td>\n",
       "      <td>1</td>\n",
       "      <td>0</td>\n",
       "    </tr>\n",
       "    <tr>\n",
       "      <th>2</th>\n",
       "      <td>17.500</td>\n",
       "      <td>0</td>\n",
       "      <td>0.016760</td>\n",
       "      <td>141.6180</td>\n",
       "      <td>4</td>\n",
       "      <td>1.0</td>\n",
       "      <td>Tier 1</td>\n",
       "      <td>Supermarket Type1</td>\n",
       "      <td>2097.2700</td>\n",
       "      <td>0</td>\n",
       "      <td>...</td>\n",
       "      <td>0</td>\n",
       "      <td>0</td>\n",
       "      <td>0</td>\n",
       "      <td>0</td>\n",
       "      <td>1</td>\n",
       "      <td>0</td>\n",
       "      <td>0</td>\n",
       "      <td>0</td>\n",
       "      <td>0</td>\n",
       "      <td>0</td>\n",
       "    </tr>\n",
       "    <tr>\n",
       "      <th>3</th>\n",
       "      <td>19.200</td>\n",
       "      <td>1</td>\n",
       "      <td>0.000000</td>\n",
       "      <td>182.0950</td>\n",
       "      <td>3</td>\n",
       "      <td>1.0</td>\n",
       "      <td>Tier 3</td>\n",
       "      <td>Grocery Store</td>\n",
       "      <td>732.3800</td>\n",
       "      <td>0</td>\n",
       "      <td>...</td>\n",
       "      <td>1</td>\n",
       "      <td>0</td>\n",
       "      <td>0</td>\n",
       "      <td>0</td>\n",
       "      <td>0</td>\n",
       "      <td>0</td>\n",
       "      <td>0</td>\n",
       "      <td>0</td>\n",
       "      <td>0</td>\n",
       "      <td>0</td>\n",
       "    </tr>\n",
       "    <tr>\n",
       "      <th>4</th>\n",
       "      <td>8.930</td>\n",
       "      <td>0</td>\n",
       "      <td>0.000000</td>\n",
       "      <td>53.8614</td>\n",
       "      <td>1</td>\n",
       "      <td>0.0</td>\n",
       "      <td>Tier 3</td>\n",
       "      <td>Supermarket Type1</td>\n",
       "      <td>994.7052</td>\n",
       "      <td>0</td>\n",
       "      <td>...</td>\n",
       "      <td>0</td>\n",
       "      <td>0</td>\n",
       "      <td>0</td>\n",
       "      <td>1</td>\n",
       "      <td>0</td>\n",
       "      <td>0</td>\n",
       "      <td>0</td>\n",
       "      <td>0</td>\n",
       "      <td>0</td>\n",
       "      <td>0</td>\n",
       "    </tr>\n",
       "    <tr>\n",
       "      <th>...</th>\n",
       "      <td>...</td>\n",
       "      <td>...</td>\n",
       "      <td>...</td>\n",
       "      <td>...</td>\n",
       "      <td>...</td>\n",
       "      <td>...</td>\n",
       "      <td>...</td>\n",
       "      <td>...</td>\n",
       "      <td>...</td>\n",
       "      <td>...</td>\n",
       "      <td>...</td>\n",
       "      <td>...</td>\n",
       "      <td>...</td>\n",
       "      <td>...</td>\n",
       "      <td>...</td>\n",
       "      <td>...</td>\n",
       "      <td>...</td>\n",
       "      <td>...</td>\n",
       "      <td>...</td>\n",
       "      <td>...</td>\n",
       "      <td>...</td>\n",
       "    </tr>\n",
       "    <tr>\n",
       "      <th>8518</th>\n",
       "      <td>6.865</td>\n",
       "      <td>0</td>\n",
       "      <td>0.056783</td>\n",
       "      <td>214.5218</td>\n",
       "      <td>1</td>\n",
       "      <td>0.0</td>\n",
       "      <td>Tier 3</td>\n",
       "      <td>Supermarket Type1</td>\n",
       "      <td>2778.3834</td>\n",
       "      <td>0</td>\n",
       "      <td>...</td>\n",
       "      <td>0</td>\n",
       "      <td>0</td>\n",
       "      <td>0</td>\n",
       "      <td>0</td>\n",
       "      <td>0</td>\n",
       "      <td>0</td>\n",
       "      <td>0</td>\n",
       "      <td>1</td>\n",
       "      <td>0</td>\n",
       "      <td>0</td>\n",
       "    </tr>\n",
       "    <tr>\n",
       "      <th>8519</th>\n",
       "      <td>8.380</td>\n",
       "      <td>1</td>\n",
       "      <td>0.046982</td>\n",
       "      <td>108.1570</td>\n",
       "      <td>5</td>\n",
       "      <td>1.0</td>\n",
       "      <td>Tier 2</td>\n",
       "      <td>Supermarket Type1</td>\n",
       "      <td>549.2850</td>\n",
       "      <td>1</td>\n",
       "      <td>...</td>\n",
       "      <td>0</td>\n",
       "      <td>0</td>\n",
       "      <td>0</td>\n",
       "      <td>0</td>\n",
       "      <td>0</td>\n",
       "      <td>0</td>\n",
       "      <td>0</td>\n",
       "      <td>0</td>\n",
       "      <td>0</td>\n",
       "      <td>0</td>\n",
       "    </tr>\n",
       "    <tr>\n",
       "      <th>8520</th>\n",
       "      <td>10.600</td>\n",
       "      <td>0</td>\n",
       "      <td>0.035186</td>\n",
       "      <td>85.1224</td>\n",
       "      <td>6</td>\n",
       "      <td>2.0</td>\n",
       "      <td>Tier 2</td>\n",
       "      <td>Supermarket Type1</td>\n",
       "      <td>1193.1136</td>\n",
       "      <td>0</td>\n",
       "      <td>...</td>\n",
       "      <td>0</td>\n",
       "      <td>0</td>\n",
       "      <td>1</td>\n",
       "      <td>0</td>\n",
       "      <td>0</td>\n",
       "      <td>0</td>\n",
       "      <td>0</td>\n",
       "      <td>0</td>\n",
       "      <td>0</td>\n",
       "      <td>0</td>\n",
       "    </tr>\n",
       "    <tr>\n",
       "      <th>8521</th>\n",
       "      <td>7.210</td>\n",
       "      <td>1</td>\n",
       "      <td>0.145221</td>\n",
       "      <td>103.1332</td>\n",
       "      <td>8</td>\n",
       "      <td>1.0</td>\n",
       "      <td>Tier 3</td>\n",
       "      <td>Supermarket Type2</td>\n",
       "      <td>1845.5976</td>\n",
       "      <td>0</td>\n",
       "      <td>...</td>\n",
       "      <td>0</td>\n",
       "      <td>0</td>\n",
       "      <td>0</td>\n",
       "      <td>0</td>\n",
       "      <td>0</td>\n",
       "      <td>0</td>\n",
       "      <td>0</td>\n",
       "      <td>1</td>\n",
       "      <td>0</td>\n",
       "      <td>0</td>\n",
       "    </tr>\n",
       "    <tr>\n",
       "      <th>8522</th>\n",
       "      <td>14.800</td>\n",
       "      <td>0</td>\n",
       "      <td>0.044878</td>\n",
       "      <td>75.4670</td>\n",
       "      <td>2</td>\n",
       "      <td>2.0</td>\n",
       "      <td>Tier 1</td>\n",
       "      <td>Supermarket Type1</td>\n",
       "      <td>765.6700</td>\n",
       "      <td>0</td>\n",
       "      <td>...</td>\n",
       "      <td>0</td>\n",
       "      <td>0</td>\n",
       "      <td>0</td>\n",
       "      <td>0</td>\n",
       "      <td>0</td>\n",
       "      <td>0</td>\n",
       "      <td>0</td>\n",
       "      <td>0</td>\n",
       "      <td>1</td>\n",
       "      <td>0</td>\n",
       "    </tr>\n",
       "  </tbody>\n",
       "</table>\n",
       "<p>8523 rows × 25 columns</p>\n",
       "</div>"
      ],
      "text/plain": [
       "      Item_Weight  Item_Fat_Content  Item_Visibility  Item_MRP  \\\n",
       "0           9.300                 0         0.016047  249.8092   \n",
       "1           5.920                 1         0.019278   48.2692   \n",
       "2          17.500                 0         0.016760  141.6180   \n",
       "3          19.200                 1         0.000000  182.0950   \n",
       "4           8.930                 0         0.000000   53.8614   \n",
       "...           ...               ...              ...       ...   \n",
       "8518        6.865                 0         0.056783  214.5218   \n",
       "8519        8.380                 1         0.046982  108.1570   \n",
       "8520       10.600                 0         0.035186   85.1224   \n",
       "8521        7.210                 1         0.145221  103.1332   \n",
       "8522       14.800                 0         0.044878   75.4670   \n",
       "\n",
       "      Outlet_Establishment_Year  Outlet_Size Outlet_Location_Type  \\\n",
       "0                             4          1.0               Tier 1   \n",
       "1                             8          1.0               Tier 3   \n",
       "2                             4          1.0               Tier 1   \n",
       "3                             3          1.0               Tier 3   \n",
       "4                             1          0.0               Tier 3   \n",
       "...                         ...          ...                  ...   \n",
       "8518                          1          0.0               Tier 3   \n",
       "8519                          5          1.0               Tier 2   \n",
       "8520                          6          2.0               Tier 2   \n",
       "8521                          8          1.0               Tier 3   \n",
       "8522                          2          2.0               Tier 1   \n",
       "\n",
       "            Outlet_Type  Item_Outlet_Sales  Item_Type_Baking Goods  ...  \\\n",
       "0     Supermarket Type1          3735.1380                       0  ...   \n",
       "1     Supermarket Type2           443.4228                       0  ...   \n",
       "2     Supermarket Type1          2097.2700                       0  ...   \n",
       "3         Grocery Store           732.3800                       0  ...   \n",
       "4     Supermarket Type1           994.7052                       0  ...   \n",
       "...                 ...                ...                     ...  ...   \n",
       "8518  Supermarket Type1          2778.3834                       0  ...   \n",
       "8519  Supermarket Type1           549.2850                       1  ...   \n",
       "8520  Supermarket Type1          1193.1136                       0  ...   \n",
       "8521  Supermarket Type2          1845.5976                       0  ...   \n",
       "8522  Supermarket Type1           765.6700                       0  ...   \n",
       "\n",
       "      Item_Type_Fruits and Vegetables  Item_Type_Hard Drinks  \\\n",
       "0                                   0                      0   \n",
       "1                                   0                      0   \n",
       "2                                   0                      0   \n",
       "3                                   1                      0   \n",
       "4                                   0                      0   \n",
       "...                               ...                    ...   \n",
       "8518                                0                      0   \n",
       "8519                                0                      0   \n",
       "8520                                0                      0   \n",
       "8521                                0                      0   \n",
       "8522                                0                      0   \n",
       "\n",
       "      Item_Type_Health and Hygiene  Item_Type_Household  Item_Type_Meat  \\\n",
       "0                                0                    0               0   \n",
       "1                                0                    0               0   \n",
       "2                                0                    0               1   \n",
       "3                                0                    0               0   \n",
       "4                                0                    1               0   \n",
       "...                            ...                  ...             ...   \n",
       "8518                             0                    0               0   \n",
       "8519                             0                    0               0   \n",
       "8520                             1                    0               0   \n",
       "8521                             0                    0               0   \n",
       "8522                             0                    0               0   \n",
       "\n",
       "      Item_Type_Others  Item_Type_Seafood  Item_Type_Snack Foods  \\\n",
       "0                    0                  0                      0   \n",
       "1                    0                  0                      0   \n",
       "2                    0                  0                      0   \n",
       "3                    0                  0                      0   \n",
       "4                    0                  0                      0   \n",
       "...                ...                ...                    ...   \n",
       "8518                 0                  0                      1   \n",
       "8519                 0                  0                      0   \n",
       "8520                 0                  0                      0   \n",
       "8521                 0                  0                      1   \n",
       "8522                 0                  0                      0   \n",
       "\n",
       "      Item_Type_Soft Drinks  Item_Type_Starchy Foods  \n",
       "0                         0                        0  \n",
       "1                         1                        0  \n",
       "2                         0                        0  \n",
       "3                         0                        0  \n",
       "4                         0                        0  \n",
       "...                     ...                      ...  \n",
       "8518                      0                        0  \n",
       "8519                      0                        0  \n",
       "8520                      0                        0  \n",
       "8521                      0                        0  \n",
       "8522                      1                        0  \n",
       "\n",
       "[8523 rows x 25 columns]"
      ]
     },
     "execution_count": 64,
     "metadata": {},
     "output_type": "execute_result"
    }
   ],
   "source": [
    "\n",
    "df"
   ]
  },
  {
   "cell_type": "code",
   "execution_count": 65,
   "id": "a177ba6b",
   "metadata": {},
   "outputs": [
    {
     "name": "stdout",
     "output_type": "stream",
     "text": [
      "<class 'pandas.core.frame.DataFrame'>\n",
      "RangeIndex: 8523 entries, 0 to 8522\n",
      "Data columns (total 25 columns):\n",
      " #   Column                           Non-Null Count  Dtype  \n",
      "---  ------                           --------------  -----  \n",
      " 0   Item_Weight                      8523 non-null   float64\n",
      " 1   Item_Fat_Content                 8523 non-null   int32  \n",
      " 2   Item_Visibility                  8523 non-null   float64\n",
      " 3   Item_MRP                         8523 non-null   float64\n",
      " 4   Outlet_Establishment_Year        8523 non-null   int64  \n",
      " 5   Outlet_Size                      8523 non-null   float64\n",
      " 6   Outlet_Location_Type             8523 non-null   object \n",
      " 7   Outlet_Type                      8523 non-null   object \n",
      " 8   Item_Outlet_Sales                8523 non-null   float64\n",
      " 9   Item_Type_Baking Goods           8523 non-null   uint8  \n",
      " 10  Item_Type_Breads                 8523 non-null   uint8  \n",
      " 11  Item_Type_Breakfast              8523 non-null   uint8  \n",
      " 12  Item_Type_Canned                 8523 non-null   uint8  \n",
      " 13  Item_Type_Dairy                  8523 non-null   uint8  \n",
      " 14  Item_Type_Frozen Foods           8523 non-null   uint8  \n",
      " 15  Item_Type_Fruits and Vegetables  8523 non-null   uint8  \n",
      " 16  Item_Type_Hard Drinks            8523 non-null   uint8  \n",
      " 17  Item_Type_Health and Hygiene     8523 non-null   uint8  \n",
      " 18  Item_Type_Household              8523 non-null   uint8  \n",
      " 19  Item_Type_Meat                   8523 non-null   uint8  \n",
      " 20  Item_Type_Others                 8523 non-null   uint8  \n",
      " 21  Item_Type_Seafood                8523 non-null   uint8  \n",
      " 22  Item_Type_Snack Foods            8523 non-null   uint8  \n",
      " 23  Item_Type_Soft Drinks            8523 non-null   uint8  \n",
      " 24  Item_Type_Starchy Foods          8523 non-null   uint8  \n",
      "dtypes: float64(5), int32(1), int64(1), object(2), uint8(16)\n",
      "memory usage: 699.3+ KB\n"
     ]
    }
   ],
   "source": [
    "df.info()"
   ]
  },
  {
   "cell_type": "markdown",
   "id": "4621d2c9",
   "metadata": {},
   "source": [
    "### 3.10 Outlet_Location_Type"
   ]
  },
  {
   "cell_type": "code",
   "execution_count": 66,
   "id": "e970fa45",
   "metadata": {},
   "outputs": [
    {
     "data": {
      "text/plain": [
       "0       Tier 1\n",
       "1       Tier 3\n",
       "2       Tier 1\n",
       "3       Tier 3\n",
       "4       Tier 3\n",
       "         ...  \n",
       "8518    Tier 3\n",
       "8519    Tier 2\n",
       "8520    Tier 2\n",
       "8521    Tier 3\n",
       "8522    Tier 1\n",
       "Name: Outlet_Location_Type, Length: 8523, dtype: object"
      ]
     },
     "execution_count": 66,
     "metadata": {},
     "output_type": "execute_result"
    }
   ],
   "source": [
    "df['Outlet_Location_Type']"
   ]
  },
  {
   "cell_type": "code",
   "execution_count": 67,
   "id": "d0e3c336",
   "metadata": {},
   "outputs": [
    {
     "data": {
      "text/plain": [
       "0"
      ]
     },
     "execution_count": 67,
     "metadata": {},
     "output_type": "execute_result"
    }
   ],
   "source": [
    "df['Outlet_Location_Type'].isna().sum()"
   ]
  },
  {
   "cell_type": "code",
   "execution_count": 68,
   "id": "ef3babf4",
   "metadata": {},
   "outputs": [
    {
     "data": {
      "text/plain": [
       "Tier 3    3350\n",
       "Tier 2    2785\n",
       "Tier 1    2388\n",
       "Name: Outlet_Location_Type, dtype: int64"
      ]
     },
     "execution_count": 68,
     "metadata": {},
     "output_type": "execute_result"
    }
   ],
   "source": [
    "df['Outlet_Location_Type'].value_counts()"
   ]
  },
  {
   "cell_type": "code",
   "execution_count": 69,
   "id": "662f4ac2",
   "metadata": {},
   "outputs": [],
   "source": [
    "df['Outlet_Location_Type'] = label_encoder.fit_transform(df['Outlet_Location_Type'])"
   ]
  },
  {
   "cell_type": "code",
   "execution_count": 70,
   "id": "76c3abc3",
   "metadata": {},
   "outputs": [
    {
     "data": {
      "text/plain": [
       "2    3350\n",
       "1    2785\n",
       "0    2388\n",
       "Name: Outlet_Location_Type, dtype: int64"
      ]
     },
     "execution_count": 70,
     "metadata": {},
     "output_type": "execute_result"
    }
   ],
   "source": [
    "df['Outlet_Location_Type'].value_counts()"
   ]
  },
  {
   "cell_type": "code",
   "execution_count": 71,
   "id": "7a060bda",
   "metadata": {},
   "outputs": [
    {
     "data": {
      "text/plain": [
       "{'Tier 3': 3350, 'Tier 2': 2785, 'Tier 1': 2388}"
      ]
     },
     "execution_count": 71,
     "metadata": {},
     "output_type": "execute_result"
    }
   ],
   "source": [
    "outlet_location_type = {'Tier 3': 3350, 'Tier 2': 2785, 'Tier 1': 2388}\n",
    "outlet_location_type"
   ]
  },
  {
   "cell_type": "code",
   "execution_count": 72,
   "id": "a0b02b44",
   "metadata": {},
   "outputs": [
    {
     "name": "stdout",
     "output_type": "stream",
     "text": [
      "<class 'pandas.core.frame.DataFrame'>\n",
      "RangeIndex: 8523 entries, 0 to 8522\n",
      "Data columns (total 25 columns):\n",
      " #   Column                           Non-Null Count  Dtype  \n",
      "---  ------                           --------------  -----  \n",
      " 0   Item_Weight                      8523 non-null   float64\n",
      " 1   Item_Fat_Content                 8523 non-null   int32  \n",
      " 2   Item_Visibility                  8523 non-null   float64\n",
      " 3   Item_MRP                         8523 non-null   float64\n",
      " 4   Outlet_Establishment_Year        8523 non-null   int64  \n",
      " 5   Outlet_Size                      8523 non-null   float64\n",
      " 6   Outlet_Location_Type             8523 non-null   int32  \n",
      " 7   Outlet_Type                      8523 non-null   object \n",
      " 8   Item_Outlet_Sales                8523 non-null   float64\n",
      " 9   Item_Type_Baking Goods           8523 non-null   uint8  \n",
      " 10  Item_Type_Breads                 8523 non-null   uint8  \n",
      " 11  Item_Type_Breakfast              8523 non-null   uint8  \n",
      " 12  Item_Type_Canned                 8523 non-null   uint8  \n",
      " 13  Item_Type_Dairy                  8523 non-null   uint8  \n",
      " 14  Item_Type_Frozen Foods           8523 non-null   uint8  \n",
      " 15  Item_Type_Fruits and Vegetables  8523 non-null   uint8  \n",
      " 16  Item_Type_Hard Drinks            8523 non-null   uint8  \n",
      " 17  Item_Type_Health and Hygiene     8523 non-null   uint8  \n",
      " 18  Item_Type_Household              8523 non-null   uint8  \n",
      " 19  Item_Type_Meat                   8523 non-null   uint8  \n",
      " 20  Item_Type_Others                 8523 non-null   uint8  \n",
      " 21  Item_Type_Seafood                8523 non-null   uint8  \n",
      " 22  Item_Type_Snack Foods            8523 non-null   uint8  \n",
      " 23  Item_Type_Soft Drinks            8523 non-null   uint8  \n",
      " 24  Item_Type_Starchy Foods          8523 non-null   uint8  \n",
      "dtypes: float64(5), int32(2), int64(1), object(1), uint8(16)\n",
      "memory usage: 666.0+ KB\n"
     ]
    }
   ],
   "source": [
    "df.info()"
   ]
  },
  {
   "cell_type": "markdown",
   "id": "895fd30a",
   "metadata": {},
   "source": [
    "### 3.11 Outlet_Type"
   ]
  },
  {
   "cell_type": "code",
   "execution_count": 73,
   "id": "d878d06e",
   "metadata": {},
   "outputs": [
    {
     "data": {
      "text/plain": [
       "0       Supermarket Type1\n",
       "1       Supermarket Type2\n",
       "2       Supermarket Type1\n",
       "3           Grocery Store\n",
       "4       Supermarket Type1\n",
       "              ...        \n",
       "8518    Supermarket Type1\n",
       "8519    Supermarket Type1\n",
       "8520    Supermarket Type1\n",
       "8521    Supermarket Type2\n",
       "8522    Supermarket Type1\n",
       "Name: Outlet_Type, Length: 8523, dtype: object"
      ]
     },
     "execution_count": 73,
     "metadata": {},
     "output_type": "execute_result"
    }
   ],
   "source": [
    "df['Outlet_Type']"
   ]
  },
  {
   "cell_type": "code",
   "execution_count": 74,
   "id": "681817b6",
   "metadata": {},
   "outputs": [
    {
     "data": {
      "text/plain": [
       "0"
      ]
     },
     "execution_count": 74,
     "metadata": {},
     "output_type": "execute_result"
    }
   ],
   "source": [
    "df['Outlet_Type'].isna().sum()"
   ]
  },
  {
   "cell_type": "code",
   "execution_count": 75,
   "id": "a9520cf4",
   "metadata": {},
   "outputs": [
    {
     "data": {
      "text/plain": [
       "Supermarket Type1    5577\n",
       "Grocery Store        1083\n",
       "Supermarket Type3     935\n",
       "Supermarket Type2     928\n",
       "Name: Outlet_Type, dtype: int64"
      ]
     },
     "execution_count": 75,
     "metadata": {},
     "output_type": "execute_result"
    }
   ],
   "source": [
    "df['Outlet_Type'].value_counts()"
   ]
  },
  {
   "cell_type": "code",
   "execution_count": 76,
   "id": "49ee0694",
   "metadata": {},
   "outputs": [
    {
     "data": {
      "text/html": [
       "<div>\n",
       "<style scoped>\n",
       "    .dataframe tbody tr th:only-of-type {\n",
       "        vertical-align: middle;\n",
       "    }\n",
       "\n",
       "    .dataframe tbody tr th {\n",
       "        vertical-align: top;\n",
       "    }\n",
       "\n",
       "    .dataframe thead th {\n",
       "        text-align: right;\n",
       "    }\n",
       "</style>\n",
       "<table border=\"1\" class=\"dataframe\">\n",
       "  <thead>\n",
       "    <tr style=\"text-align: right;\">\n",
       "      <th></th>\n",
       "      <th>Item_Weight</th>\n",
       "      <th>Item_Fat_Content</th>\n",
       "      <th>Item_Visibility</th>\n",
       "      <th>Item_MRP</th>\n",
       "      <th>Outlet_Establishment_Year</th>\n",
       "      <th>Outlet_Size</th>\n",
       "      <th>Outlet_Location_Type</th>\n",
       "      <th>Item_Outlet_Sales</th>\n",
       "      <th>Item_Type_Baking Goods</th>\n",
       "      <th>Item_Type_Breads</th>\n",
       "      <th>...</th>\n",
       "      <th>Item_Type_Meat</th>\n",
       "      <th>Item_Type_Others</th>\n",
       "      <th>Item_Type_Seafood</th>\n",
       "      <th>Item_Type_Snack Foods</th>\n",
       "      <th>Item_Type_Soft Drinks</th>\n",
       "      <th>Item_Type_Starchy Foods</th>\n",
       "      <th>Outlet_Type_Grocery Store</th>\n",
       "      <th>Outlet_Type_Supermarket Type1</th>\n",
       "      <th>Outlet_Type_Supermarket Type2</th>\n",
       "      <th>Outlet_Type_Supermarket Type3</th>\n",
       "    </tr>\n",
       "  </thead>\n",
       "  <tbody>\n",
       "    <tr>\n",
       "      <th>0</th>\n",
       "      <td>9.300</td>\n",
       "      <td>0</td>\n",
       "      <td>0.016047</td>\n",
       "      <td>249.8092</td>\n",
       "      <td>4</td>\n",
       "      <td>1.0</td>\n",
       "      <td>0</td>\n",
       "      <td>3735.1380</td>\n",
       "      <td>0</td>\n",
       "      <td>0</td>\n",
       "      <td>...</td>\n",
       "      <td>0</td>\n",
       "      <td>0</td>\n",
       "      <td>0</td>\n",
       "      <td>0</td>\n",
       "      <td>0</td>\n",
       "      <td>0</td>\n",
       "      <td>0</td>\n",
       "      <td>1</td>\n",
       "      <td>0</td>\n",
       "      <td>0</td>\n",
       "    </tr>\n",
       "    <tr>\n",
       "      <th>1</th>\n",
       "      <td>5.920</td>\n",
       "      <td>1</td>\n",
       "      <td>0.019278</td>\n",
       "      <td>48.2692</td>\n",
       "      <td>8</td>\n",
       "      <td>1.0</td>\n",
       "      <td>2</td>\n",
       "      <td>443.4228</td>\n",
       "      <td>0</td>\n",
       "      <td>0</td>\n",
       "      <td>...</td>\n",
       "      <td>0</td>\n",
       "      <td>0</td>\n",
       "      <td>0</td>\n",
       "      <td>0</td>\n",
       "      <td>1</td>\n",
       "      <td>0</td>\n",
       "      <td>0</td>\n",
       "      <td>0</td>\n",
       "      <td>1</td>\n",
       "      <td>0</td>\n",
       "    </tr>\n",
       "    <tr>\n",
       "      <th>2</th>\n",
       "      <td>17.500</td>\n",
       "      <td>0</td>\n",
       "      <td>0.016760</td>\n",
       "      <td>141.6180</td>\n",
       "      <td>4</td>\n",
       "      <td>1.0</td>\n",
       "      <td>0</td>\n",
       "      <td>2097.2700</td>\n",
       "      <td>0</td>\n",
       "      <td>0</td>\n",
       "      <td>...</td>\n",
       "      <td>1</td>\n",
       "      <td>0</td>\n",
       "      <td>0</td>\n",
       "      <td>0</td>\n",
       "      <td>0</td>\n",
       "      <td>0</td>\n",
       "      <td>0</td>\n",
       "      <td>1</td>\n",
       "      <td>0</td>\n",
       "      <td>0</td>\n",
       "    </tr>\n",
       "    <tr>\n",
       "      <th>3</th>\n",
       "      <td>19.200</td>\n",
       "      <td>1</td>\n",
       "      <td>0.000000</td>\n",
       "      <td>182.0950</td>\n",
       "      <td>3</td>\n",
       "      <td>1.0</td>\n",
       "      <td>2</td>\n",
       "      <td>732.3800</td>\n",
       "      <td>0</td>\n",
       "      <td>0</td>\n",
       "      <td>...</td>\n",
       "      <td>0</td>\n",
       "      <td>0</td>\n",
       "      <td>0</td>\n",
       "      <td>0</td>\n",
       "      <td>0</td>\n",
       "      <td>0</td>\n",
       "      <td>1</td>\n",
       "      <td>0</td>\n",
       "      <td>0</td>\n",
       "      <td>0</td>\n",
       "    </tr>\n",
       "    <tr>\n",
       "      <th>4</th>\n",
       "      <td>8.930</td>\n",
       "      <td>0</td>\n",
       "      <td>0.000000</td>\n",
       "      <td>53.8614</td>\n",
       "      <td>1</td>\n",
       "      <td>0.0</td>\n",
       "      <td>2</td>\n",
       "      <td>994.7052</td>\n",
       "      <td>0</td>\n",
       "      <td>0</td>\n",
       "      <td>...</td>\n",
       "      <td>0</td>\n",
       "      <td>0</td>\n",
       "      <td>0</td>\n",
       "      <td>0</td>\n",
       "      <td>0</td>\n",
       "      <td>0</td>\n",
       "      <td>0</td>\n",
       "      <td>1</td>\n",
       "      <td>0</td>\n",
       "      <td>0</td>\n",
       "    </tr>\n",
       "    <tr>\n",
       "      <th>...</th>\n",
       "      <td>...</td>\n",
       "      <td>...</td>\n",
       "      <td>...</td>\n",
       "      <td>...</td>\n",
       "      <td>...</td>\n",
       "      <td>...</td>\n",
       "      <td>...</td>\n",
       "      <td>...</td>\n",
       "      <td>...</td>\n",
       "      <td>...</td>\n",
       "      <td>...</td>\n",
       "      <td>...</td>\n",
       "      <td>...</td>\n",
       "      <td>...</td>\n",
       "      <td>...</td>\n",
       "      <td>...</td>\n",
       "      <td>...</td>\n",
       "      <td>...</td>\n",
       "      <td>...</td>\n",
       "      <td>...</td>\n",
       "      <td>...</td>\n",
       "    </tr>\n",
       "    <tr>\n",
       "      <th>8518</th>\n",
       "      <td>6.865</td>\n",
       "      <td>0</td>\n",
       "      <td>0.056783</td>\n",
       "      <td>214.5218</td>\n",
       "      <td>1</td>\n",
       "      <td>0.0</td>\n",
       "      <td>2</td>\n",
       "      <td>2778.3834</td>\n",
       "      <td>0</td>\n",
       "      <td>0</td>\n",
       "      <td>...</td>\n",
       "      <td>0</td>\n",
       "      <td>0</td>\n",
       "      <td>0</td>\n",
       "      <td>1</td>\n",
       "      <td>0</td>\n",
       "      <td>0</td>\n",
       "      <td>0</td>\n",
       "      <td>1</td>\n",
       "      <td>0</td>\n",
       "      <td>0</td>\n",
       "    </tr>\n",
       "    <tr>\n",
       "      <th>8519</th>\n",
       "      <td>8.380</td>\n",
       "      <td>1</td>\n",
       "      <td>0.046982</td>\n",
       "      <td>108.1570</td>\n",
       "      <td>5</td>\n",
       "      <td>1.0</td>\n",
       "      <td>1</td>\n",
       "      <td>549.2850</td>\n",
       "      <td>1</td>\n",
       "      <td>0</td>\n",
       "      <td>...</td>\n",
       "      <td>0</td>\n",
       "      <td>0</td>\n",
       "      <td>0</td>\n",
       "      <td>0</td>\n",
       "      <td>0</td>\n",
       "      <td>0</td>\n",
       "      <td>0</td>\n",
       "      <td>1</td>\n",
       "      <td>0</td>\n",
       "      <td>0</td>\n",
       "    </tr>\n",
       "    <tr>\n",
       "      <th>8520</th>\n",
       "      <td>10.600</td>\n",
       "      <td>0</td>\n",
       "      <td>0.035186</td>\n",
       "      <td>85.1224</td>\n",
       "      <td>6</td>\n",
       "      <td>2.0</td>\n",
       "      <td>1</td>\n",
       "      <td>1193.1136</td>\n",
       "      <td>0</td>\n",
       "      <td>0</td>\n",
       "      <td>...</td>\n",
       "      <td>0</td>\n",
       "      <td>0</td>\n",
       "      <td>0</td>\n",
       "      <td>0</td>\n",
       "      <td>0</td>\n",
       "      <td>0</td>\n",
       "      <td>0</td>\n",
       "      <td>1</td>\n",
       "      <td>0</td>\n",
       "      <td>0</td>\n",
       "    </tr>\n",
       "    <tr>\n",
       "      <th>8521</th>\n",
       "      <td>7.210</td>\n",
       "      <td>1</td>\n",
       "      <td>0.145221</td>\n",
       "      <td>103.1332</td>\n",
       "      <td>8</td>\n",
       "      <td>1.0</td>\n",
       "      <td>2</td>\n",
       "      <td>1845.5976</td>\n",
       "      <td>0</td>\n",
       "      <td>0</td>\n",
       "      <td>...</td>\n",
       "      <td>0</td>\n",
       "      <td>0</td>\n",
       "      <td>0</td>\n",
       "      <td>1</td>\n",
       "      <td>0</td>\n",
       "      <td>0</td>\n",
       "      <td>0</td>\n",
       "      <td>0</td>\n",
       "      <td>1</td>\n",
       "      <td>0</td>\n",
       "    </tr>\n",
       "    <tr>\n",
       "      <th>8522</th>\n",
       "      <td>14.800</td>\n",
       "      <td>0</td>\n",
       "      <td>0.044878</td>\n",
       "      <td>75.4670</td>\n",
       "      <td>2</td>\n",
       "      <td>2.0</td>\n",
       "      <td>0</td>\n",
       "      <td>765.6700</td>\n",
       "      <td>0</td>\n",
       "      <td>0</td>\n",
       "      <td>...</td>\n",
       "      <td>0</td>\n",
       "      <td>0</td>\n",
       "      <td>0</td>\n",
       "      <td>0</td>\n",
       "      <td>1</td>\n",
       "      <td>0</td>\n",
       "      <td>0</td>\n",
       "      <td>1</td>\n",
       "      <td>0</td>\n",
       "      <td>0</td>\n",
       "    </tr>\n",
       "  </tbody>\n",
       "</table>\n",
       "<p>8523 rows × 28 columns</p>\n",
       "</div>"
      ],
      "text/plain": [
       "      Item_Weight  Item_Fat_Content  Item_Visibility  Item_MRP  \\\n",
       "0           9.300                 0         0.016047  249.8092   \n",
       "1           5.920                 1         0.019278   48.2692   \n",
       "2          17.500                 0         0.016760  141.6180   \n",
       "3          19.200                 1         0.000000  182.0950   \n",
       "4           8.930                 0         0.000000   53.8614   \n",
       "...           ...               ...              ...       ...   \n",
       "8518        6.865                 0         0.056783  214.5218   \n",
       "8519        8.380                 1         0.046982  108.1570   \n",
       "8520       10.600                 0         0.035186   85.1224   \n",
       "8521        7.210                 1         0.145221  103.1332   \n",
       "8522       14.800                 0         0.044878   75.4670   \n",
       "\n",
       "      Outlet_Establishment_Year  Outlet_Size  Outlet_Location_Type  \\\n",
       "0                             4          1.0                     0   \n",
       "1                             8          1.0                     2   \n",
       "2                             4          1.0                     0   \n",
       "3                             3          1.0                     2   \n",
       "4                             1          0.0                     2   \n",
       "...                         ...          ...                   ...   \n",
       "8518                          1          0.0                     2   \n",
       "8519                          5          1.0                     1   \n",
       "8520                          6          2.0                     1   \n",
       "8521                          8          1.0                     2   \n",
       "8522                          2          2.0                     0   \n",
       "\n",
       "      Item_Outlet_Sales  Item_Type_Baking Goods  Item_Type_Breads  ...  \\\n",
       "0             3735.1380                       0                 0  ...   \n",
       "1              443.4228                       0                 0  ...   \n",
       "2             2097.2700                       0                 0  ...   \n",
       "3              732.3800                       0                 0  ...   \n",
       "4              994.7052                       0                 0  ...   \n",
       "...                 ...                     ...               ...  ...   \n",
       "8518          2778.3834                       0                 0  ...   \n",
       "8519           549.2850                       1                 0  ...   \n",
       "8520          1193.1136                       0                 0  ...   \n",
       "8521          1845.5976                       0                 0  ...   \n",
       "8522           765.6700                       0                 0  ...   \n",
       "\n",
       "      Item_Type_Meat  Item_Type_Others  Item_Type_Seafood  \\\n",
       "0                  0                 0                  0   \n",
       "1                  0                 0                  0   \n",
       "2                  1                 0                  0   \n",
       "3                  0                 0                  0   \n",
       "4                  0                 0                  0   \n",
       "...              ...               ...                ...   \n",
       "8518               0                 0                  0   \n",
       "8519               0                 0                  0   \n",
       "8520               0                 0                  0   \n",
       "8521               0                 0                  0   \n",
       "8522               0                 0                  0   \n",
       "\n",
       "      Item_Type_Snack Foods  Item_Type_Soft Drinks  Item_Type_Starchy Foods  \\\n",
       "0                         0                      0                        0   \n",
       "1                         0                      1                        0   \n",
       "2                         0                      0                        0   \n",
       "3                         0                      0                        0   \n",
       "4                         0                      0                        0   \n",
       "...                     ...                    ...                      ...   \n",
       "8518                      1                      0                        0   \n",
       "8519                      0                      0                        0   \n",
       "8520                      0                      0                        0   \n",
       "8521                      1                      0                        0   \n",
       "8522                      0                      1                        0   \n",
       "\n",
       "      Outlet_Type_Grocery Store  Outlet_Type_Supermarket Type1  \\\n",
       "0                             0                              1   \n",
       "1                             0                              0   \n",
       "2                             0                              1   \n",
       "3                             1                              0   \n",
       "4                             0                              1   \n",
       "...                         ...                            ...   \n",
       "8518                          0                              1   \n",
       "8519                          0                              1   \n",
       "8520                          0                              1   \n",
       "8521                          0                              0   \n",
       "8522                          0                              1   \n",
       "\n",
       "      Outlet_Type_Supermarket Type2  Outlet_Type_Supermarket Type3  \n",
       "0                                 0                              0  \n",
       "1                                 1                              0  \n",
       "2                                 0                              0  \n",
       "3                                 0                              0  \n",
       "4                                 0                              0  \n",
       "...                             ...                            ...  \n",
       "8518                              0                              0  \n",
       "8519                              0                              0  \n",
       "8520                              0                              0  \n",
       "8521                              1                              0  \n",
       "8522                              0                              0  \n",
       "\n",
       "[8523 rows x 28 columns]"
      ]
     },
     "execution_count": 76,
     "metadata": {},
     "output_type": "execute_result"
    }
   ],
   "source": [
    "df = pd.get_dummies(df,columns = ['Outlet_Type'])\n",
    "df"
   ]
  },
  {
   "cell_type": "code",
   "execution_count": 77,
   "id": "44ad87a8",
   "metadata": {},
   "outputs": [
    {
     "name": "stdout",
     "output_type": "stream",
     "text": [
      "<class 'pandas.core.frame.DataFrame'>\n",
      "RangeIndex: 8523 entries, 0 to 8522\n",
      "Data columns (total 28 columns):\n",
      " #   Column                           Non-Null Count  Dtype  \n",
      "---  ------                           --------------  -----  \n",
      " 0   Item_Weight                      8523 non-null   float64\n",
      " 1   Item_Fat_Content                 8523 non-null   int32  \n",
      " 2   Item_Visibility                  8523 non-null   float64\n",
      " 3   Item_MRP                         8523 non-null   float64\n",
      " 4   Outlet_Establishment_Year        8523 non-null   int64  \n",
      " 5   Outlet_Size                      8523 non-null   float64\n",
      " 6   Outlet_Location_Type             8523 non-null   int32  \n",
      " 7   Item_Outlet_Sales                8523 non-null   float64\n",
      " 8   Item_Type_Baking Goods           8523 non-null   uint8  \n",
      " 9   Item_Type_Breads                 8523 non-null   uint8  \n",
      " 10  Item_Type_Breakfast              8523 non-null   uint8  \n",
      " 11  Item_Type_Canned                 8523 non-null   uint8  \n",
      " 12  Item_Type_Dairy                  8523 non-null   uint8  \n",
      " 13  Item_Type_Frozen Foods           8523 non-null   uint8  \n",
      " 14  Item_Type_Fruits and Vegetables  8523 non-null   uint8  \n",
      " 15  Item_Type_Hard Drinks            8523 non-null   uint8  \n",
      " 16  Item_Type_Health and Hygiene     8523 non-null   uint8  \n",
      " 17  Item_Type_Household              8523 non-null   uint8  \n",
      " 18  Item_Type_Meat                   8523 non-null   uint8  \n",
      " 19  Item_Type_Others                 8523 non-null   uint8  \n",
      " 20  Item_Type_Seafood                8523 non-null   uint8  \n",
      " 21  Item_Type_Snack Foods            8523 non-null   uint8  \n",
      " 22  Item_Type_Soft Drinks            8523 non-null   uint8  \n",
      " 23  Item_Type_Starchy Foods          8523 non-null   uint8  \n",
      " 24  Outlet_Type_Grocery Store        8523 non-null   uint8  \n",
      " 25  Outlet_Type_Supermarket Type1    8523 non-null   uint8  \n",
      " 26  Outlet_Type_Supermarket Type2    8523 non-null   uint8  \n",
      " 27  Outlet_Type_Supermarket Type3    8523 non-null   uint8  \n",
      "dtypes: float64(5), int32(2), int64(1), uint8(20)\n",
      "memory usage: 632.7 KB\n"
     ]
    }
   ],
   "source": [
    "df.info()"
   ]
  },
  {
   "cell_type": "markdown",
   "id": "104c1280",
   "metadata": {},
   "source": [
    "### 3.15 Item_Outlet_Sales"
   ]
  },
  {
   "cell_type": "code",
   "execution_count": 78,
   "id": "249292ac",
   "metadata": {
    "scrolled": true
   },
   "outputs": [
    {
     "data": {
      "text/plain": [
       "0       3735.1380\n",
       "1        443.4228\n",
       "2       2097.2700\n",
       "3        732.3800\n",
       "4        994.7052\n",
       "          ...    \n",
       "8518    2778.3834\n",
       "8519     549.2850\n",
       "8520    1193.1136\n",
       "8521    1845.5976\n",
       "8522     765.6700\n",
       "Name: Item_Outlet_Sales, Length: 8523, dtype: float64"
      ]
     },
     "execution_count": 78,
     "metadata": {},
     "output_type": "execute_result"
    }
   ],
   "source": [
    "df['Item_Outlet_Sales']"
   ]
  },
  {
   "cell_type": "code",
   "execution_count": 79,
   "id": "8cf0d0a2",
   "metadata": {},
   "outputs": [
    {
     "data": {
      "text/plain": [
       "0"
      ]
     },
     "execution_count": 79,
     "metadata": {},
     "output_type": "execute_result"
    }
   ],
   "source": [
    "df['Item_Outlet_Sales'].isnull().sum()"
   ]
  },
  {
   "cell_type": "code",
   "execution_count": 80,
   "id": "e74e9854",
   "metadata": {},
   "outputs": [
    {
     "name": "stdout",
     "output_type": "stream",
     "text": [
      "<class 'pandas.core.frame.DataFrame'>\n",
      "RangeIndex: 8523 entries, 0 to 8522\n",
      "Data columns (total 28 columns):\n",
      " #   Column                           Non-Null Count  Dtype  \n",
      "---  ------                           --------------  -----  \n",
      " 0   Item_Weight                      8523 non-null   float64\n",
      " 1   Item_Fat_Content                 8523 non-null   int32  \n",
      " 2   Item_Visibility                  8523 non-null   float64\n",
      " 3   Item_MRP                         8523 non-null   float64\n",
      " 4   Outlet_Establishment_Year        8523 non-null   int64  \n",
      " 5   Outlet_Size                      8523 non-null   float64\n",
      " 6   Outlet_Location_Type             8523 non-null   int32  \n",
      " 7   Item_Outlet_Sales                8523 non-null   float64\n",
      " 8   Item_Type_Baking Goods           8523 non-null   uint8  \n",
      " 9   Item_Type_Breads                 8523 non-null   uint8  \n",
      " 10  Item_Type_Breakfast              8523 non-null   uint8  \n",
      " 11  Item_Type_Canned                 8523 non-null   uint8  \n",
      " 12  Item_Type_Dairy                  8523 non-null   uint8  \n",
      " 13  Item_Type_Frozen Foods           8523 non-null   uint8  \n",
      " 14  Item_Type_Fruits and Vegetables  8523 non-null   uint8  \n",
      " 15  Item_Type_Hard Drinks            8523 non-null   uint8  \n",
      " 16  Item_Type_Health and Hygiene     8523 non-null   uint8  \n",
      " 17  Item_Type_Household              8523 non-null   uint8  \n",
      " 18  Item_Type_Meat                   8523 non-null   uint8  \n",
      " 19  Item_Type_Others                 8523 non-null   uint8  \n",
      " 20  Item_Type_Seafood                8523 non-null   uint8  \n",
      " 21  Item_Type_Snack Foods            8523 non-null   uint8  \n",
      " 22  Item_Type_Soft Drinks            8523 non-null   uint8  \n",
      " 23  Item_Type_Starchy Foods          8523 non-null   uint8  \n",
      " 24  Outlet_Type_Grocery Store        8523 non-null   uint8  \n",
      " 25  Outlet_Type_Supermarket Type1    8523 non-null   uint8  \n",
      " 26  Outlet_Type_Supermarket Type2    8523 non-null   uint8  \n",
      " 27  Outlet_Type_Supermarket Type3    8523 non-null   uint8  \n",
      "dtypes: float64(5), int32(2), int64(1), uint8(20)\n",
      "memory usage: 632.7 KB\n"
     ]
    }
   ],
   "source": [
    "df.info()"
   ]
  },
  {
   "cell_type": "markdown",
   "id": "b8d63cd1",
   "metadata": {},
   "source": [
    "# 4 Feature Engineering"
   ]
  },
  {
   "cell_type": "markdown",
   "id": "92d6cb8a",
   "metadata": {},
   "source": [
    "### 1. Item_Weight"
   ]
  },
  {
   "cell_type": "code",
   "execution_count": 81,
   "id": "5c0eaf76",
   "metadata": {},
   "outputs": [
    {
     "data": {
      "text/plain": [
       "<AxesSubplot:>"
      ]
     },
     "execution_count": 81,
     "metadata": {},
     "output_type": "execute_result"
    },
    {
     "data": {
      "image/png": "[encoded data removed]",
      "text/plain": [
       "<Figure size 432x288 with 1 Axes>"
      ]
     },
     "metadata": {
      "needs_background": "light"
     },
     "output_type": "display_data"
    }
   ],
   "source": [
    "df[['Item_Weight']].boxplot()"
   ]
  },
  {
   "cell_type": "markdown",
   "id": "5e45e685",
   "metadata": {},
   "source": [
    "### 2. Item_Fat_Content"
   ]
  },
  {
   "cell_type": "code",
   "execution_count": 82,
   "id": "34213e3c",
   "metadata": {},
   "outputs": [
    {
     "data": {
      "text/plain": [
       "<AxesSubplot:>"
      ]
     },
     "execution_count": 82,
     "metadata": {},
     "output_type": "execute_result"
    },
    {
     "data": {
      "image/png": "[encoded data removed]",
      "text/plain": [
       "<Figure size 432x288 with 1 Axes>"
      ]
     },
     "metadata": {
      "needs_background": "light"
     },
     "output_type": "display_data"
    }
   ],
   "source": [
    "df[['Item_Fat_Content']].boxplot()"
   ]
  },
  {
   "cell_type": "markdown",
   "id": "c4fc5a7f",
   "metadata": {},
   "source": [
    "### 3.Item_Visibility"
   ]
  },
  {
   "cell_type": "code",
   "execution_count": 83,
   "id": "b6ae6d83",
   "metadata": {},
   "outputs": [
    {
     "data": {
      "text/plain": [
       "<AxesSubplot:>"
      ]
     },
     "execution_count": 83,
     "metadata": {},
     "output_type": "execute_result"
    },
    {
     "data": {
      "image/png": "[encoded data removed]",
      "text/plain": [
       "<Figure size 432x288 with 1 Axes>"
      ]
     },
     "metadata": {
      "needs_background": "light"
     },
     "output_type": "display_data"
    }
   ],
   "source": [
    "df[['Item_Visibility']].boxplot()"
   ]
  },
  {
   "cell_type": "code",
   "execution_count": 84,
   "id": "e3378bd9",
   "metadata": {},
   "outputs": [
    {
     "name": "stdout",
     "output_type": "stream",
     "text": [
      "q1--> 0.0269894775\n",
      "q2--> 0.053930934\n",
      "q3--> 0.0945852925\n",
      "upper_tail--> 0.195979015\n",
      "lower_tail--> -0.07440424500000001\n"
     ]
    }
   ],
   "source": [
    "q1=df['Item_Visibility'].quantile(0.25)\n",
    "q2=df['Item_Visibility'].quantile(0.50)\n",
    "q3=df['Item_Visibility'].quantile(0.75)\n",
    "\n",
    "iqr = q3-q1\n",
    "\n",
    "upper_tail=q3+1.5*iqr\n",
    "lower_tail=q1-1.5*iqr\n",
    "\n",
    "print('q1-->',q1)\n",
    "print('q2-->',q2)\n",
    "print('q3-->',q3)\n",
    "print('upper_tail-->',upper_tail)\n",
    "print('lower_tail-->',lower_tail)"
   ]
  },
  {
   "cell_type": "code",
   "execution_count": 85,
   "id": "8d57dca0",
   "metadata": {},
   "outputs": [
    {
     "data": {
      "text/html": [
       "<div>\n",
       "<style scoped>\n",
       "    .dataframe tbody tr th:only-of-type {\n",
       "        vertical-align: middle;\n",
       "    }\n",
       "\n",
       "    .dataframe tbody tr th {\n",
       "        vertical-align: top;\n",
       "    }\n",
       "\n",
       "    .dataframe thead th {\n",
       "        text-align: right;\n",
       "    }\n",
       "</style>\n",
       "<table border=\"1\" class=\"dataframe\">\n",
       "  <thead>\n",
       "    <tr style=\"text-align: right;\">\n",
       "      <th></th>\n",
       "      <th>Item_Visibility</th>\n",
       "    </tr>\n",
       "  </thead>\n",
       "  <tbody>\n",
       "    <tr>\n",
       "      <th>49</th>\n",
       "      <td>0.255395</td>\n",
       "    </tr>\n",
       "    <tr>\n",
       "      <th>83</th>\n",
       "      <td>0.293418</td>\n",
       "    </tr>\n",
       "    <tr>\n",
       "      <th>108</th>\n",
       "      <td>0.278974</td>\n",
       "    </tr>\n",
       "    <tr>\n",
       "      <th>174</th>\n",
       "      <td>0.291865</td>\n",
       "    </tr>\n",
       "    <tr>\n",
       "      <th>334</th>\n",
       "      <td>0.204700</td>\n",
       "    </tr>\n",
       "    <tr>\n",
       "      <th>...</th>\n",
       "      <td>...</td>\n",
       "    </tr>\n",
       "    <tr>\n",
       "      <th>8292</th>\n",
       "      <td>0.209163</td>\n",
       "    </tr>\n",
       "    <tr>\n",
       "      <th>8345</th>\n",
       "      <td>0.266397</td>\n",
       "    </tr>\n",
       "    <tr>\n",
       "      <th>8371</th>\n",
       "      <td>0.214125</td>\n",
       "    </tr>\n",
       "    <tr>\n",
       "      <th>8432</th>\n",
       "      <td>0.227261</td>\n",
       "    </tr>\n",
       "    <tr>\n",
       "      <th>8509</th>\n",
       "      <td>0.214306</td>\n",
       "    </tr>\n",
       "  </tbody>\n",
       "</table>\n",
       "<p>144 rows × 1 columns</p>\n",
       "</div>"
      ],
      "text/plain": [
       "      Item_Visibility\n",
       "49           0.255395\n",
       "83           0.293418\n",
       "108          0.278974\n",
       "174          0.291865\n",
       "334          0.204700\n",
       "...               ...\n",
       "8292         0.209163\n",
       "8345         0.266397\n",
       "8371         0.214125\n",
       "8432         0.227261\n",
       "8509         0.214306\n",
       "\n",
       "[144 rows x 1 columns]"
      ]
     },
     "execution_count": 85,
     "metadata": {},
     "output_type": "execute_result"
    }
   ],
   "source": [
    "df[['Item_Visibility']].loc[df['Item_Visibility']>upper_tail]"
   ]
  },
  {
   "cell_type": "code",
   "execution_count": 86,
   "id": "4cd1a983",
   "metadata": {},
   "outputs": [
    {
     "data": {
      "text/html": [
       "<div>\n",
       "<style scoped>\n",
       "    .dataframe tbody tr th:only-of-type {\n",
       "        vertical-align: middle;\n",
       "    }\n",
       "\n",
       "    .dataframe tbody tr th {\n",
       "        vertical-align: top;\n",
       "    }\n",
       "\n",
       "    .dataframe thead th {\n",
       "        text-align: right;\n",
       "    }\n",
       "</style>\n",
       "<table border=\"1\" class=\"dataframe\">\n",
       "  <thead>\n",
       "    <tr style=\"text-align: right;\">\n",
       "      <th></th>\n",
       "      <th>Item_Visibility</th>\n",
       "    </tr>\n",
       "  </thead>\n",
       "  <tbody>\n",
       "  </tbody>\n",
       "</table>\n",
       "</div>"
      ],
      "text/plain": [
       "Empty DataFrame\n",
       "Columns: [Item_Visibility]\n",
       "Index: []"
      ]
     },
     "execution_count": 86,
     "metadata": {},
     "output_type": "execute_result"
    }
   ],
   "source": [
    "df[['Item_Visibility']].loc[df['Item_Visibility']<lower_tail]"
   ]
  },
  {
   "cell_type": "code",
   "execution_count": 87,
   "id": "ea07e3e6",
   "metadata": {},
   "outputs": [
    {
     "data": {
      "text/plain": [
       "0.06613202877895127"
      ]
     },
     "execution_count": 87,
     "metadata": {},
     "output_type": "execute_result"
    }
   ],
   "source": [
    "df['Item_Visibility'].mean()"
   ]
  },
  {
   "cell_type": "code",
   "execution_count": 88,
   "id": "af03a521",
   "metadata": {},
   "outputs": [
    {
     "data": {
      "text/plain": [
       "0.053930934"
      ]
     },
     "execution_count": 88,
     "metadata": {},
     "output_type": "execute_result"
    }
   ],
   "source": [
    "df['Item_Visibility'].median()"
   ]
  },
  {
   "cell_type": "code",
   "execution_count": 89,
   "id": "472bf0cb",
   "metadata": {},
   "outputs": [
    {
     "data": {
      "text/plain": [
       "0.05272914"
      ]
     },
     "execution_count": 89,
     "metadata": {},
     "output_type": "execute_result"
    }
   ],
   "source": [
    "visibility_df=df[['Item_Visibility']].loc[(df['Item_Visibility'] < upper_tail) & \n",
    "                                   (df['Item_Visibility'] > lower_tail)].median()[0]\n",
    "visibility_df                                               "
   ]
  },
  {
   "cell_type": "code",
   "execution_count": 90,
   "id": "ea289195",
   "metadata": {},
   "outputs": [],
   "source": [
    "df.loc[(df['Item_Visibility'] > upper_tail) |\n",
    "       (df['Item_Visibility'] < lower_tail), 'Item_Visibility']=visibility_df"
   ]
  },
  {
   "cell_type": "code",
   "execution_count": 91,
   "id": "5a796940",
   "metadata": {},
   "outputs": [
    {
     "data": {
      "text/html": [
       "<div>\n",
       "<style scoped>\n",
       "    .dataframe tbody tr th:only-of-type {\n",
       "        vertical-align: middle;\n",
       "    }\n",
       "\n",
       "    .dataframe tbody tr th {\n",
       "        vertical-align: top;\n",
       "    }\n",
       "\n",
       "    .dataframe thead th {\n",
       "        text-align: right;\n",
       "    }\n",
       "</style>\n",
       "<table border=\"1\" class=\"dataframe\">\n",
       "  <thead>\n",
       "    <tr style=\"text-align: right;\">\n",
       "      <th></th>\n",
       "      <th>Item_Visibility</th>\n",
       "    </tr>\n",
       "  </thead>\n",
       "  <tbody>\n",
       "  </tbody>\n",
       "</table>\n",
       "</div>"
      ],
      "text/plain": [
       "Empty DataFrame\n",
       "Columns: [Item_Visibility]\n",
       "Index: []"
      ]
     },
     "execution_count": 91,
     "metadata": {},
     "output_type": "execute_result"
    }
   ],
   "source": [
    "df[['Item_Visibility']].loc[df['Item_Visibility']<lower_tail]"
   ]
  },
  {
   "cell_type": "code",
   "execution_count": 92,
   "id": "9c037cae",
   "metadata": {},
   "outputs": [
    {
     "data": {
      "text/html": [
       "<div>\n",
       "<style scoped>\n",
       "    .dataframe tbody tr th:only-of-type {\n",
       "        vertical-align: middle;\n",
       "    }\n",
       "\n",
       "    .dataframe tbody tr th {\n",
       "        vertical-align: top;\n",
       "    }\n",
       "\n",
       "    .dataframe thead th {\n",
       "        text-align: right;\n",
       "    }\n",
       "</style>\n",
       "<table border=\"1\" class=\"dataframe\">\n",
       "  <thead>\n",
       "    <tr style=\"text-align: right;\">\n",
       "      <th></th>\n",
       "      <th>Item_Visibility</th>\n",
       "    </tr>\n",
       "  </thead>\n",
       "  <tbody>\n",
       "  </tbody>\n",
       "</table>\n",
       "</div>"
      ],
      "text/plain": [
       "Empty DataFrame\n",
       "Columns: [Item_Visibility]\n",
       "Index: []"
      ]
     },
     "execution_count": 92,
     "metadata": {},
     "output_type": "execute_result"
    }
   ],
   "source": [
    "df[['Item_Visibility']].loc[df['Item_Visibility']>upper_tail]"
   ]
  },
  {
   "cell_type": "code",
   "execution_count": 93,
   "id": "946fb66f",
   "metadata": {
    "scrolled": true
   },
   "outputs": [
    {
     "data": {
      "text/plain": [
       "<AxesSubplot:>"
      ]
     },
     "execution_count": 93,
     "metadata": {},
     "output_type": "execute_result"
    },
    {
     "data": {
      "image/png": "[encoded data removed]",
      "text/plain": [
       "<Figure size 432x288 with 1 Axes>"
      ]
     },
     "metadata": {
      "needs_background": "light"
     },
     "output_type": "display_data"
    }
   ],
   "source": [
    "df[['Item_Visibility']].boxplot()"
   ]
  },
  {
   "cell_type": "code",
   "execution_count": 94,
   "id": "2a48745d",
   "metadata": {},
   "outputs": [
    {
     "data": {
      "text/plain": [
       "<AxesSubplot:xlabel='Item_Visibility'>"
      ]
     },
     "execution_count": 94,
     "metadata": {},
     "output_type": "execute_result"
    },
    {
     "data": {
      "image/png": "[encoded data removed]",
      "text/plain": [
       "<Figure size 432x288 with 1 Axes>"
      ]
     },
     "metadata": {
      "needs_background": "light"
     },
     "output_type": "display_data"
    }
   ],
   "source": [
    "sns.boxplot(x=np.log(df['Item_Visibility']))"
   ]
  },
  {
   "cell_type": "code",
   "execution_count": 95,
   "id": "69a51bee",
   "metadata": {},
   "outputs": [
    {
     "data": {
      "text/plain": [
       "<AxesSubplot:>"
      ]
     },
     "execution_count": 95,
     "metadata": {},
     "output_type": "execute_result"
    },
    {
     "data": {
      "image/png": "[encoded data removed]",
      "text/plain": [
       "<Figure size 432x288 with 1 Axes>"
      ]
     },
     "metadata": {
      "needs_background": "light"
     },
     "output_type": "display_data"
    }
   ],
   "source": [
    "df[['Item_Visibility']].boxplot()"
   ]
  },
  {
   "cell_type": "code",
   "execution_count": 96,
   "id": "ef7ea729",
   "metadata": {},
   "outputs": [
    {
     "data": {
      "text/plain": [
       "<AxesSubplot:xlabel='Item_Visibility'>"
      ]
     },
     "execution_count": 96,
     "metadata": {},
     "output_type": "execute_result"
    },
    {
     "data": {
      "image/png": "[encoded data removed]",
      "text/plain": [
       "<Figure size 432x288 with 1 Axes>"
      ]
     },
     "metadata": {
      "needs_background": "light"
     },
     "output_type": "display_data"
    }
   ],
   "source": [
    "sns.boxplot(x=np.cbrt(df['Item_Visibility']))"
   ]
  },
  {
   "cell_type": "code",
   "execution_count": 97,
   "id": "82ba5440",
   "metadata": {},
   "outputs": [
    {
     "data": {
      "text/plain": [
       "<AxesSubplot:>"
      ]
     },
     "execution_count": 97,
     "metadata": {},
     "output_type": "execute_result"
    },
    {
     "data": {
      "image/png": "[encoded data removed]",
      "text/plain": [
       "<Figure size 432x288 with 1 Axes>"
      ]
     },
     "metadata": {
      "needs_background": "light"
     },
     "output_type": "display_data"
    }
   ],
   "source": [
    "df[['Item_Visibility']].boxplot()"
   ]
  },
  {
   "cell_type": "markdown",
   "id": "7bb0fb69",
   "metadata": {},
   "source": [
    "### 4. Item_MRP"
   ]
  },
  {
   "cell_type": "code",
   "execution_count": 98,
   "id": "bc9fe2b1",
   "metadata": {},
   "outputs": [
    {
     "data": {
      "text/plain": [
       "<AxesSubplot:>"
      ]
     },
     "execution_count": 98,
     "metadata": {},
     "output_type": "execute_result"
    },
    {
     "data": {
      "image/png": "[encoded data removed]",
      "text/plain": [
       "<Figure size 432x288 with 1 Axes>"
      ]
     },
     "metadata": {
      "needs_background": "light"
     },
     "output_type": "display_data"
    }
   ],
   "source": [
    "df[['Item_MRP']].boxplot()"
   ]
  },
  {
   "cell_type": "markdown",
   "id": "80fb8536",
   "metadata": {},
   "source": [
    "### 6. Outlet_Size"
   ]
  },
  {
   "cell_type": "code",
   "execution_count": 99,
   "id": "71db987e",
   "metadata": {},
   "outputs": [
    {
     "data": {
      "text/plain": [
       "<AxesSubplot:>"
      ]
     },
     "execution_count": 99,
     "metadata": {},
     "output_type": "execute_result"
    },
    {
     "data": {
      "image/png": "[encoded data removed]",
      "text/plain": [
       "<Figure size 432x288 with 1 Axes>"
      ]
     },
     "metadata": {
      "needs_background": "light"
     },
     "output_type": "display_data"
    }
   ],
   "source": [
    "df[['Outlet_Size']].boxplot()"
   ]
  },
  {
   "cell_type": "markdown",
   "id": "90f66658",
   "metadata": {},
   "source": [
    "### 7. Outlet_Location_Type"
   ]
  },
  {
   "cell_type": "code",
   "execution_count": 100,
   "id": "d46a6bae",
   "metadata": {},
   "outputs": [
    {
     "data": {
      "text/plain": [
       "<AxesSubplot:>"
      ]
     },
     "execution_count": 100,
     "metadata": {},
     "output_type": "execute_result"
    },
    {
     "data": {
      "image/png": "[encoded data removed]",
      "text/plain": [
       "<Figure size 432x288 with 1 Axes>"
      ]
     },
     "metadata": {
      "needs_background": "light"
     },
     "output_type": "display_data"
    }
   ],
   "source": [
    "df[['Outlet_Location_Type']].boxplot()"
   ]
  },
  {
   "cell_type": "markdown",
   "id": "d17eb732",
   "metadata": {},
   "source": [
    "# Model Training"
   ]
  },
  {
   "cell_type": "code",
   "execution_count": 101,
   "id": "97d0a1e3",
   "metadata": {},
   "outputs": [
    {
     "name": "stdout",
     "output_type": "stream",
     "text": [
      "<class 'pandas.core.frame.DataFrame'>\n",
      "RangeIndex: 8523 entries, 0 to 8522\n",
      "Data columns (total 28 columns):\n",
      " #   Column                           Non-Null Count  Dtype  \n",
      "---  ------                           --------------  -----  \n",
      " 0   Item_Weight                      8523 non-null   float64\n",
      " 1   Item_Fat_Content                 8523 non-null   int32  \n",
      " 2   Item_Visibility                  8523 non-null   float64\n",
      " 3   Item_MRP                         8523 non-null   float64\n",
      " 4   Outlet_Establishment_Year        8523 non-null   int64  \n",
      " 5   Outlet_Size                      8523 non-null   float64\n",
      " 6   Outlet_Location_Type             8523 non-null   int32  \n",
      " 7   Item_Outlet_Sales                8523 non-null   float64\n",
      " 8   Item_Type_Baking Goods           8523 non-null   uint8  \n",
      " 9   Item_Type_Breads                 8523 non-null   uint8  \n",
      " 10  Item_Type_Breakfast              8523 non-null   uint8  \n",
      " 11  Item_Type_Canned                 8523 non-null   uint8  \n",
      " 12  Item_Type_Dairy                  8523 non-null   uint8  \n",
      " 13  Item_Type_Frozen Foods           8523 non-null   uint8  \n",
      " 14  Item_Type_Fruits and Vegetables  8523 non-null   uint8  \n",
      " 15  Item_Type_Hard Drinks            8523 non-null   uint8  \n",
      " 16  Item_Type_Health and Hygiene     8523 non-null   uint8  \n",
      " 17  Item_Type_Household              8523 non-null   uint8  \n",
      " 18  Item_Type_Meat                   8523 non-null   uint8  \n",
      " 19  Item_Type_Others                 8523 non-null   uint8  \n",
      " 20  Item_Type_Seafood                8523 non-null   uint8  \n",
      " 21  Item_Type_Snack Foods            8523 non-null   uint8  \n",
      " 22  Item_Type_Soft Drinks            8523 non-null   uint8  \n",
      " 23  Item_Type_Starchy Foods          8523 non-null   uint8  \n",
      " 24  Outlet_Type_Grocery Store        8523 non-null   uint8  \n",
      " 25  Outlet_Type_Supermarket Type1    8523 non-null   uint8  \n",
      " 26  Outlet_Type_Supermarket Type2    8523 non-null   uint8  \n",
      " 27  Outlet_Type_Supermarket Type3    8523 non-null   uint8  \n",
      "dtypes: float64(5), int32(2), int64(1), uint8(20)\n",
      "memory usage: 632.7 KB\n"
     ]
    }
   ],
   "source": [
    "df.info()"
   ]
  },
  {
   "cell_type": "code",
   "execution_count": 102,
   "id": "abcf5154",
   "metadata": {},
   "outputs": [],
   "source": [
    "x = df.drop('Item_Outlet_Sales',axis=1)\n",
    "\n",
    "y = df['Item_Outlet_Sales']"
   ]
  },
  {
   "cell_type": "code",
   "execution_count": 103,
   "id": "09c56b68",
   "metadata": {},
   "outputs": [],
   "source": [
    "x_train,x_test,y_train,y_test=train_test_split(x,y,test_size=0.2,random_state=10)"
   ]
  },
  {
   "cell_type": "markdown",
   "id": "6b2f1535",
   "metadata": {},
   "source": [
    "### to create the instance of model"
   ]
  },
  {
   "cell_type": "code",
   "execution_count": 104,
   "id": "f15ff77e",
   "metadata": {},
   "outputs": [],
   "source": [
    "sales_product_model=LinearRegression()"
   ]
  },
  {
   "cell_type": "code",
   "execution_count": 105,
   "id": "0b414ef8",
   "metadata": {},
   "outputs": [
    {
     "data": {
      "text/html": [
       "<style>#sk-container-id-1 {color: black;background-color: white;}#sk-container-id-1 pre{padding: 0;}#sk-container-id-1 div.sk-toggleable {background-color: white;}#sk-container-id-1 label.sk-toggleable__label {cursor: pointer;display: block;width: 100%;margin-bottom: 0;padding: 0.3em;box-sizing: border-box;text-align: center;}#sk-container-id-1 label.sk-toggleable__label-arrow:before {content: \"▸\";float: left;margin-right: 0.25em;color: #696969;}#sk-container-id-1 label.sk-toggleable__label-arrow:hover:before {color: black;}#sk-container-id-1 div.sk-estimator:hover label.sk-toggleable__label-arrow:before {color: black;}#sk-container-id-1 div.sk-toggleable__content {max-height: 0;max-width: 0;overflow: hidden;text-align: left;background-color: #f0f8ff;}#sk-container-id-1 div.sk-toggleable__content pre {margin: 0.2em;color: black;border-radius: 0.25em;background-color: #f0f8ff;}#sk-container-id-1 input.sk-toggleable__control:checked~div.sk-toggleable__content {max-height: 200px;max-width: 100%;overflow: auto;}#sk-container-id-1 input.sk-toggleable__control:checked~label.sk-toggleable__label-arrow:before {content: \"▾\";}#sk-container-id-1 div.sk-estimator input.sk-toggleable__control:checked~label.sk-toggleable__label {background-color: #d4ebff;}#sk-container-id-1 div.sk-label input.sk-toggleable__control:checked~label.sk-toggleable__label {background-color: #d4ebff;}#sk-container-id-1 input.sk-hidden--visually {border: 0;clip: rect(1px 1px 1px 1px);clip: rect(1px, 1px, 1px, 1px);height: 1px;margin: -1px;overflow: hidden;padding: 0;position: absolute;width: 1px;}#sk-container-id-1 div.sk-estimator {font-family: monospace;background-color: #f0f8ff;border: 1px dotted black;border-radius: 0.25em;box-sizing: border-box;margin-bottom: 0.5em;}#sk-container-id-1 div.sk-estimator:hover {background-color: #d4ebff;}#sk-container-id-1 div.sk-parallel-item::after {content: \"\";width: 100%;border-bottom: 1px solid gray;flex-grow: 1;}#sk-container-id-1 div.sk-label:hover label.sk-toggleable__label {background-color: #d4ebff;}#sk-container-id-1 div.sk-serial::before {content: \"\";position: absolute;border-left: 1px solid gray;box-sizing: border-box;top: 0;bottom: 0;left: 50%;z-index: 0;}#sk-container-id-1 div.sk-serial {display: flex;flex-direction: column;align-items: center;background-color: white;padding-right: 0.2em;padding-left: 0.2em;position: relative;}#sk-container-id-1 div.sk-item {position: relative;z-index: 1;}#sk-container-id-1 div.sk-parallel {display: flex;align-items: stretch;justify-content: center;background-color: white;position: relative;}#sk-container-id-1 div.sk-item::before, #sk-container-id-1 div.sk-parallel-item::before {content: \"\";position: absolute;border-left: 1px solid gray;box-sizing: border-box;top: 0;bottom: 0;left: 50%;z-index: -1;}#sk-container-id-1 div.sk-parallel-item {display: flex;flex-direction: column;z-index: 1;position: relative;background-color: white;}#sk-container-id-1 div.sk-parallel-item:first-child::after {align-self: flex-end;width: 50%;}#sk-container-id-1 div.sk-parallel-item:last-child::after {align-self: flex-start;width: 50%;}#sk-container-id-1 div.sk-parallel-item:only-child::after {width: 0;}#sk-container-id-1 div.sk-dashed-wrapped {border: 1px dashed gray;margin: 0 0.4em 0.5em 0.4em;box-sizing: border-box;padding-bottom: 0.4em;background-color: white;}#sk-container-id-1 div.sk-label label {font-family: monospace;font-weight: bold;display: inline-block;line-height: 1.2em;}#sk-container-id-1 div.sk-label-container {text-align: center;}#sk-container-id-1 div.sk-container {/* jupyter's `normalize.less` sets `[hidden] { display: none; }` but bootstrap.min.css set `[hidden] { display: none !important; }` so we also need the `!important` here to be able to override the default hidden behavior on the sphinx rendered scikit-learn.org. See: https://github.com/scikit-learn/scikit-learn/issues/21755 */display: inline-block !important;position: relative;}#sk-container-id-1 div.sk-text-repr-fallback {display: none;}</style><div id=\"sk-container-id-1\" class=\"sk-top-container\"><div class=\"sk-text-repr-fallback\"><pre>LinearRegression()</pre><b>In a Jupyter environment, please rerun this cell to show the HTML representation or trust the notebook. <br />On GitHub, the HTML representation is unable to render, please try loading this page with nbviewer.org.</b></div><div class=\"sk-container\" hidden><div class=\"sk-item\"><div class=\"sk-estimator sk-toggleable\"><input class=\"sk-toggleable__control sk-hidden--visually\" id=\"sk-estimator-id-1\" type=\"checkbox\" checked><label for=\"sk-estimator-id-1\" class=\"sk-toggleable__label sk-toggleable__label-arrow\">LinearRegression</label><div class=\"sk-toggleable__content\"><pre>LinearRegression()</pre></div></div></div></div></div>"
      ],
      "text/plain": [
       "LinearRegression()"
      ]
     },
     "execution_count": 105,
     "metadata": {},
     "output_type": "execute_result"
    }
   ],
   "source": [
    "sales_product_model.fit(x_train,y_train)"
   ]
  },
  {
   "cell_type": "code",
   "execution_count": 106,
   "id": "a6ac2b15",
   "metadata": {},
   "outputs": [
    {
     "data": {
      "text/html": [
       "<div>\n",
       "<style scoped>\n",
       "    .dataframe tbody tr th:only-of-type {\n",
       "        vertical-align: middle;\n",
       "    }\n",
       "\n",
       "    .dataframe tbody tr th {\n",
       "        vertical-align: top;\n",
       "    }\n",
       "\n",
       "    .dataframe thead th {\n",
       "        text-align: right;\n",
       "    }\n",
       "</style>\n",
       "<table border=\"1\" class=\"dataframe\">\n",
       "  <thead>\n",
       "    <tr style=\"text-align: right;\">\n",
       "      <th></th>\n",
       "      <th>Item_Weight</th>\n",
       "      <th>Item_Fat_Content</th>\n",
       "      <th>Item_Visibility</th>\n",
       "      <th>Item_MRP</th>\n",
       "      <th>Outlet_Establishment_Year</th>\n",
       "      <th>Outlet_Size</th>\n",
       "      <th>Outlet_Location_Type</th>\n",
       "      <th>Item_Type_Baking Goods</th>\n",
       "      <th>Item_Type_Breads</th>\n",
       "      <th>Item_Type_Breakfast</th>\n",
       "      <th>...</th>\n",
       "      <th>Item_Type_Meat</th>\n",
       "      <th>Item_Type_Others</th>\n",
       "      <th>Item_Type_Seafood</th>\n",
       "      <th>Item_Type_Snack Foods</th>\n",
       "      <th>Item_Type_Soft Drinks</th>\n",
       "      <th>Item_Type_Starchy Foods</th>\n",
       "      <th>Outlet_Type_Grocery Store</th>\n",
       "      <th>Outlet_Type_Supermarket Type1</th>\n",
       "      <th>Outlet_Type_Supermarket Type2</th>\n",
       "      <th>Outlet_Type_Supermarket Type3</th>\n",
       "    </tr>\n",
       "  </thead>\n",
       "  <tbody>\n",
       "    <tr>\n",
       "      <th>5470</th>\n",
       "      <td>16.000</td>\n",
       "      <td>1</td>\n",
       "      <td>0.065329</td>\n",
       "      <td>78.4986</td>\n",
       "      <td>8</td>\n",
       "      <td>1.0</td>\n",
       "      <td>2</td>\n",
       "      <td>0</td>\n",
       "      <td>0</td>\n",
       "      <td>0</td>\n",
       "      <td>...</td>\n",
       "      <td>0</td>\n",
       "      <td>0</td>\n",
       "      <td>0</td>\n",
       "      <td>0</td>\n",
       "      <td>0</td>\n",
       "      <td>0</td>\n",
       "      <td>0</td>\n",
       "      <td>0</td>\n",
       "      <td>1</td>\n",
       "      <td>0</td>\n",
       "    </tr>\n",
       "    <tr>\n",
       "      <th>8431</th>\n",
       "      <td>19.700</td>\n",
       "      <td>0</td>\n",
       "      <td>0.053331</td>\n",
       "      <td>56.7930</td>\n",
       "      <td>5</td>\n",
       "      <td>1.0</td>\n",
       "      <td>1</td>\n",
       "      <td>0</td>\n",
       "      <td>0</td>\n",
       "      <td>0</td>\n",
       "      <td>...</td>\n",
       "      <td>0</td>\n",
       "      <td>0</td>\n",
       "      <td>0</td>\n",
       "      <td>0</td>\n",
       "      <td>0</td>\n",
       "      <td>0</td>\n",
       "      <td>0</td>\n",
       "      <td>1</td>\n",
       "      <td>0</td>\n",
       "      <td>0</td>\n",
       "    </tr>\n",
       "    <tr>\n",
       "      <th>3557</th>\n",
       "      <td>7.655</td>\n",
       "      <td>0</td>\n",
       "      <td>0.032010</td>\n",
       "      <td>117.2492</td>\n",
       "      <td>5</td>\n",
       "      <td>1.0</td>\n",
       "      <td>1</td>\n",
       "      <td>0</td>\n",
       "      <td>0</td>\n",
       "      <td>0</td>\n",
       "      <td>...</td>\n",
       "      <td>0</td>\n",
       "      <td>0</td>\n",
       "      <td>0</td>\n",
       "      <td>0</td>\n",
       "      <td>0</td>\n",
       "      <td>0</td>\n",
       "      <td>0</td>\n",
       "      <td>1</td>\n",
       "      <td>0</td>\n",
       "      <td>0</td>\n",
       "    </tr>\n",
       "    <tr>\n",
       "      <th>7918</th>\n",
       "      <td>15.200</td>\n",
       "      <td>0</td>\n",
       "      <td>0.033651</td>\n",
       "      <td>108.9912</td>\n",
       "      <td>4</td>\n",
       "      <td>1.0</td>\n",
       "      <td>0</td>\n",
       "      <td>0</td>\n",
       "      <td>0</td>\n",
       "      <td>0</td>\n",
       "      <td>...</td>\n",
       "      <td>0</td>\n",
       "      <td>0</td>\n",
       "      <td>0</td>\n",
       "      <td>0</td>\n",
       "      <td>0</td>\n",
       "      <td>0</td>\n",
       "      <td>0</td>\n",
       "      <td>1</td>\n",
       "      <td>0</td>\n",
       "      <td>0</td>\n",
       "    </tr>\n",
       "    <tr>\n",
       "      <th>4573</th>\n",
       "      <td>12.300</td>\n",
       "      <td>1</td>\n",
       "      <td>0.058106</td>\n",
       "      <td>60.4562</td>\n",
       "      <td>6</td>\n",
       "      <td>2.0</td>\n",
       "      <td>1</td>\n",
       "      <td>0</td>\n",
       "      <td>0</td>\n",
       "      <td>0</td>\n",
       "      <td>...</td>\n",
       "      <td>0</td>\n",
       "      <td>0</td>\n",
       "      <td>0</td>\n",
       "      <td>1</td>\n",
       "      <td>0</td>\n",
       "      <td>0</td>\n",
       "      <td>0</td>\n",
       "      <td>1</td>\n",
       "      <td>0</td>\n",
       "      <td>0</td>\n",
       "    </tr>\n",
       "    <tr>\n",
       "      <th>...</th>\n",
       "      <td>...</td>\n",
       "      <td>...</td>\n",
       "      <td>...</td>\n",
       "      <td>...</td>\n",
       "      <td>...</td>\n",
       "      <td>...</td>\n",
       "      <td>...</td>\n",
       "      <td>...</td>\n",
       "      <td>...</td>\n",
       "      <td>...</td>\n",
       "      <td>...</td>\n",
       "      <td>...</td>\n",
       "      <td>...</td>\n",
       "      <td>...</td>\n",
       "      <td>...</td>\n",
       "      <td>...</td>\n",
       "      <td>...</td>\n",
       "      <td>...</td>\n",
       "      <td>...</td>\n",
       "      <td>...</td>\n",
       "      <td>...</td>\n",
       "    </tr>\n",
       "    <tr>\n",
       "      <th>4829</th>\n",
       "      <td>12.600</td>\n",
       "      <td>0</td>\n",
       "      <td>0.035863</td>\n",
       "      <td>58.3562</td>\n",
       "      <td>0</td>\n",
       "      <td>1.0</td>\n",
       "      <td>2</td>\n",
       "      <td>0</td>\n",
       "      <td>0</td>\n",
       "      <td>0</td>\n",
       "      <td>...</td>\n",
       "      <td>1</td>\n",
       "      <td>0</td>\n",
       "      <td>0</td>\n",
       "      <td>0</td>\n",
       "      <td>0</td>\n",
       "      <td>0</td>\n",
       "      <td>0</td>\n",
       "      <td>0</td>\n",
       "      <td>0</td>\n",
       "      <td>1</td>\n",
       "    </tr>\n",
       "    <tr>\n",
       "      <th>7291</th>\n",
       "      <td>7.520</td>\n",
       "      <td>1</td>\n",
       "      <td>0.044023</td>\n",
       "      <td>183.0950</td>\n",
       "      <td>2</td>\n",
       "      <td>2.0</td>\n",
       "      <td>0</td>\n",
       "      <td>1</td>\n",
       "      <td>0</td>\n",
       "      <td>0</td>\n",
       "      <td>...</td>\n",
       "      <td>0</td>\n",
       "      <td>0</td>\n",
       "      <td>0</td>\n",
       "      <td>0</td>\n",
       "      <td>0</td>\n",
       "      <td>0</td>\n",
       "      <td>0</td>\n",
       "      <td>1</td>\n",
       "      <td>0</td>\n",
       "      <td>0</td>\n",
       "    </tr>\n",
       "    <tr>\n",
       "      <th>1344</th>\n",
       "      <td>12.850</td>\n",
       "      <td>0</td>\n",
       "      <td>0.033173</td>\n",
       "      <td>172.0422</td>\n",
       "      <td>6</td>\n",
       "      <td>2.0</td>\n",
       "      <td>1</td>\n",
       "      <td>0</td>\n",
       "      <td>0</td>\n",
       "      <td>0</td>\n",
       "      <td>...</td>\n",
       "      <td>0</td>\n",
       "      <td>0</td>\n",
       "      <td>0</td>\n",
       "      <td>1</td>\n",
       "      <td>0</td>\n",
       "      <td>0</td>\n",
       "      <td>0</td>\n",
       "      <td>1</td>\n",
       "      <td>0</td>\n",
       "      <td>0</td>\n",
       "    </tr>\n",
       "    <tr>\n",
       "      <th>7293</th>\n",
       "      <td>13.800</td>\n",
       "      <td>1</td>\n",
       "      <td>0.024660</td>\n",
       "      <td>87.4172</td>\n",
       "      <td>3</td>\n",
       "      <td>1.0</td>\n",
       "      <td>2</td>\n",
       "      <td>0</td>\n",
       "      <td>0</td>\n",
       "      <td>0</td>\n",
       "      <td>...</td>\n",
       "      <td>0</td>\n",
       "      <td>0</td>\n",
       "      <td>0</td>\n",
       "      <td>0</td>\n",
       "      <td>0</td>\n",
       "      <td>0</td>\n",
       "      <td>1</td>\n",
       "      <td>0</td>\n",
       "      <td>0</td>\n",
       "      <td>0</td>\n",
       "    </tr>\n",
       "    <tr>\n",
       "      <th>1289</th>\n",
       "      <td>16.350</td>\n",
       "      <td>0</td>\n",
       "      <td>0.013387</td>\n",
       "      <td>105.6280</td>\n",
       "      <td>4</td>\n",
       "      <td>1.0</td>\n",
       "      <td>0</td>\n",
       "      <td>0</td>\n",
       "      <td>0</td>\n",
       "      <td>0</td>\n",
       "      <td>...</td>\n",
       "      <td>0</td>\n",
       "      <td>1</td>\n",
       "      <td>0</td>\n",
       "      <td>0</td>\n",
       "      <td>0</td>\n",
       "      <td>0</td>\n",
       "      <td>0</td>\n",
       "      <td>1</td>\n",
       "      <td>0</td>\n",
       "      <td>0</td>\n",
       "    </tr>\n",
       "  </tbody>\n",
       "</table>\n",
       "<p>6818 rows × 27 columns</p>\n",
       "</div>"
      ],
      "text/plain": [
       "      Item_Weight  Item_Fat_Content  Item_Visibility  Item_MRP  \\\n",
       "5470       16.000                 1         0.065329   78.4986   \n",
       "8431       19.700                 0         0.053331   56.7930   \n",
       "3557        7.655                 0         0.032010  117.2492   \n",
       "7918       15.200                 0         0.033651  108.9912   \n",
       "4573       12.300                 1         0.058106   60.4562   \n",
       "...           ...               ...              ...       ...   \n",
       "4829       12.600                 0         0.035863   58.3562   \n",
       "7291        7.520                 1         0.044023  183.0950   \n",
       "1344       12.850                 0         0.033173  172.0422   \n",
       "7293       13.800                 1         0.024660   87.4172   \n",
       "1289       16.350                 0         0.013387  105.6280   \n",
       "\n",
       "      Outlet_Establishment_Year  Outlet_Size  Outlet_Location_Type  \\\n",
       "5470                          8          1.0                     2   \n",
       "8431                          5          1.0                     1   \n",
       "3557                          5          1.0                     1   \n",
       "7918                          4          1.0                     0   \n",
       "4573                          6          2.0                     1   \n",
       "...                         ...          ...                   ...   \n",
       "4829                          0          1.0                     2   \n",
       "7291                          2          2.0                     0   \n",
       "1344                          6          2.0                     1   \n",
       "7293                          3          1.0                     2   \n",
       "1289                          4          1.0                     0   \n",
       "\n",
       "      Item_Type_Baking Goods  Item_Type_Breads  Item_Type_Breakfast  ...  \\\n",
       "5470                       0                 0                    0  ...   \n",
       "8431                       0                 0                    0  ...   \n",
       "3557                       0                 0                    0  ...   \n",
       "7918                       0                 0                    0  ...   \n",
       "4573                       0                 0                    0  ...   \n",
       "...                      ...               ...                  ...  ...   \n",
       "4829                       0                 0                    0  ...   \n",
       "7291                       1                 0                    0  ...   \n",
       "1344                       0                 0                    0  ...   \n",
       "7293                       0                 0                    0  ...   \n",
       "1289                       0                 0                    0  ...   \n",
       "\n",
       "      Item_Type_Meat  Item_Type_Others  Item_Type_Seafood  \\\n",
       "5470               0                 0                  0   \n",
       "8431               0                 0                  0   \n",
       "3557               0                 0                  0   \n",
       "7918               0                 0                  0   \n",
       "4573               0                 0                  0   \n",
       "...              ...               ...                ...   \n",
       "4829               1                 0                  0   \n",
       "7291               0                 0                  0   \n",
       "1344               0                 0                  0   \n",
       "7293               0                 0                  0   \n",
       "1289               0                 1                  0   \n",
       "\n",
       "      Item_Type_Snack Foods  Item_Type_Soft Drinks  Item_Type_Starchy Foods  \\\n",
       "5470                      0                      0                        0   \n",
       "8431                      0                      0                        0   \n",
       "3557                      0                      0                        0   \n",
       "7918                      0                      0                        0   \n",
       "4573                      1                      0                        0   \n",
       "...                     ...                    ...                      ...   \n",
       "4829                      0                      0                        0   \n",
       "7291                      0                      0                        0   \n",
       "1344                      1                      0                        0   \n",
       "7293                      0                      0                        0   \n",
       "1289                      0                      0                        0   \n",
       "\n",
       "      Outlet_Type_Grocery Store  Outlet_Type_Supermarket Type1  \\\n",
       "5470                          0                              0   \n",
       "8431                          0                              1   \n",
       "3557                          0                              1   \n",
       "7918                          0                              1   \n",
       "4573                          0                              1   \n",
       "...                         ...                            ...   \n",
       "4829                          0                              0   \n",
       "7291                          0                              1   \n",
       "1344                          0                              1   \n",
       "7293                          1                              0   \n",
       "1289                          0                              1   \n",
       "\n",
       "      Outlet_Type_Supermarket Type2  Outlet_Type_Supermarket Type3  \n",
       "5470                              1                              0  \n",
       "8431                              0                              0  \n",
       "3557                              0                              0  \n",
       "7918                              0                              0  \n",
       "4573                              0                              0  \n",
       "...                             ...                            ...  \n",
       "4829                              0                              1  \n",
       "7291                              0                              0  \n",
       "1344                              0                              0  \n",
       "7293                              0                              0  \n",
       "1289                              0                              0  \n",
       "\n",
       "[6818 rows x 27 columns]"
      ]
     },
     "execution_count": 106,
     "metadata": {},
     "output_type": "execute_result"
    }
   ],
   "source": [
    "x_train"
   ]
  },
  {
   "cell_type": "code",
   "execution_count": 107,
   "id": "065978ad",
   "metadata": {
    "scrolled": true
   },
   "outputs": [
    {
     "data": {
      "text/html": [
       "<div>\n",
       "<style scoped>\n",
       "    .dataframe tbody tr th:only-of-type {\n",
       "        vertical-align: middle;\n",
       "    }\n",
       "\n",
       "    .dataframe tbody tr th {\n",
       "        vertical-align: top;\n",
       "    }\n",
       "\n",
       "    .dataframe thead th {\n",
       "        text-align: right;\n",
       "    }\n",
       "</style>\n",
       "<table border=\"1\" class=\"dataframe\">\n",
       "  <thead>\n",
       "    <tr style=\"text-align: right;\">\n",
       "      <th></th>\n",
       "      <th>Item_Weight</th>\n",
       "      <th>Item_Fat_Content</th>\n",
       "      <th>Item_Visibility</th>\n",
       "      <th>Item_MRP</th>\n",
       "      <th>Outlet_Establishment_Year</th>\n",
       "      <th>Outlet_Size</th>\n",
       "      <th>Outlet_Location_Type</th>\n",
       "      <th>Item_Type_Baking Goods</th>\n",
       "      <th>Item_Type_Breads</th>\n",
       "      <th>Item_Type_Breakfast</th>\n",
       "      <th>...</th>\n",
       "      <th>Item_Type_Meat</th>\n",
       "      <th>Item_Type_Others</th>\n",
       "      <th>Item_Type_Seafood</th>\n",
       "      <th>Item_Type_Snack Foods</th>\n",
       "      <th>Item_Type_Soft Drinks</th>\n",
       "      <th>Item_Type_Starchy Foods</th>\n",
       "      <th>Outlet_Type_Grocery Store</th>\n",
       "      <th>Outlet_Type_Supermarket Type1</th>\n",
       "      <th>Outlet_Type_Supermarket Type2</th>\n",
       "      <th>Outlet_Type_Supermarket Type3</th>\n",
       "    </tr>\n",
       "  </thead>\n",
       "  <tbody>\n",
       "    <tr>\n",
       "      <th>7186</th>\n",
       "      <td>12.600</td>\n",
       "      <td>0</td>\n",
       "      <td>0.097430</td>\n",
       "      <td>172.8738</td>\n",
       "      <td>0</td>\n",
       "      <td>1.0</td>\n",
       "      <td>2</td>\n",
       "      <td>0</td>\n",
       "      <td>0</td>\n",
       "      <td>0</td>\n",
       "      <td>...</td>\n",
       "      <td>0</td>\n",
       "      <td>0</td>\n",
       "      <td>0</td>\n",
       "      <td>0</td>\n",
       "      <td>1</td>\n",
       "      <td>0</td>\n",
       "      <td>0</td>\n",
       "      <td>0</td>\n",
       "      <td>0</td>\n",
       "      <td>1</td>\n",
       "    </tr>\n",
       "    <tr>\n",
       "      <th>2283</th>\n",
       "      <td>7.895</td>\n",
       "      <td>1</td>\n",
       "      <td>0.094567</td>\n",
       "      <td>104.5332</td>\n",
       "      <td>2</td>\n",
       "      <td>2.0</td>\n",
       "      <td>0</td>\n",
       "      <td>0</td>\n",
       "      <td>0</td>\n",
       "      <td>1</td>\n",
       "      <td>...</td>\n",
       "      <td>0</td>\n",
       "      <td>0</td>\n",
       "      <td>0</td>\n",
       "      <td>0</td>\n",
       "      <td>0</td>\n",
       "      <td>0</td>\n",
       "      <td>0</td>\n",
       "      <td>1</td>\n",
       "      <td>0</td>\n",
       "      <td>0</td>\n",
       "    </tr>\n",
       "    <tr>\n",
       "      <th>2206</th>\n",
       "      <td>12.650</td>\n",
       "      <td>1</td>\n",
       "      <td>0.076199</td>\n",
       "      <td>191.3846</td>\n",
       "      <td>5</td>\n",
       "      <td>1.0</td>\n",
       "      <td>1</td>\n",
       "      <td>0</td>\n",
       "      <td>0</td>\n",
       "      <td>0</td>\n",
       "      <td>...</td>\n",
       "      <td>0</td>\n",
       "      <td>0</td>\n",
       "      <td>0</td>\n",
       "      <td>0</td>\n",
       "      <td>0</td>\n",
       "      <td>0</td>\n",
       "      <td>0</td>\n",
       "      <td>1</td>\n",
       "      <td>0</td>\n",
       "      <td>0</td>\n",
       "    </tr>\n",
       "    <tr>\n",
       "      <th>5446</th>\n",
       "      <td>17.600</td>\n",
       "      <td>1</td>\n",
       "      <td>0.039382</td>\n",
       "      <td>98.0410</td>\n",
       "      <td>8</td>\n",
       "      <td>1.0</td>\n",
       "      <td>2</td>\n",
       "      <td>0</td>\n",
       "      <td>0</td>\n",
       "      <td>0</td>\n",
       "      <td>...</td>\n",
       "      <td>0</td>\n",
       "      <td>0</td>\n",
       "      <td>0</td>\n",
       "      <td>1</td>\n",
       "      <td>0</td>\n",
       "      <td>0</td>\n",
       "      <td>0</td>\n",
       "      <td>0</td>\n",
       "      <td>1</td>\n",
       "      <td>0</td>\n",
       "    </tr>\n",
       "    <tr>\n",
       "      <th>6380</th>\n",
       "      <td>20.600</td>\n",
       "      <td>1</td>\n",
       "      <td>0.048033</td>\n",
       "      <td>188.2556</td>\n",
       "      <td>5</td>\n",
       "      <td>1.0</td>\n",
       "      <td>1</td>\n",
       "      <td>0</td>\n",
       "      <td>0</td>\n",
       "      <td>0</td>\n",
       "      <td>...</td>\n",
       "      <td>0</td>\n",
       "      <td>0</td>\n",
       "      <td>0</td>\n",
       "      <td>0</td>\n",
       "      <td>0</td>\n",
       "      <td>0</td>\n",
       "      <td>0</td>\n",
       "      <td>1</td>\n",
       "      <td>0</td>\n",
       "      <td>0</td>\n",
       "    </tr>\n",
       "    <tr>\n",
       "      <th>...</th>\n",
       "      <td>...</td>\n",
       "      <td>...</td>\n",
       "      <td>...</td>\n",
       "      <td>...</td>\n",
       "      <td>...</td>\n",
       "      <td>...</td>\n",
       "      <td>...</td>\n",
       "      <td>...</td>\n",
       "      <td>...</td>\n",
       "      <td>...</td>\n",
       "      <td>...</td>\n",
       "      <td>...</td>\n",
       "      <td>...</td>\n",
       "      <td>...</td>\n",
       "      <td>...</td>\n",
       "      <td>...</td>\n",
       "      <td>...</td>\n",
       "      <td>...</td>\n",
       "      <td>...</td>\n",
       "      <td>...</td>\n",
       "      <td>...</td>\n",
       "    </tr>\n",
       "    <tr>\n",
       "      <th>2879</th>\n",
       "      <td>12.600</td>\n",
       "      <td>1</td>\n",
       "      <td>0.069909</td>\n",
       "      <td>163.2868</td>\n",
       "      <td>0</td>\n",
       "      <td>2.0</td>\n",
       "      <td>0</td>\n",
       "      <td>0</td>\n",
       "      <td>0</td>\n",
       "      <td>0</td>\n",
       "      <td>...</td>\n",
       "      <td>0</td>\n",
       "      <td>0</td>\n",
       "      <td>0</td>\n",
       "      <td>0</td>\n",
       "      <td>1</td>\n",
       "      <td>0</td>\n",
       "      <td>1</td>\n",
       "      <td>0</td>\n",
       "      <td>0</td>\n",
       "      <td>0</td>\n",
       "    </tr>\n",
       "    <tr>\n",
       "      <th>6094</th>\n",
       "      <td>5.485</td>\n",
       "      <td>0</td>\n",
       "      <td>0.071558</td>\n",
       "      <td>165.7842</td>\n",
       "      <td>3</td>\n",
       "      <td>1.0</td>\n",
       "      <td>2</td>\n",
       "      <td>0</td>\n",
       "      <td>0</td>\n",
       "      <td>0</td>\n",
       "      <td>...</td>\n",
       "      <td>0</td>\n",
       "      <td>0</td>\n",
       "      <td>0</td>\n",
       "      <td>0</td>\n",
       "      <td>0</td>\n",
       "      <td>0</td>\n",
       "      <td>1</td>\n",
       "      <td>0</td>\n",
       "      <td>0</td>\n",
       "      <td>0</td>\n",
       "    </tr>\n",
       "    <tr>\n",
       "      <th>1598</th>\n",
       "      <td>15.700</td>\n",
       "      <td>1</td>\n",
       "      <td>0.018969</td>\n",
       "      <td>61.9536</td>\n",
       "      <td>5</td>\n",
       "      <td>1.0</td>\n",
       "      <td>1</td>\n",
       "      <td>0</td>\n",
       "      <td>0</td>\n",
       "      <td>0</td>\n",
       "      <td>...</td>\n",
       "      <td>0</td>\n",
       "      <td>0</td>\n",
       "      <td>0</td>\n",
       "      <td>0</td>\n",
       "      <td>0</td>\n",
       "      <td>0</td>\n",
       "      <td>0</td>\n",
       "      <td>1</td>\n",
       "      <td>0</td>\n",
       "      <td>0</td>\n",
       "    </tr>\n",
       "    <tr>\n",
       "      <th>8012</th>\n",
       "      <td>13.650</td>\n",
       "      <td>0</td>\n",
       "      <td>0.035954</td>\n",
       "      <td>185.2924</td>\n",
       "      <td>6</td>\n",
       "      <td>2.0</td>\n",
       "      <td>1</td>\n",
       "      <td>0</td>\n",
       "      <td>0</td>\n",
       "      <td>0</td>\n",
       "      <td>...</td>\n",
       "      <td>0</td>\n",
       "      <td>0</td>\n",
       "      <td>0</td>\n",
       "      <td>1</td>\n",
       "      <td>0</td>\n",
       "      <td>0</td>\n",
       "      <td>0</td>\n",
       "      <td>1</td>\n",
       "      <td>0</td>\n",
       "      <td>0</td>\n",
       "    </tr>\n",
       "    <tr>\n",
       "      <th>7756</th>\n",
       "      <td>12.600</td>\n",
       "      <td>1</td>\n",
       "      <td>0.127639</td>\n",
       "      <td>104.5332</td>\n",
       "      <td>0</td>\n",
       "      <td>1.0</td>\n",
       "      <td>2</td>\n",
       "      <td>1</td>\n",
       "      <td>0</td>\n",
       "      <td>0</td>\n",
       "      <td>...</td>\n",
       "      <td>0</td>\n",
       "      <td>0</td>\n",
       "      <td>0</td>\n",
       "      <td>0</td>\n",
       "      <td>0</td>\n",
       "      <td>0</td>\n",
       "      <td>0</td>\n",
       "      <td>0</td>\n",
       "      <td>0</td>\n",
       "      <td>1</td>\n",
       "    </tr>\n",
       "  </tbody>\n",
       "</table>\n",
       "<p>1705 rows × 27 columns</p>\n",
       "</div>"
      ],
      "text/plain": [
       "      Item_Weight  Item_Fat_Content  Item_Visibility  Item_MRP  \\\n",
       "7186       12.600                 0         0.097430  172.8738   \n",
       "2283        7.895                 1         0.094567  104.5332   \n",
       "2206       12.650                 1         0.076199  191.3846   \n",
       "5446       17.600                 1         0.039382   98.0410   \n",
       "6380       20.600                 1         0.048033  188.2556   \n",
       "...           ...               ...              ...       ...   \n",
       "2879       12.600                 1         0.069909  163.2868   \n",
       "6094        5.485                 0         0.071558  165.7842   \n",
       "1598       15.700                 1         0.018969   61.9536   \n",
       "8012       13.650                 0         0.035954  185.2924   \n",
       "7756       12.600                 1         0.127639  104.5332   \n",
       "\n",
       "      Outlet_Establishment_Year  Outlet_Size  Outlet_Location_Type  \\\n",
       "7186                          0          1.0                     2   \n",
       "2283                          2          2.0                     0   \n",
       "2206                          5          1.0                     1   \n",
       "5446                          8          1.0                     2   \n",
       "6380                          5          1.0                     1   \n",
       "...                         ...          ...                   ...   \n",
       "2879                          0          2.0                     0   \n",
       "6094                          3          1.0                     2   \n",
       "1598                          5          1.0                     1   \n",
       "8012                          6          2.0                     1   \n",
       "7756                          0          1.0                     2   \n",
       "\n",
       "      Item_Type_Baking Goods  Item_Type_Breads  Item_Type_Breakfast  ...  \\\n",
       "7186                       0                 0                    0  ...   \n",
       "2283                       0                 0                    1  ...   \n",
       "2206                       0                 0                    0  ...   \n",
       "5446                       0                 0                    0  ...   \n",
       "6380                       0                 0                    0  ...   \n",
       "...                      ...               ...                  ...  ...   \n",
       "2879                       0                 0                    0  ...   \n",
       "6094                       0                 0                    0  ...   \n",
       "1598                       0                 0                    0  ...   \n",
       "8012                       0                 0                    0  ...   \n",
       "7756                       1                 0                    0  ...   \n",
       "\n",
       "      Item_Type_Meat  Item_Type_Others  Item_Type_Seafood  \\\n",
       "7186               0                 0                  0   \n",
       "2283               0                 0                  0   \n",
       "2206               0                 0                  0   \n",
       "5446               0                 0                  0   \n",
       "6380               0                 0                  0   \n",
       "...              ...               ...                ...   \n",
       "2879               0                 0                  0   \n",
       "6094               0                 0                  0   \n",
       "1598               0                 0                  0   \n",
       "8012               0                 0                  0   \n",
       "7756               0                 0                  0   \n",
       "\n",
       "      Item_Type_Snack Foods  Item_Type_Soft Drinks  Item_Type_Starchy Foods  \\\n",
       "7186                      0                      1                        0   \n",
       "2283                      0                      0                        0   \n",
       "2206                      0                      0                        0   \n",
       "5446                      1                      0                        0   \n",
       "6380                      0                      0                        0   \n",
       "...                     ...                    ...                      ...   \n",
       "2879                      0                      1                        0   \n",
       "6094                      0                      0                        0   \n",
       "1598                      0                      0                        0   \n",
       "8012                      1                      0                        0   \n",
       "7756                      0                      0                        0   \n",
       "\n",
       "      Outlet_Type_Grocery Store  Outlet_Type_Supermarket Type1  \\\n",
       "7186                          0                              0   \n",
       "2283                          0                              1   \n",
       "2206                          0                              1   \n",
       "5446                          0                              0   \n",
       "6380                          0                              1   \n",
       "...                         ...                            ...   \n",
       "2879                          1                              0   \n",
       "6094                          1                              0   \n",
       "1598                          0                              1   \n",
       "8012                          0                              1   \n",
       "7756                          0                              0   \n",
       "\n",
       "      Outlet_Type_Supermarket Type2  Outlet_Type_Supermarket Type3  \n",
       "7186                              0                              1  \n",
       "2283                              0                              0  \n",
       "2206                              0                              0  \n",
       "5446                              1                              0  \n",
       "6380                              0                              0  \n",
       "...                             ...                            ...  \n",
       "2879                              0                              0  \n",
       "6094                              0                              0  \n",
       "1598                              0                              0  \n",
       "8012                              0                              0  \n",
       "7756                              0                              1  \n",
       "\n",
       "[1705 rows x 27 columns]"
      ]
     },
     "execution_count": 107,
     "metadata": {},
     "output_type": "execute_result"
    }
   ],
   "source": [
    "x_test"
   ]
  },
  {
   "cell_type": "markdown",
   "id": "b64e1fad",
   "metadata": {},
   "source": [
    "# Metric Evalution"
   ]
  },
  {
   "cell_type": "code",
   "execution_count": 108,
   "id": "037e55db",
   "metadata": {},
   "outputs": [],
   "source": [
    "y_pred_test = sales_product_model.predict(x_test)"
   ]
  },
  {
   "cell_type": "code",
   "execution_count": 109,
   "id": "2fe5edee",
   "metadata": {},
   "outputs": [
    {
     "name": "stdout",
     "output_type": "stream",
     "text": [
      "mse--> 1266763.0268950935\n",
      "rmse--> 1125.505676083019\n",
      "mae--> 829.9701455832018\n",
      "r2 score--> 0.5732522598406207\n"
     ]
    }
   ],
   "source": [
    "# testing data\n",
    "y_pred_test = sales_product_model.predict(x_test)\n",
    "mse = mean_squared_error(y_test,y_pred_test)\n",
    "print('mse-->',mse)\n",
    "rmse = np.sqrt(mse)\n",
    "print('rmse-->',rmse)\n",
    "mae = mean_absolute_error(y_test,y_pred_test)\n",
    "print('mae-->',mae)\n",
    "r2 = r2_score(y_test,y_pred_test)\n",
    "print('r2 score-->',r2)"
   ]
  },
  {
   "cell_type": "code",
   "execution_count": 110,
   "id": "42c7bc40",
   "metadata": {},
   "outputs": [
    {
     "name": "stdout",
     "output_type": "stream",
     "text": [
      "mse--> 1276142.7295337133\n",
      "rmse--> 1129.6648748782593\n",
      "mae--> 837.7169252803349\n",
      "r2 score--> 0.5595653153214434\n"
     ]
    }
   ],
   "source": [
    "# training data\n",
    "y_pred_train = sales_product_model.predict(x_train)\n",
    "mse = mean_squared_error(y_train,y_pred_train)\n",
    "print('mse-->',mse)\n",
    "rmse = np.sqrt(mse)\n",
    "print('rmse-->',rmse)\n",
    "mae = mean_absolute_error(y_train,y_pred_train)\n",
    "print('mae-->',mae)\n",
    "r2 = r2_score(y_train,y_pred_train)\n",
    "print('r2 score-->',r2)"
   ]
  },
  {
   "cell_type": "code",
   "execution_count": null,
   "id": "90f4a582",
   "metadata": {},
   "outputs": [],
   "source": []
  },
  {
   "cell_type": "markdown",
   "id": "a83e047f",
   "metadata": {},
   "source": [
    "# Testing on Single Row"
   ]
  },
  {
   "cell_type": "code",
   "execution_count": 111,
   "id": "0c6eddd5",
   "metadata": {
    "scrolled": true
   },
   "outputs": [
    {
     "data": {
      "text/plain": [
       "27"
      ]
     },
     "execution_count": 111,
     "metadata": {},
     "output_type": "execute_result"
    }
   ],
   "source": [
    "column_names = x.columns\n",
    "len(column_names)"
   ]
  },
  {
   "cell_type": "code",
   "execution_count": 112,
   "id": "5a13b5c0",
   "metadata": {
    "scrolled": true
   },
   "outputs": [
    {
     "data": {
      "text/html": [
       "<div>\n",
       "<style scoped>\n",
       "    .dataframe tbody tr th:only-of-type {\n",
       "        vertical-align: middle;\n",
       "    }\n",
       "\n",
       "    .dataframe tbody tr th {\n",
       "        vertical-align: top;\n",
       "    }\n",
       "\n",
       "    .dataframe thead th {\n",
       "        text-align: right;\n",
       "    }\n",
       "</style>\n",
       "<table border=\"1\" class=\"dataframe\">\n",
       "  <thead>\n",
       "    <tr style=\"text-align: right;\">\n",
       "      <th></th>\n",
       "      <th>0</th>\n",
       "    </tr>\n",
       "  </thead>\n",
       "  <tbody>\n",
       "    <tr>\n",
       "      <th>Item_Weight</th>\n",
       "      <td>9.300000</td>\n",
       "    </tr>\n",
       "    <tr>\n",
       "      <th>Item_Fat_Content</th>\n",
       "      <td>0.000000</td>\n",
       "    </tr>\n",
       "    <tr>\n",
       "      <th>Item_Visibility</th>\n",
       "      <td>0.016047</td>\n",
       "    </tr>\n",
       "    <tr>\n",
       "      <th>Item_MRP</th>\n",
       "      <td>249.809200</td>\n",
       "    </tr>\n",
       "    <tr>\n",
       "      <th>Outlet_Establishment_Year</th>\n",
       "      <td>4.000000</td>\n",
       "    </tr>\n",
       "    <tr>\n",
       "      <th>Outlet_Size</th>\n",
       "      <td>1.000000</td>\n",
       "    </tr>\n",
       "    <tr>\n",
       "      <th>Outlet_Location_Type</th>\n",
       "      <td>0.000000</td>\n",
       "    </tr>\n",
       "    <tr>\n",
       "      <th>Item_Type_Baking Goods</th>\n",
       "      <td>0.000000</td>\n",
       "    </tr>\n",
       "    <tr>\n",
       "      <th>Item_Type_Breads</th>\n",
       "      <td>0.000000</td>\n",
       "    </tr>\n",
       "    <tr>\n",
       "      <th>Item_Type_Breakfast</th>\n",
       "      <td>0.000000</td>\n",
       "    </tr>\n",
       "    <tr>\n",
       "      <th>Item_Type_Canned</th>\n",
       "      <td>0.000000</td>\n",
       "    </tr>\n",
       "    <tr>\n",
       "      <th>Item_Type_Dairy</th>\n",
       "      <td>1.000000</td>\n",
       "    </tr>\n",
       "    <tr>\n",
       "      <th>Item_Type_Frozen Foods</th>\n",
       "      <td>0.000000</td>\n",
       "    </tr>\n",
       "    <tr>\n",
       "      <th>Item_Type_Fruits and Vegetables</th>\n",
       "      <td>0.000000</td>\n",
       "    </tr>\n",
       "    <tr>\n",
       "      <th>Item_Type_Hard Drinks</th>\n",
       "      <td>0.000000</td>\n",
       "    </tr>\n",
       "    <tr>\n",
       "      <th>Item_Type_Health and Hygiene</th>\n",
       "      <td>0.000000</td>\n",
       "    </tr>\n",
       "    <tr>\n",
       "      <th>Item_Type_Household</th>\n",
       "      <td>0.000000</td>\n",
       "    </tr>\n",
       "    <tr>\n",
       "      <th>Item_Type_Meat</th>\n",
       "      <td>0.000000</td>\n",
       "    </tr>\n",
       "    <tr>\n",
       "      <th>Item_Type_Others</th>\n",
       "      <td>0.000000</td>\n",
       "    </tr>\n",
       "    <tr>\n",
       "      <th>Item_Type_Seafood</th>\n",
       "      <td>0.000000</td>\n",
       "    </tr>\n",
       "    <tr>\n",
       "      <th>Item_Type_Snack Foods</th>\n",
       "      <td>0.000000</td>\n",
       "    </tr>\n",
       "    <tr>\n",
       "      <th>Item_Type_Soft Drinks</th>\n",
       "      <td>0.000000</td>\n",
       "    </tr>\n",
       "    <tr>\n",
       "      <th>Item_Type_Starchy Foods</th>\n",
       "      <td>0.000000</td>\n",
       "    </tr>\n",
       "    <tr>\n",
       "      <th>Outlet_Type_Grocery Store</th>\n",
       "      <td>0.000000</td>\n",
       "    </tr>\n",
       "    <tr>\n",
       "      <th>Outlet_Type_Supermarket Type1</th>\n",
       "      <td>1.000000</td>\n",
       "    </tr>\n",
       "    <tr>\n",
       "      <th>Outlet_Type_Supermarket Type2</th>\n",
       "      <td>0.000000</td>\n",
       "    </tr>\n",
       "    <tr>\n",
       "      <th>Outlet_Type_Supermarket Type3</th>\n",
       "      <td>0.000000</td>\n",
       "    </tr>\n",
       "  </tbody>\n",
       "</table>\n",
       "</div>"
      ],
      "text/plain": [
       "                                          0\n",
       "Item_Weight                        9.300000\n",
       "Item_Fat_Content                   0.000000\n",
       "Item_Visibility                    0.016047\n",
       "Item_MRP                         249.809200\n",
       "Outlet_Establishment_Year          4.000000\n",
       "Outlet_Size                        1.000000\n",
       "Outlet_Location_Type               0.000000\n",
       "Item_Type_Baking Goods             0.000000\n",
       "Item_Type_Breads                   0.000000\n",
       "Item_Type_Breakfast                0.000000\n",
       "Item_Type_Canned                   0.000000\n",
       "Item_Type_Dairy                    1.000000\n",
       "Item_Type_Frozen Foods             0.000000\n",
       "Item_Type_Fruits and Vegetables    0.000000\n",
       "Item_Type_Hard Drinks              0.000000\n",
       "Item_Type_Health and Hygiene       0.000000\n",
       "Item_Type_Household                0.000000\n",
       "Item_Type_Meat                     0.000000\n",
       "Item_Type_Others                   0.000000\n",
       "Item_Type_Seafood                  0.000000\n",
       "Item_Type_Snack Foods              0.000000\n",
       "Item_Type_Soft Drinks              0.000000\n",
       "Item_Type_Starchy Foods            0.000000\n",
       "Outlet_Type_Grocery Store          0.000000\n",
       "Outlet_Type_Supermarket Type1      1.000000\n",
       "Outlet_Type_Supermarket Type2      0.000000\n",
       "Outlet_Type_Supermarket Type3      0.000000"
      ]
     },
     "execution_count": 112,
     "metadata": {},
     "output_type": "execute_result"
    }
   ],
   "source": [
    "x.head(1).T"
   ]
  },
  {
   "cell_type": "code",
   "execution_count": 113,
   "id": "806d466c",
   "metadata": {},
   "outputs": [
    {
     "data": {
      "text/plain": [
       "Index(['Item_Weight', 'Item_Fat_Content', 'Item_Visibility', 'Item_MRP',\n",
       "       'Outlet_Establishment_Year', 'Outlet_Size', 'Outlet_Location_Type',\n",
       "       'Item_Type_Baking Goods', 'Item_Type_Breads', 'Item_Type_Breakfast',\n",
       "       'Item_Type_Canned', 'Item_Type_Dairy', 'Item_Type_Frozen Foods',\n",
       "       'Item_Type_Fruits and Vegetables', 'Item_Type_Hard Drinks',\n",
       "       'Item_Type_Health and Hygiene', 'Item_Type_Household', 'Item_Type_Meat',\n",
       "       'Item_Type_Others', 'Item_Type_Seafood', 'Item_Type_Snack Foods',\n",
       "       'Item_Type_Soft Drinks', 'Item_Type_Starchy Foods',\n",
       "       'Outlet_Type_Grocery Store', 'Outlet_Type_Supermarket Type1',\n",
       "       'Outlet_Type_Supermarket Type2', 'Outlet_Type_Supermarket Type3'],\n",
       "      dtype='object')"
      ]
     },
     "execution_count": 113,
     "metadata": {},
     "output_type": "execute_result"
    }
   ],
   "source": [
    "column_names"
   ]
  },
  {
   "cell_type": "code",
   "execution_count": 114,
   "id": "657bba8c",
   "metadata": {},
   "outputs": [
    {
     "name": "stdout",
     "output_type": "stream",
     "text": [
      "fat_value--> {'Low Fat': 0, 'Regular': 1}\n",
      "year_value--> {1985: 0, 1987: 1, 1999: 4, 1997: 2, 2004: 6, 2002: 5, 2009: 8, 2007: 7, 1998: 3}\n",
      "outlet_size--> {'Medium': 1, 'Small': 2, 'High': 0}\n",
      "outlet_location_type--> {'Tier 3': 3350, 'Tier 2': 2785, 'Tier 1': 2388}\n"
     ]
    }
   ],
   "source": [
    "fat_value = {'Low Fat': 0, 'Regular': 1}\n",
    "print('fat_value-->',fat_value)\n",
    "year_value = {1985: 0,1987: 1,1999: 4,1997: 2,2004: 6,2002: 5,2009: 8,2007: 7,1998: 3}\n",
    "print('year_value-->',year_value)\n",
    "outlet_size = {'Medium': 1, 'Small': 2, 'High': 0}\n",
    "print('outlet_size-->',outlet_size)\n",
    "outlet_location_type = {'Tier 3': 3350, 'Tier 2': 2785, 'Tier 1': 2388}\n",
    "print('outlet_location_type-->',outlet_location_type)"
   ]
  },
  {
   "cell_type": "code",
   "execution_count": 115,
   "id": "07679ea3",
   "metadata": {},
   "outputs": [
    {
     "name": "stdout",
     "output_type": "stream",
     "text": [
      "Item_Type--> Item_Type_Fruits and Vegetables\n",
      "Outlet_Type--> Outlet_Type_Grocery Store\n"
     ]
    }
   ],
   "source": [
    "Item_Weight = 15.6\n",
    "Item_Fat_Content = 'Regular'\n",
    "Item_Visibility = 0.05687\n",
    "Item_MRP = 325.55\n",
    "Outlet_Establishment_Year = 2009\n",
    "Outlet_Size = 'High'\n",
    "Outlet_Location_Type = 'Tier 3'\n",
    "Item_Type = 'Fruits and Vegetables'\n",
    "Outlet_Type = 'Grocery Store'\n",
    "# one hot encoding\n",
    "\n",
    "Item_Type_col = 'Item_Type_' + Item_Type\n",
    "print('Item_Type-->',Item_Type_col)\n",
    "\n",
    "\n",
    "Outlet_Type_col = 'Outlet_Type_' + Outlet_Type\n",
    "print('Outlet_Type-->',Outlet_Type_col)\n",
    "\n",
    "\n",
    "\n",
    "# sales of product = ?"
   ]
  },
  {
   "cell_type": "code",
   "execution_count": 116,
   "id": "4ec263b9",
   "metadata": {},
   "outputs": [
    {
     "data": {
      "text/plain": [
       "{'Item_Fat_Content': {'Low Fat': 0, 'Regular': 1},\n",
       " 'Outlet_Establishment_Year': {1985: 0,\n",
       "  1987: 1,\n",
       "  1999: 4,\n",
       "  1997: 2,\n",
       "  2004: 6,\n",
       "  2002: 5,\n",
       "  2009: 8,\n",
       "  2007: 7,\n",
       "  1998: 3},\n",
       " 'Outlet_Size': {'Medium': 1, 'Small': 2, 'High': 0},\n",
       " 'Outlet_Location_Type': {'Tier 3': 3350, 'Tier 2': 2785, 'Tier 1': 2388},\n",
       " 'columns': ['Item_Weight',\n",
       "  'Item_Fat_Content',\n",
       "  'Item_Visibility',\n",
       "  'Item_MRP',\n",
       "  'Outlet_Establishment_Year',\n",
       "  'Outlet_Size',\n",
       "  'Outlet_Location_Type',\n",
       "  'Item_Type_Baking Goods',\n",
       "  'Item_Type_Breads',\n",
       "  'Item_Type_Breakfast',\n",
       "  'Item_Type_Canned',\n",
       "  'Item_Type_Dairy',\n",
       "  'Item_Type_Frozen Foods',\n",
       "  'Item_Type_Fruits and Vegetables',\n",
       "  'Item_Type_Hard Drinks',\n",
       "  'Item_Type_Health and Hygiene',\n",
       "  'Item_Type_Household',\n",
       "  'Item_Type_Meat',\n",
       "  'Item_Type_Others',\n",
       "  'Item_Type_Seafood',\n",
       "  'Item_Type_Snack Foods',\n",
       "  'Item_Type_Soft Drinks',\n",
       "  'Item_Type_Starchy Foods',\n",
       "  'Outlet_Type_Grocery Store',\n",
       "  'Outlet_Type_Supermarket Type1',\n",
       "  'Outlet_Type_Supermarket Type2',\n",
       "  'Outlet_Type_Supermarket Type3']}"
      ]
     },
     "execution_count": 116,
     "metadata": {},
     "output_type": "execute_result"
    }
   ],
   "source": [
    "sales_data_col = {\"Item_Fat_Content\":fat_value, \"Outlet_Establishment_Year\":year_value,\"Outlet_Size\":outlet_size,\n",
    "                  \"Outlet_Location_Type\":outlet_location_type, \"columns\":list(column_names)}\n",
    "sales_data_col"
   ]
  },
  {
   "cell_type": "code",
   "execution_count": 117,
   "id": "0f8ffe28",
   "metadata": {},
   "outputs": [
    {
     "data": {
      "text/plain": [
       "3350"
      ]
     },
     "execution_count": 117,
     "metadata": {},
     "output_type": "execute_result"
    }
   ],
   "source": [
    "# label encoding\n",
    "sales_data_col['Item_Fat_Content'][Item_Fat_Content]\n",
    "sales_data_col['Outlet_Establishment_Year'][Outlet_Establishment_Year]\n",
    "sales_data_col['Outlet_Size'][Outlet_Size]\n",
    "sales_data_col['Outlet_Location_Type'][Outlet_Location_Type]"
   ]
  },
  {
   "cell_type": "code",
   "execution_count": 118,
   "id": "5ee4b14c",
   "metadata": {},
   "outputs": [
    {
     "data": {
      "text/plain": [
       "array([0, 0, 0, 0, 0, 0, 0, 0, 0, 0, 0, 0, 0, 0, 0, 0, 0, 0, 0, 0, 0, 0,\n",
       "       0, 0, 0, 0, 0])"
      ]
     },
     "execution_count": 118,
     "metadata": {},
     "output_type": "execute_result"
    }
   ],
   "source": [
    "array = np.zeros(len(column_names), dtype = int)\n",
    "array"
   ]
  },
  {
   "cell_type": "code",
   "execution_count": 119,
   "id": "0616c2f3",
   "metadata": {
    "scrolled": true
   },
   "outputs": [
    {
     "name": "stdout",
     "output_type": "stream",
     "text": [
      "Item_Type--> Item_Type_Fruits and Vegetables\n",
      "Outlet_Type--> Outlet_Type_Grocery Store\n",
      "Item_Type_index--> 13\n",
      "Outlet_Type_index--> 23\n"
     ]
    }
   ],
   "source": [
    "# one hot encoding\n",
    "\n",
    "Item_Type_col = 'Item_Type_' + Item_Type\n",
    "print('Item_Type-->',Item_Type_col)\n",
    "\n",
    "\n",
    "Outlet_Type_col = 'Outlet_Type_' + Outlet_Type\n",
    "print('Outlet_Type-->',Outlet_Type_col)\n",
    "\n",
    "Item_Type_index = np.where(column_names == Item_Type_col)[0][0]\n",
    "print('Item_Type_index-->',Item_Type_index)\n",
    "\n",
    "Outlet_Type_index = np.where(column_names == Outlet_Type_col)[0][0]\n",
    "print('Outlet_Type_index-->',Outlet_Type_index)"
   ]
  },
  {
   "cell_type": "code",
   "execution_count": 120,
   "id": "38dcd81d",
   "metadata": {},
   "outputs": [
    {
     "data": {
      "text/plain": [
       "array([  15,    1,    0,  325, 2009,    8,    0, 3350,    0,    0,    0,\n",
       "          0,    0,    1,    0,    0,    0,    0,    0,    0,    0,    0,\n",
       "          0,    1,    0,    0,    0])"
      ]
     },
     "execution_count": 120,
     "metadata": {},
     "output_type": "execute_result"
    }
   ],
   "source": [
    "array[0] = Item_Weight\n",
    "array[1] = sales_data_col['Item_Fat_Content'][Item_Fat_Content]\n",
    "array[2] = Item_Visibility\n",
    "array[3] = Item_MRP\n",
    "array[4] = Outlet_Establishment_Year\n",
    "array[5] = sales_data_col['Outlet_Establishment_Year'][Outlet_Establishment_Year]\n",
    "array[6] = sales_data_col['Outlet_Size'][Outlet_Size]\n",
    "array[7] = sales_data_col['Outlet_Location_Type'][Outlet_Location_Type]\n",
    "\n",
    "array[Item_Type_index] = 1\n",
    "array[Outlet_Type_index] = 1\n",
    "array"
   ]
  },
  {
   "cell_type": "code",
   "execution_count": 126,
   "id": "f28521a2",
   "metadata": {},
   "outputs": [
    {
     "name": "stdout",
     "output_type": "stream",
     "text": [
      "Predict sales product specific outlet --> -1568.201 /- Rs\n"
     ]
    }
   ],
   "source": [
    "predict_sales_product = sales_product_model.predict([array])[0]\n",
    "print(f\"Predict sales product specific outlet --> {np.around(predict_sales_product,3)} /- Rs\")"
   ]
  },
  {
   "cell_type": "code",
   "execution_count": 122,
   "id": "8997ca6c",
   "metadata": {},
   "outputs": [],
   "source": [
    "# Save Model in Pickle File\n",
    "import pickle\n",
    "\n",
    "with open(\"sales_product_model.pkl\", \"wb\") as f:\n",
    "    pickle.dump(sales_product_model, f)"
   ]
  },
  {
   "cell_type": "code",
   "execution_count": 123,
   "id": "e905b55f",
   "metadata": {},
   "outputs": [],
   "source": [
    "# Store all this values in JSON\n",
    "\n",
    "import json\n",
    "\n",
    "with open(\"sales_data_col.json\", \"w\") as f:\n",
    "    json.dump(sales_data_col, f)"
   ]
  },
  {
   "cell_type": "markdown",
   "id": "432ab9b2",
   "metadata": {},
   "source": [
    "### Thank you Satyajit sir!!!"
   ]
  }
 ],
 "metadata": {
  "kernelspec": {
   "display_name": "Python 3 (ipykernel)",
   "language": "python",
   "name": "python3"
  },
  "language_info": {
   "codemirror_mode": {
    "name": "ipython",
    "version": 3
   },
   "file_extension": ".py",
   "mimetype": "text/x-python",
   "name": "python",
   "nbconvert_exporter": "python",
   "pygments_lexer": "ipython3",
   "version": "3.9.12"
  }
 },
 "nbformat": 4,
 "nbformat_minor": 5
}
